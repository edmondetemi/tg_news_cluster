{
 "cells": [
  {
   "cell_type": "code",
   "execution_count": 1,
   "metadata": {},
   "outputs": [],
   "source": [
    "%load_ext autoreload\n",
    "%autoreload 2"
   ]
  },
  {
   "cell_type": "code",
   "execution_count": null,
   "metadata": {},
   "outputs": [],
   "source": [
    "import os\n",
    "import glob\n",
    "from collections import Counter\n",
    "import math\n",
    "import re\n",
    "import json\n",
    "import subprocess\n",
    "import time\n",
    "\n",
    "import pandas as pd\n",
    "import umap\n",
    "from tqdm.autonotebook import tqdm, trange\n",
    "from nltk.tokenize import word_tokenize\n",
    "\n",
    "import numpy as np\n",
    "from sklearn.datasets import load_iris, load_digits\n",
    "from sklearn.model_selection import train_test_split, KFold\n",
    "\n",
    "from sklearn.preprocessing import LabelBinarizer, LabelEncoder\n",
    "from sklearn.metrics import confusion_matrix, roc_auc_score, f1_score\n",
    "from sklearn.utils import class_weight\n",
    "\n",
    "from tensorflow import keras\n",
    "\n",
    "import tensorflow as tf\n",
    "gpus = tf.config.experimental.list_physical_devices('GPU')\n",
    "#assert gpus\n",
    "try:\n",
    "    # Currently, memory growth needs to be the same across GPUs\n",
    "    for gpu in gpus:\n",
    "        tf.config.experimental.set_memory_growth(gpu, True)\n",
    "\n",
    "    logical_gpus = tf.config.experimental.list_logical_devices('GPU')\n",
    "    print(len(gpus), \"Physical GPUs,\", len(logical_gpus), \"Logical GPUs\")\n",
    "except RuntimeError as e:\n",
    "    # Memory growth must be set before GPUs have been initialized\n",
    "    print(e)\n",
    "\n",
    "\n",
    "import seaborn as sns\n",
    "from sklearn.preprocessing import LabelBinarizer, LabelEncoder\n",
    "from sklearn.metrics import confusion_matrix\n",
    "from sklearn.utils import class_weight\n",
    "layers = keras.layers\n",
    "models = keras.models\n",
    "from tensorflow.keras.optimizers import Adam\n",
    "from tensorflow.keras import backend as K\n",
    "import numpy.random as rng\n",
    "from tensorflow.keras import regularizers\n",
    "\n",
    "import convert_model\n",
    "\n",
    "import language\n",
    "import text_nn\n",
    "import grab_category\n",
    "import news"
   ]
  },
  {
   "cell_type": "code",
   "execution_count": 3,
   "metadata": {},
   "outputs": [
    {
     "name": "stdout",
     "output_type": "stream",
     "text": [
      "199344 train examples, 36394 test\n"
     ]
    }
   ],
   "source": [
    "folders_train = [\"data/sample\", \"data/sample3\", \"data/sample4\"]\n",
    "folder_test = \"data/sample2\"\n",
    "\n",
    "file_info_train = []\n",
    "for folder in folders_train:\n",
    "    file_info_train.extend(language.read_dump(os.path.join(folder, \"langs\", \"dump\", \"en\")))\n",
    "\n",
    "file_info_test = language.read_dump(os.path.join(folder_test, \"langs\", \"dump\", \"en\"))\n",
    "print(f\"{len(file_info_train)} train examples, {len(file_info_test)} test\")"
   ]
  },
  {
   "cell_type": "code",
   "execution_count": 4,
   "metadata": {},
   "outputs": [],
   "source": [
    "categories = [\"society\", \"economy\", \"sports\", \"science\", \"other\", \"technology\", \"entertainment\", \"junk\"]\n",
    "\n",
    "def load_cats(folder):\n",
    "    return {fi.file: cat for cat in categories for fi in language.read_dump(os.path.join(folder, \"categories_en\", \"dump\", cat))}\n",
    "    \n",
    "\n",
    "cats_train = {}\n",
    "for folder in folders_train:\n",
    "    cats_train.update(load_cats(folder))\n",
    "    \n",
    "cats_test = load_cats(folder_test)\n",
    "            \n",
    "assert len(cats_train) == len(file_info_train)\n",
    "assert len(cats_test) == len(file_info_test)\n",
    "\n",
    "def linear_cats(cats, file_info):\n",
    "    res = [\"unknown\"] * len(file_info)\n",
    "    for i, fi in enumerate(file_info):\n",
    "        res[i] = cats[fi.file]\n",
    "    \n",
    "    assert \"unknown\" not in res\n",
    "    return res\n",
    "\n",
    "cats_train = linear_cats(cats_train, file_info_train)\n",
    "cats_test = linear_cats(cats_test, file_info_test)"
   ]
  },
  {
   "cell_type": "code",
   "execution_count": 5,
   "metadata": {},
   "outputs": [
    {
     "name": "stdout",
     "output_type": "stream",
     "text": [
      "0 GT examples loaded: 0 junk, 0 category mismatches\n",
      "0 GT groups, 0 non-matching\n"
     ]
    }
   ],
   "source": [
    "file_to_idx = {fi.file: i for i, fi in enumerate(file_info_test)}\n",
    "\n",
    "manual_ground_truth = {}\n",
    "gt_junk = 0\n",
    "gt_cat_mismatch = 0\n",
    "if os.path.exists(os.path.join(folder_test, \"gt_groups_en\")):\n",
    "    with open(os.path.join(folder_test, \"gt_groups_en\")) as f:\n",
    "        for line in f:\n",
    "            idx1, idx2, match = line.strip().split(\"\\t\")\n",
    "            idx1 = file_to_idx[idx1]\n",
    "            idx2 = file_to_idx[idx2]\n",
    "            if cats_test[idx1] == \"junk\" or cats_test[idx2] == \"junk\":\n",
    "                gt_junk += 1\n",
    "                continue\n",
    "                \n",
    "            if cats_test[idx1] != cats_test[idx2]:\n",
    "                gt_cat_mismatch += 1\n",
    "                continue\n",
    "                \n",
    "            match = match == \"True\"\n",
    "            manual_ground_truth[(idx1, idx2)] = match\n",
    "            manual_ground_truth[(idx2, idx1)] = match\n",
    "            \n",
    "def get_gt_groups(gt):\n",
    "    idx_group = {idx1: {idx1} for idx1, _ in gt.keys()}\n",
    "    not_matching = set()\n",
    "    for (idx1, idx2), match in gt.items():\n",
    "        if match:\n",
    "            if idx_group[idx1] is not idx_group[idx2]:\n",
    "                idx_group[idx1].update(idx_group[idx2])\n",
    "                for ii in idx_group[idx2]:\n",
    "                    idx_group[ii] = idx_group[idx1]\n",
    "        else:\n",
    "            not_matching.add((idx1, idx2))\n",
    "    \n",
    "    for idx1, idx2 in not_matching:\n",
    "        assert idx2 not in idx_group[idx1], f\"{idx1} and {idx2} are both matching and non-matching in GT. Group: {idx_group[idx1]}\"\n",
    "        \n",
    "    return idx_group, not_matching\n",
    "        \n",
    "print(f\"{len(manual_ground_truth) // 2} GT examples loaded: {gt_junk} junk, {gt_cat_mismatch} category mismatches\")\n",
    "gt_groups = get_gt_groups(manual_ground_truth)\n",
    "print(f\"{len(gt_groups[0])} GT groups, {len(gt_groups[1])} non-matching\")"
   ]
  },
  {
   "cell_type": "code",
   "execution_count": 6,
   "metadata": {},
   "outputs": [
    {
     "data": {
      "text/plain": [
       "''"
      ]
     },
     "execution_count": 6,
     "metadata": {},
     "output_type": "execute_result"
    }
   ],
   "source": [
    "count_input = [f\"{len(file_info_train)}\"]\n",
    "for fi in file_info_train:\n",
    "    count_input.append(\" \".join(token for token in news.simple_tokenize_with_numbers(fi.text)))\n",
    "\n",
    "language.run_process([\"groups/Release/news_groups\", \"count\", \"data/chunk_counts_en.bin\"], \"\\n\".join(count_input) + \"\\n\")"
   ]
  },
  {
   "cell_type": "code",
   "execution_count": 8,
   "metadata": {},
   "outputs": [],
   "source": [
    "def calc_similarities(texts, similarity_cutoff):\n",
    "    p = subprocess.Popen([\"groups/Release/news_groups\", \"group\", \"data/chunk_counts_en.bin\", str(similarity_cutoff)], stdin=subprocess.PIPE, stdout=subprocess.PIPE,\n",
    "                         encoding=\"utf8\", text=True)\n",
    "    \n",
    "    process_input = f\"{len(texts)}\\n\"\n",
    "    for text in texts:\n",
    "        process_input += text + \"\\n\"\n",
    "\n",
    "    output, _ = p.communicate(process_input)\n",
    "\n",
    "    similarities = [[y.split(\" \") for y in x.strip().split(\"\\t\") if y != \"\"] for x in output[:-1].split(\"\\n\")]           \n",
    "    similarities = [[(int(idx), float(sim)) for idx, sim in sims] for sims in similarities]\n",
    "    return similarities\n",
    "\n",
    "def calc_similarities_within_categories(texts, similarity_cutoff, cats):\n",
    "    all_cats = frozenset(cats) - frozenset([\"junk\"])\n",
    "    res = []\n",
    "    for cat in all_cats:\n",
    "        idx = [i for i, c in enumerate(cats) if c == cat]\n",
    "        cat_sims = calc_similarities([texts[i] for i in idx], similarity_cutoff)\n",
    "        res.extend([[(idx[idx2], sim) for idx2, sim in sims] for sims in cat_sims])\n",
    "    \n",
    "    return res"
   ]
  },
  {
   "cell_type": "code",
   "execution_count": 9,
   "metadata": {},
   "outputs": [],
   "source": [
    "def calc_groups(texts, similarity_cutoff):\n",
    "    process_input = \"\\n\".join([f\"{len(texts)}\"] + texts) + \"\\n\"\n",
    "    output = language.run_process([\"groups/Release/news_groups\", \"group\", \"data/chunk_counts_en.bin\", str(similarity_cutoff)], process_input)\n",
    "    groups = [[int(y) for y in x.strip().split(\"\\t\") if y != \"\"] for x in output[:-1].split(\"\\n\")]           \n",
    "    return groups\n",
    "\n",
    "def calc_groups_within_categories(texts, similarity_cutoff, cats):\n",
    "    all_cats = frozenset(cats) - frozenset([\"junk\"])\n",
    "    res = []\n",
    "    for cat in all_cats:\n",
    "        idx = [i for i, c in enumerate(cats) if c == cat]\n",
    "        cat_groups = calc_groups([texts[i] for i in idx], similarity_cutoff)\n",
    "        res.extend([[idx[i] for i in group] for group in cat_groups])\n",
    "    \n",
    "    return res"
   ]
  },
  {
   "cell_type": "code",
   "execution_count": 10,
   "metadata": {},
   "outputs": [],
   "source": [
    "def idx_group(groups):\n",
    "    idx_group = {}\n",
    "    for group in groups:\n",
    "        for idx in group:\n",
    "            idx_group[idx] = group\n",
    "            \n",
    "    return idx_group\n",
    "\n",
    "def group_comparison(gt_groups, test_groups):\n",
    "    gt_idx_group, gt_not_matching = gt_groups\n",
    "    test_idx_group = idx_group(test_groups)\n",
    "    true_assignments = []\n",
    "    test_assignments = []\n",
    "    for idx1, others in gt_idx_group.items():\n",
    "        for idx2 in others:\n",
    "            if idx1 < idx2:\n",
    "                true_assignments.append(True)                \n",
    "                test_assignments.append(idx1 in test_idx_group and idx2 in test_idx_group[idx1])\n",
    "    \n",
    "    for idx1, idx2 in gt_not_matching:\n",
    "        true_assignments.append(False)\n",
    "        test_assignments.append(not (idx1 in test_idx_group and idx2 in test_idx_group[idx1]))\n",
    "        \n",
    "    return true_assignments, test_assignments\n",
    "\n",
    "def group_to_embedding_comparison(gt_groups, embs):\n",
    "    gt_idx_group, gt_not_matching = gt_groups\n",
    "    true_assignments = []\n",
    "    test_assignments = []\n",
    "    for idx1, others in gt_idx_group.items():\n",
    "        for idx2 in others:\n",
    "            if idx1 < idx2:\n",
    "                true_assignments.append(0)                \n",
    "                test_assignments.append(((embs[idx1, :] - embs[idx2, :]) ** 2).sum())\n",
    "    \n",
    "    for idx1, idx2 in gt_not_matching:\n",
    "        true_assignments.append(1)\n",
    "        test_assignments.append(((embs[idx1, :] - embs[idx2, :]) ** 2).sum())\n",
    "        \n",
    "    return true_assignments, test_assignments"
   ]
  },
  {
   "cell_type": "code",
   "execution_count": 11,
   "metadata": {},
   "outputs": [
    {
     "name": "stdout",
     "output_type": "stream",
     "text": [
      "0\n"
     ]
    }
   ],
   "source": [
    "def calc_groups_within_categories_fi(file_info):    \n",
    "    texts = [\" \".join(token for token in news.simple_tokenize_with_numbers(fi.text)[:500]) for fi in file_info]\n",
    "    return calc_groups_within_categories(texts, 3.5, cats_test)\n",
    "\n",
    "\n",
    "#train_groups = calc_groups_within_categories_fi(file_info_train)\n",
    "test_groups = calc_groups_within_categories_fi(file_info_test)\n",
    "print(f1_score(*group_comparison(gt_groups, test_groups), average=\"weighted\"))"
   ]
  },
  {
   "cell_type": "code",
   "execution_count": 12,
   "metadata": {},
   "outputs": [],
   "source": [
    "with open(\"data/grouping_output.txt\", \"w\") as f:\n",
    "    for group in sorted(test_groups, key=lambda x: len(x), reverse=True):\n",
    "        f.write(f\"GROUP SIZE: {len(group)}\\n\")\n",
    "        f.write(f\"{cats_test[group[0]]}\\n\")\n",
    "        for idx in group:\n",
    "            f.write(f\"{file_info_test[idx].title}\\n\\t{file_info_test[idx].text[:800]}\\n\")\n",
    "            \n",
    "        f.write(\"\\n\\n\")"
   ]
  },
  {
   "cell_type": "code",
   "execution_count": 82,
   "metadata": {},
   "outputs": [
    {
     "data": {
      "text/plain": [
       "0.25150606036909395"
      ]
     },
     "execution_count": 82,
     "metadata": {},
     "output_type": "execute_result"
    }
   ],
   "source": [
    "f1_score(*group_comparison(gt_groups, g), average=\"weighted\")"
   ]
  },
  {
   "cell_type": "code",
   "execution_count": 96,
   "metadata": {},
   "outputs": [
    {
     "name": "stdout",
     "output_type": "stream",
     "text": [
      "5474\n",
      "67\n",
      "40\n",
      "\t«Разборки двух партий». Экс-глава МИД Украины заявил об отсутствии «Украиногейта» в США и предложил название «Американогейт»\n",
      "\tТейлор: Джулиани хотел, чтобы Украина вмешалась в американские выборы\n",
      "\tСуд в США обязал обнародовать детали разговора Зеленского и Трампа\n",
      "\tОпрос: Более половины американцев поддерживают импичмент Трампа\n",
      "\tТрамп хотел, чтобы Зеленский сделал заявление о расследовании, Байдене и Клинтон — топ-чиновник Госдепа\n",
      "\tВ Белом доме не увидели доказательств quid pro quo в показаниях топ-дипломатов США\n",
      "\tКонгресс опубликовал показания Волкера и Сондленда в деле об импичменте Трампа\n",
      "\tИмпичмент Трампа: Болтон не пришел на слушания в Конгресс\n",
      "\tТоп-дипломат США признал связь между военной помощью и расследованием против Байдена\n",
      "\tБолее половины американцев поддерживают импичмент Трампа\n",
      "\tВ Конгрессе допустили, что расследование по импичменту «зацепит» не только Украину\n",
      "\t«Мистификация демократов». Трамп заявил, что нет причин анализировать его разговор с Зеленским\n",
      "\tТрамп посоветовал Пелоси очистить улицы от наркотиков вместо траты времени на его импичмент\n",
      "\tИмпичмент Трампа: министр энергетики США отказался давать показания в Конгрессе\n",
      "\tИнформатор в деле об импичменте Трампа согласился дать письменные показания\n",
      "\tС первых дней президентства Трамп ненавидел Украину — WP\n",
      "\tРасследование об импичменте: в Конгресс вызвали руководителя администрации Трампа\n",
      "\tМожет привести к падению. Топ-дипломат США назвал проблемой влияние Коломойского на Зеленского\n",
      "\tВ США назвали вероятное имя информатора, который пожаловался на разговор Трампа и Зеленского\n",
      "\tЗеленский был готов объявить о расследовании против Байдена — NYT\n",
      "\tГосдеп США согласился опубликовать документы, связанные с Украиной и Джулиани\n",
      "\tWP: Трамп требовал от генпрокурора публично заявить, что в его разговоре с Зеленским не было ничего незаконного\n",
      "\tТрамп предложил допросить Байдена в Конгрессе\n",
      "\tГосдеп США по требованию суда согласился опубликовать документы, связанные с Украиной\n",
      "\tВолкер: Джулиани формировал негативное отношение Трампа к Украине\n",
      "\tГосдеп США согласился опубликовать документы, связанные с Украиной\n",
      "\tБелый дом «готов» к возможному импичменту Трампа\n",
      "\tВ обмен на помощь. Трамп хотел, чтобы Зеленский объявил о расследовании против Burisma — топ дипломат\n",
      "\tПосол США в ЕС рассказал о предложении Трампа возобновить помощь Украине в обмен на расследование о сыне Джо Байдена\n",
      "\tТрамп назвал «жульничеством» согласие информатора дать письменные показания в деле об импичменте\n",
      "\tТрамп предложил допросить Байдена в Конгрессе\n",
      "\tТрамп не отправил поздравительное письмо Зеленскому — топ-дипломат США\n",
      "\tБыл озадачен. Волкер рассказал о своем впечатлении от телефонного разговора Трампа и Зеленского\n",
      "\tТрамп ненавидел Украину до встречи с Зеленским - СМИ\n",
      "\tТрамп заявил о желании пригласить Зеленского в США\n",
      "\tКонгресс США назначил первые публичные слушания по импичменту Трампа\n",
      "\tУкраина и США согласовали оборонное сотрудничество\n",
      "\tДаже если Трамп требовал услуги от украинской власти, это не было эффективно — конгрессмен\n",
      "\tБелый дом: В действиях Трампа нет оснований для импичмента\n",
      "\tУкраина и США подписали оборонный протокол\n"
     ]
    }
   ],
   "source": [
    "print(len(g))\n",
    "m = max(len(gg) for gg in g)\n",
    "print(m)\n",
    "g.sort(key=lambda gg: len(gg), reverse=True)\n",
    "gi = 3\n",
    "print(len(g[gi]))\n",
    "for idx2 in g[gi]:\n",
    "    print(\"\\t\" + file_info_test[idx2].title)"
   ]
  },
  {
   "cell_type": "code",
   "execution_count": 34,
   "metadata": {},
   "outputs": [],
   "source": [
    "texts = [\" \".join(token for token in news.simple_tokenize_with_numbers(fi.text)) for fi in file_info_test]\n",
    "s = camax_group_idximilarities_within_categories(texts, 3.5, cats_test)"
   ]
  },
  {
   "cell_type": "code",
   "execution_count": 39,
   "metadata": {},
   "outputs": [],
   "source": [
    "with open(\"data/graph.tsv\", \"w\") as f:\n",
    "    for idx1, sims in enumerate(s):\n",
    "        for idx2, sim in sims:\n",
    "            f.write(f\"{idx1}\\t{idx2}\\t{sim}\\n\")\n",
    "            f.write(f\"{idx2}\\t{idx1}\\t{sim}\\n\")"
   ]
  },
  {
   "cell_type": "code",
   "execution_count": 81,
   "metadata": {},
   "outputs": [
    {
     "data": {
      "text/plain": [
       "23078"
      ]
     },
     "execution_count": 81,
     "metadata": {},
     "output_type": "execute_result"
    }
   ],
   "source": [
    "len([i for i, z in enumerate(s) if len(z) != 0])"
   ]
  },
  {
   "cell_type": "code",
   "execution_count": 92,
   "metadata": {},
   "outputs": [],
   "source": [
    "relabel = {}\n",
    "with open(\"data/relabel\") as f:\n",
    "    for line in f:\n",
    "        my_lab, other_lab = map(int, line.split(\" \"))\n",
    "        relabel[other_lab] = my_lab\n",
    "\n",
    "last_idx = -1\n",
    "clusters = {}\n",
    "with open(\"data/graph.tree1\") as f:\n",
    "    for line in f:\n",
    "        idx, cluster = map(int, line.split(\" \"))\n",
    "        \n",
    "        if idx < last_idx:\n",
    "            break\n",
    "            \n",
    "        last_idx = idx\n",
    "        if cluster not in clusters:\n",
    "            clusters[cluster] = []\n",
    "            \n",
    "        clusters[cluster].append(relabel[idx])\n",
    "        \n",
    "for c in list(clusters):\n",
    "    if len(clusters[c]) == 1:\n",
    "        del clusters[c]"
   ]
  },
  {
   "cell_type": "code",
   "execution_count": 93,
   "metadata": {},
   "outputs": [
    {
     "data": {
      "text/plain": [
       "630"
      ]
     },
     "execution_count": 93,
     "metadata": {},
     "output_type": "execute_result"
    }
   ],
   "source": [
    "len(clusters)"
   ]
  },
  {
   "cell_type": "code",
   "execution_count": null,
   "metadata": {},
   "outputs": [],
   "source": [
    "c = 1\n",
    "cc = list(clusters)\n",
    "for idx2 in clusters[cc[c]]:\n",
    "    print(\"\\t\" + file_info_test[idx2].text)\n",
    "    "
   ]
  },
  {
   "cell_type": "code",
   "execution_count": 69,
   "metadata": {},
   "outputs": [],
   "source": [
    "def postprocess_similarities(similarities, cats):\n",
    "    assert len(similarities) == len(cats), f\"{len(similarities)} != {len(cats)}\"\n",
    "    for i in range(len(similarities)):\n",
    "        if cats[i] == \"junk\":\n",
    "            similarities[i] = []           \n",
    "                        \n",
    "    similarities = [[[idx2, sim] for idx2, sim in sims if cats[idx2] == cats[idx1]] \n",
    "                    for idx1, sims in enumerate(similarities)]\n",
    "    \n",
    "    return similarities\n",
    "\n",
    "def similarity_scores(file_info, cats):\n",
    "    texts = [\" \".join(token for token in news.simple_tokenize_with_numbers(fi.text)) for fi in file_info]\n",
    "    text_sims = postprocess_similarities(calc_similarities(texts), cats)\n",
    "    \n",
    "    titles = [\" \".join(token for token in news.simple_tokenize_with_numbers(fi.title)) for fi in file_info]\n",
    "    title_sims = postprocess_similarities(calc_similarities(titles), cats)\n",
    "        \n",
    "    return text_sims, title_sims\n",
    "\n",
    "text_sims_train, title_sims_train = similarity_scores(file_info_train, cats_train)\n",
    "text_sims_test, title_sims_test = similarity_scores(file_info_test, cats_test)"
   ]
  },
  {
   "cell_type": "code",
   "execution_count": 70,
   "metadata": {},
   "outputs": [
    {
     "name": "stdout",
     "output_type": "stream",
     "text": [
      "AUC = 0.8831964483906771, +510 -1060\n",
      "Title AUC = 0.6188124306326305, +510 -1060\n",
      "Title+text AUC = 0.8916944136145024, +510 -1060\n"
     ]
    }
   ],
   "source": [
    "def similarities_to_tuples(similarities):\n",
    "    similarities_tuples = {}\n",
    "    for idx1, sims in enumerate(similarities):\n",
    "        for idx2, sim in sims:\n",
    "            similarities_tuples[(idx1, idx2)] = sim\n",
    "            similarities_tuples[(idx2, idx1)] = sim\n",
    "            \n",
    "    return similarities_tuples\n",
    "        \n",
    "def similarities_in_gt(similarities_tuples, gt):\n",
    "    gt_similarities = {True: [], False: []}\n",
    "    gt_idx = {True: [], False: []}\n",
    "    for (idx1, idx2), match in manual_ground_truth.items():\n",
    "        gt_similarities[match].append(similarities_tuples[(idx1, idx2)] if (idx1, idx2) in similarities_tuples else 0)\n",
    "        gt_idx[match].append((idx1, idx2))\n",
    "\n",
    "    sims_joined = np.array(gt_similarities[True] + gt_similarities[False])\n",
    "    gt_idx_joined = gt_idx[True] + gt_idx[False]\n",
    "    gt_joined = [1] * len(gt_similarities[True]) + [0] * len(gt_similarities[False])\n",
    "    return sims_joined, gt_joined, gt_idx_joined\n",
    "\n",
    "\n",
    "sims_joined, gt_joined, gt_idx_joined = similarities_in_gt(similarities_to_tuples(text_sims_test), manual_ground_truth)\n",
    "auc = roc_auc_score(gt_joined, sims_joined)\n",
    "print(f\"AUC = {auc}, +{sum(gt_joined)} -{len(gt_joined) - sum(gt_joined)}\")\n",
    "\n",
    "sims_joined_title, _, _ = similarities_in_gt(similarities_to_tuples(title_sims_test), manual_ground_truth)\n",
    "auc = roc_auc_score(gt_joined, sims_joined_title)\n",
    "print(f\"Title AUC = {auc}, +{sum(gt_joined)} -{len(gt_joined) - sum(gt_joined)}\")\n",
    "\n",
    "auc = roc_auc_score(gt_joined, sims_joined_title + sims_joined)\n",
    "print(f\"Title+text AUC = {auc}, +{sum(gt_joined)} -{len(gt_joined) - sum(gt_joined)}\")"
   ]
  },
  {
   "cell_type": "code",
   "execution_count": 72,
   "metadata": {},
   "outputs": [
    {
     "name": "stdout",
     "output_type": "stream",
     "text": [
      "Title+text AUC = 0.8916944136145024, +510 -1060\n"
     ]
    }
   ],
   "source": [
    "def merge_similarities(sim1, sim2, file_info):\n",
    "    sim1 = similarities_to_tuples(sim1)\n",
    "    sim2 = similarities_to_tuples(sim2)\n",
    "    for ff, sim in sim2.items():\n",
    "        if ff in sim1:\n",
    "            sim1[ff] += sim\n",
    "        else:\n",
    "            sim1[ff] = sim\n",
    "\n",
    "    merged = [{} for _ in range(len(file_info))]\n",
    "    for (idx1, idx2), sim in sim1.items():\n",
    "        merged[idx1][idx2] = sim\n",
    "        merged[idx2][idx1] = sim\n",
    "        \n",
    "    merged = [list(m.items()) for m in merged]    \n",
    "    return merged\n",
    "        \n",
    "similarities_train = merge_similarities(text_sims_train, title_sims_train, file_info_train)\n",
    "similarities_test = merge_similarities(text_sims_test, title_sims_test, file_info_test)\n",
    "\n",
    "sims_joined_both, _, _ = similarities_in_gt(similarities_to_tuples(similarities_test), manual_ground_truth)\n",
    "auc = roc_auc_score(gt_joined, sims_joined_both)\n",
    "print(f\"Title+text AUC = {auc}, +{sum(gt_joined)} -{len(gt_joined) - sum(gt_joined)}\")"
   ]
  },
  {
   "cell_type": "code",
   "execution_count": 77,
   "metadata": {},
   "outputs": [
    {
     "data": {
      "text/plain": [
       "(-5, 15)"
      ]
     },
     "execution_count": 77,
     "metadata": {},
     "output_type": "execute_result"
    },
    {
     "data": {
      "image/png": "[encoded data removed]",
      "text/plain": [
       "<Figure size 432x288 with 1 Axes>"
      ]
     },
     "metadata": {
      "needs_background": "light"
     },
     "output_type": "display_data"
    }
   ],
   "source": [
    "plot_data = pd.DataFrame({\"similarity\": sims_joined_both, \"same\": gt_joined, \"idx\": gt_idx_joined})\n",
    "#plot_data = plot_data[(plot_data.similarity < 10) & (plot_data.similarity > -3)]\n",
    "ax = sns.violinplot(x=\"same\", y=\"similarity\", data=plot_data)\n",
    "ax.set_ylim(-5, 15)"
   ]
  },
  {
   "cell_type": "raw",
   "metadata": {},
   "source": [
    "most_similar_unrelated = plot_data[plot_data.same == 0]\n",
    "most_similar_unrelated = most_similar_unrelated.sort_values(\"similarity\", ascending=False)\n",
    "for row in most_similar_unrelated.iloc[20:30, :].itertuples():\n",
    "    print(f\"Similarity: {row.similarity}\")\n",
    "    print(f\"{file_info2[row.idx[0]].file} - {file_info2[row.idx[1]].file}\")\n",
    "    print(f\"\\t{file_info2[row.idx[0]].text}\")\n",
    "    print(f\"\\t{file_info2[row.idx[1]].text}\")\n",
    "    print()"
   ]
  },
  {
   "cell_type": "code",
   "execution_count": 10,
   "metadata": {},
   "outputs": [
    {
     "name": "stdout",
     "output_type": "stream",
     "text": [
      "75760 word stems\n"
     ]
    }
   ],
   "source": [
    "normalizer = news.TextNormalizer(\"russian\")\n",
    "normalizer.train(file_info_train)\n",
    "train_texts_train = normalizer.normalize_texts(file_info_train)\n",
    "train_texts_test = normalizer.normalize_texts(file_info_test)"
   ]
  },
  {
   "cell_type": "code",
   "execution_count": 11,
   "metadata": {},
   "outputs": [],
   "source": [
    "verbose = 1\n",
    "max_words = 7000\n",
    "tokenize = keras.preprocessing.text.Tokenizer(num_words=max_words, char_level=False)\n",
    "tokenize.fit_on_texts(train_texts_train)  # fit tokenizer to our training text data\n",
    "x_train = tokenize.texts_to_matrix(train_texts_train).astype(np.float32)\n",
    "x_test = tokenize.texts_to_matrix(train_texts_test).astype(np.float32)"
   ]
  },
  {
   "cell_type": "code",
   "execution_count": 71,
   "metadata": {},
   "outputs": [
    {
     "name": "stdout",
     "output_type": "stream",
     "text": [
      "Model: \"sequential_18\"\n",
      "_________________________________________________________________\n",
      "Layer (type)                 Output Shape              Param #   \n",
      "=================================================================\n",
      "dense_66 (Dense)             (None, 512)               3584000   \n",
      "_________________________________________________________________\n",
      "dense_67 (Dense)             (None, 512)               262144    \n",
      "_________________________________________________________________\n",
      "dense_68 (Dense)             (None, 512)               262144    \n",
      "_________________________________________________________________\n",
      "dense_69 (Dense)             (None, 256)               131072    \n",
      "=================================================================\n",
      "Total params: 4,239,360\n",
      "Trainable params: 4,239,360\n",
      "Non-trainable params: 0\n",
      "_________________________________________________________________\n",
      "Model: \"model_18\"\n",
      "__________________________________________________________________________________________________\n",
      "Layer (type)                    Output Shape         Param #     Connected to                     \n",
      "==================================================================================================\n",
      "input_37 (InputLayer)           [(None, 7000)]       0                                            \n",
      "__________________________________________________________________________________________________\n",
      "input_38 (InputLayer)           [(None, 7000)]       0                                            \n",
      "__________________________________________________________________________________________________\n",
      "sequential_18 (Sequential)      (None, 256)          4239360     input_37[0][0]                   \n",
      "                                                                 input_38[0][0]                   \n",
      "__________________________________________________________________________________________________\n",
      "tf_op_layer_sub_18 (TensorFlowO [(None, 256)]        0           sequential_18[1][0]              \n",
      "                                                                 sequential_18[2][0]              \n",
      "__________________________________________________________________________________________________\n",
      "tf_op_layer_Abs_4 (TensorFlowOp [(None, 256)]        0           tf_op_layer_sub_18[0][0]         \n",
      "__________________________________________________________________________________________________\n",
      "tf_op_layer_Sum_18 (TensorFlowO [(None, 1)]          0           tf_op_layer_Abs_4[0][0]          \n",
      "__________________________________________________________________________________________________\n",
      "activation_18 (Activation)      (None, 1)            0           tf_op_layer_Sum_18[0][0]         \n",
      "==================================================================================================\n",
      "Total params: 4,239,360\n",
      "Trainable params: 4,239,360\n",
      "Non-trainable params: 0\n",
      "__________________________________________________________________________________________________\n"
     ]
    }
   ],
   "source": [
    "drop_ratio = 0.5\n",
    "embedding_size = 256\n",
    "\n",
    "\n",
    "def bag_embedding(input_shape):\n",
    "    model = models.Sequential()    \n",
    "    #model.add(layers.Dropout(0.4))\n",
    "    model.add(layers.Dense(512, input_shape=input_shape, activation='relu', use_bias=False))#, kernel_regularizer=regularizers.l2(0.0001)))\n",
    "    #model.add(layers.Dropout(drop_ratio))\n",
    "    model.add(layers.Dense(512, activation='relu', use_bias=False))\n",
    "    #model.add(layers.Dropout(drop_ratio))\n",
    "    model.add(layers.Dense(512, activation='relu', use_bias=False))\n",
    "    #model.add(layers.Dropout(drop_ratio))\n",
    "    model.add(layers.Dense(embedding_size, use_bias=False, activation=\"sigmoid\"))\n",
    "    return model\n",
    "\n",
    "\n",
    "def make_siamese_model(emb_model, input_shape):\n",
    "    # Define the tensors for the two input images\n",
    "    left_input = layers.Input(input_shape)\n",
    "    right_input = layers.Input(input_shape)\n",
    "        \n",
    "    # Generate the encodings (feature vectors) for the two images\n",
    "    encoded_l = emb_model(left_input)\n",
    "    encoded_r = emb_model(right_input)\n",
    "    \n",
    "    #emb_diff = K.square(encoded_l - encoded_r)\n",
    "    emb_diff = K.abs(encoded_l - encoded_r)\n",
    "    #emb_diff_drop = layers.Dropout(drop_ratio)(emb_diff)\n",
    "    distance = K.sum(emb_diff, axis=1, keepdims=True)\n",
    "\n",
    "    #prediction1 = layers.Dense(64, activation=\"relu\")(emb_diff)\n",
    "    #prediction = layers.Dense(1, activation=\"sigmoid\")(prediction1)\n",
    "    prediction = layers.Activation('tanh')(distance)\n",
    "    #prediction = distance\n",
    "    \n",
    "    # Connect the inputs with the outputs\n",
    "    siamese_net = models.Model(inputs=[left_input, right_input], outputs=prediction)\n",
    "    \n",
    "    # return the model\n",
    "    return siamese_net\n",
    "\n",
    "emb_model = bag_embedding((max_words,))\n",
    "model = make_siamese_model(emb_model, (max_words,))\n",
    "emb_model.summary()\n",
    "model.summary()\n",
    "\n",
    "optimizer = Adam(lr = 0.0001)\n",
    "model.compile(loss=\"binary_crossentropy\", optimizer=optimizer)\n",
    "#model.compile(loss='mean_squared_error', optimizer=optimizer)"
   ]
  },
  {
   "cell_type": "code",
   "execution_count": 75,
   "metadata": {},
   "outputs": [],
   "source": [
    "idx_group_train = idx_group(train_groups)\n",
    "idx_group_test = idx_group(test_groups)\n",
    "\n",
    "idx_with_group_train = list(idx_group_train)\n",
    "idx_with_group_test = list(idx_group_test)\n",
    "\n",
    "\n",
    "def get_batch(batch_size, is_train):\n",
    "    \"\"\"Create batch of n pairs, half same class, half different class\"\"\"\n",
    "    x = x_train if is_train else x_test\n",
    "    idx_wg = idx_with_group_train if is_train else idx_with_group_test\n",
    "    idx_g = idx_group_train if is_train else idx_group_test\n",
    "    \n",
    "    n_examples = x.shape[0]\n",
    "   \n",
    "    # initialize vector for the targets\n",
    "    targets = np.zeros((batch_size,))\n",
    "    \n",
    "    # make one half of it '1's, so 2nd half of batch has same class\n",
    "    num_same = batch_size // 2\n",
    "    targets[num_same:] = 1\n",
    "    batch_idx_1 = []\n",
    "    batch_idx_2 = []\n",
    "    for i in range(batch_size):\n",
    "        # pick images of same class for 1st half, different for 2nd\n",
    "        if i < num_same:\n",
    "            idx_1 = idx_wg[rng.randint(0, len(idx_wg))]\n",
    "            ii = rng.randint(0, len(idx_g[idx_1]))\n",
    "            idx_2 = idx_g[idx_1][ii]\n",
    "        else: \n",
    "            idx_1 = rng.randint(0, n_examples)\n",
    "            idx_2 = rng.randint(0, n_examples)\n",
    "            if idx_1 in idx_g:\n",
    "                group = frozenset(idx_g[idx_1])\n",
    "                while True:\n",
    "                    idx_2 = rng.randint(0, n_examples)                    \n",
    "                    if idx_2 not in group:\n",
    "                        break\n",
    "        \n",
    "        batch_idx_1.append(idx_1)\n",
    "        batch_idx_2.append(idx_2)\n",
    "                    \n",
    "    pairs = [x[batch_idx_1, :], x[batch_idx_2, :]]\n",
    "    return pairs, targets\n",
    "\n",
    "def generate(batch_size, is_train):\n",
    "    \"\"\"a generator for batches, so model.fit_generator can be used. \"\"\"\n",
    "    while True:\n",
    "        pairs, targets = get_batch(batch_size, is_train)\n",
    "        yield (pairs, targets)\n",
    "        \n",
    "def embedding_distance(embs, idx1, idx2):\n",
    "    return ((embs[idx1, :] - embs[idx2, :]) ** 2).sum()  "
   ]
  },
  {
   "cell_type": "code",
   "execution_count": 76,
   "metadata": {},
   "outputs": [
    {
     "name": "stdout",
     "output_type": "stream",
     "text": [
      "Starting training process!\n",
      "-------------------------------------\n"
     ]
    },
    {
     "data": {
      "application/vnd.jupyter.widget-view+json": {
       "model_id": "b25a51137abc449289f1cdd814118db1",
       "version_major": 2,
       "version_minor": 0
      },
      "text/plain": [
       "HBox(children=(IntProgress(value=0, max=10000), HTML(value='')))"
      ]
     },
     "metadata": {},
     "output_type": "display_data"
    },
    {
     "name": "stdout",
     "output_type": "stream",
     "text": [
      "val loss before training: 0.5751081615686416\n",
      "Current best loss: 0.4362422139644623, AUC: 0.6578202406227884\n"
     ]
    },
    {
     "ename": "KeyboardInterrupt",
     "evalue": "",
     "output_type": "error",
     "traceback": [
      "\u001b[0;31m---------------------------------------------------------------------------\u001b[0m",
      "\u001b[0;31mKeyboardInterrupt\u001b[0m                         Traceback (most recent call last)",
      "\u001b[0;32m<ipython-input-76-4eb1b705f177>\u001b[0m in \u001b[0;36m<module>\u001b[0;34m\u001b[0m\n\u001b[1;32m     13\u001b[0m \u001b[0;32mfor\u001b[0m \u001b[0mi\u001b[0m \u001b[0;32min\u001b[0m \u001b[0mt\u001b[0m\u001b[0;34m:\u001b[0m\u001b[0;34m\u001b[0m\u001b[0m\n\u001b[1;32m     14\u001b[0m     \u001b[0;34m(\u001b[0m\u001b[0minputs\u001b[0m\u001b[0;34m,\u001b[0m\u001b[0mtargets\u001b[0m\u001b[0;34m)\u001b[0m \u001b[0;34m=\u001b[0m \u001b[0mget_batch\u001b[0m\u001b[0;34m(\u001b[0m\u001b[0mbatch_size\u001b[0m\u001b[0;34m,\u001b[0m \u001b[0;32mTrue\u001b[0m\u001b[0;34m)\u001b[0m\u001b[0;34m\u001b[0m\u001b[0m\n\u001b[0;32m---> 15\u001b[0;31m     \u001b[0mloss\u001b[0m \u001b[0;34m=\u001b[0m \u001b[0mmodel\u001b[0m\u001b[0;34m.\u001b[0m\u001b[0mtrain_on_batch\u001b[0m\u001b[0;34m(\u001b[0m\u001b[0minputs\u001b[0m\u001b[0;34m,\u001b[0m \u001b[0mtargets\u001b[0m\u001b[0;34m)\u001b[0m\u001b[0;34m\u001b[0m\u001b[0m\n\u001b[0m\u001b[1;32m     16\u001b[0m     \u001b[0mloss_sum\u001b[0m \u001b[0;34m+=\u001b[0m \u001b[0mloss\u001b[0m\u001b[0;34m\u001b[0m\u001b[0m\n\u001b[1;32m     17\u001b[0m     \u001b[0mt\u001b[0m\u001b[0;34m.\u001b[0m\u001b[0mset_description\u001b[0m\u001b[0;34m(\u001b[0m\u001b[0;34mf\"train: {loss_sum / (i - last_eval + 0.01):.2g}\\tval: {val_loss:.2g}\"\u001b[0m\u001b[0;34m)\u001b[0m\u001b[0;34m\u001b[0m\u001b[0m\n",
      "\u001b[0;32m~/anaconda3/lib/python3.7/site-packages/tensorflow_core/python/keras/engine/training.py\u001b[0m in \u001b[0;36mtrain_on_batch\u001b[0;34m(self, x, y, sample_weight, class_weight, reset_metrics)\u001b[0m\n\u001b[1;32m    971\u001b[0m       outputs = training_v2_utils.train_on_batch(\n\u001b[1;32m    972\u001b[0m           \u001b[0mself\u001b[0m\u001b[0;34m,\u001b[0m \u001b[0mx\u001b[0m\u001b[0;34m,\u001b[0m \u001b[0my\u001b[0m\u001b[0;34m=\u001b[0m\u001b[0my\u001b[0m\u001b[0;34m,\u001b[0m \u001b[0msample_weight\u001b[0m\u001b[0;34m=\u001b[0m\u001b[0msample_weight\u001b[0m\u001b[0;34m,\u001b[0m\u001b[0;34m\u001b[0m\u001b[0m\n\u001b[0;32m--> 973\u001b[0;31m           class_weight=class_weight, reset_metrics=reset_metrics)\n\u001b[0m\u001b[1;32m    974\u001b[0m       outputs = (outputs['total_loss'] + outputs['output_losses'] +\n\u001b[1;32m    975\u001b[0m                  outputs['metrics'])\n",
      "\u001b[0;32m~/anaconda3/lib/python3.7/site-packages/tensorflow_core/python/keras/engine/training_v2_utils.py\u001b[0m in \u001b[0;36mtrain_on_batch\u001b[0;34m(model, x, y, sample_weight, class_weight, reset_metrics)\u001b[0m\n\u001b[1;32m    262\u001b[0m       \u001b[0my\u001b[0m\u001b[0;34m,\u001b[0m\u001b[0;34m\u001b[0m\u001b[0m\n\u001b[1;32m    263\u001b[0m       \u001b[0msample_weights\u001b[0m\u001b[0;34m=\u001b[0m\u001b[0msample_weights\u001b[0m\u001b[0;34m,\u001b[0m\u001b[0;34m\u001b[0m\u001b[0m\n\u001b[0;32m--> 264\u001b[0;31m       output_loss_metrics=model._output_loss_metrics)\n\u001b[0m\u001b[1;32m    265\u001b[0m \u001b[0;34m\u001b[0m\u001b[0m\n\u001b[1;32m    266\u001b[0m   \u001b[0;32mif\u001b[0m \u001b[0mreset_metrics\u001b[0m\u001b[0;34m:\u001b[0m\u001b[0;34m\u001b[0m\u001b[0m\n",
      "\u001b[0;32m~/anaconda3/lib/python3.7/site-packages/tensorflow_core/python/keras/engine/training_eager.py\u001b[0m in \u001b[0;36mtrain_on_batch\u001b[0;34m(model, inputs, targets, sample_weights, output_loss_metrics)\u001b[0m\n\u001b[1;32m    309\u001b[0m           \u001b[0msample_weights\u001b[0m\u001b[0;34m=\u001b[0m\u001b[0msample_weights\u001b[0m\u001b[0;34m,\u001b[0m\u001b[0;34m\u001b[0m\u001b[0m\n\u001b[1;32m    310\u001b[0m           \u001b[0mtraining\u001b[0m\u001b[0;34m=\u001b[0m\u001b[0;32mTrue\u001b[0m\u001b[0;34m,\u001b[0m\u001b[0;34m\u001b[0m\u001b[0m\n\u001b[0;32m--> 311\u001b[0;31m           output_loss_metrics=output_loss_metrics))\n\u001b[0m\u001b[1;32m    312\u001b[0m   \u001b[0;32mif\u001b[0m \u001b[0;32mnot\u001b[0m \u001b[0misinstance\u001b[0m\u001b[0;34m(\u001b[0m\u001b[0mouts\u001b[0m\u001b[0;34m,\u001b[0m \u001b[0mlist\u001b[0m\u001b[0;34m)\u001b[0m\u001b[0;34m:\u001b[0m\u001b[0;34m\u001b[0m\u001b[0m\n\u001b[1;32m    313\u001b[0m     \u001b[0mouts\u001b[0m \u001b[0;34m=\u001b[0m \u001b[0;34m[\u001b[0m\u001b[0mouts\u001b[0m\u001b[0;34m]\u001b[0m\u001b[0;34m\u001b[0m\u001b[0m\n",
      "\u001b[0;32m~/anaconda3/lib/python3.7/site-packages/tensorflow_core/python/keras/engine/training_eager.py\u001b[0m in \u001b[0;36m_process_single_batch\u001b[0;34m(model, inputs, targets, output_loss_metrics, sample_weights, training)\u001b[0m\n\u001b[1;32m    266\u001b[0m           \u001b[0mmodel\u001b[0m\u001b[0;34m.\u001b[0m\u001b[0m_backwards\u001b[0m\u001b[0;34m(\u001b[0m\u001b[0mtape\u001b[0m\u001b[0;34m,\u001b[0m \u001b[0mscaled_total_loss\u001b[0m\u001b[0;34m)\u001b[0m\u001b[0;34m\u001b[0m\u001b[0m\n\u001b[1;32m    267\u001b[0m         \u001b[0;32melse\u001b[0m\u001b[0;34m:\u001b[0m\u001b[0;34m\u001b[0m\u001b[0m\n\u001b[0;32m--> 268\u001b[0;31m           \u001b[0mgrads\u001b[0m \u001b[0;34m=\u001b[0m \u001b[0mtape\u001b[0m\u001b[0;34m.\u001b[0m\u001b[0mgradient\u001b[0m\u001b[0;34m(\u001b[0m\u001b[0mscaled_total_loss\u001b[0m\u001b[0;34m,\u001b[0m \u001b[0mtrainable_weights\u001b[0m\u001b[0;34m)\u001b[0m\u001b[0;34m\u001b[0m\u001b[0m\n\u001b[0m\u001b[1;32m    269\u001b[0m           if isinstance(model.optimizer,\n\u001b[1;32m    270\u001b[0m                         loss_scale_optimizer.LossScaleOptimizer):\n",
      "\u001b[0;32m~/anaconda3/lib/python3.7/site-packages/tensorflow_core/python/eager/backprop.py\u001b[0m in \u001b[0;36mgradient\u001b[0;34m(self, target, sources, output_gradients, unconnected_gradients)\u001b[0m\n\u001b[1;32m   1012\u001b[0m         \u001b[0moutput_gradients\u001b[0m\u001b[0;34m=\u001b[0m\u001b[0moutput_gradients\u001b[0m\u001b[0;34m,\u001b[0m\u001b[0;34m\u001b[0m\u001b[0m\n\u001b[1;32m   1013\u001b[0m         \u001b[0msources_raw\u001b[0m\u001b[0;34m=\u001b[0m\u001b[0mflat_sources_raw\u001b[0m\u001b[0;34m,\u001b[0m\u001b[0;34m\u001b[0m\u001b[0m\n\u001b[0;32m-> 1014\u001b[0;31m         unconnected_gradients=unconnected_gradients)\n\u001b[0m\u001b[1;32m   1015\u001b[0m \u001b[0;34m\u001b[0m\u001b[0m\n\u001b[1;32m   1016\u001b[0m     \u001b[0;32mif\u001b[0m \u001b[0;32mnot\u001b[0m \u001b[0mself\u001b[0m\u001b[0;34m.\u001b[0m\u001b[0m_persistent\u001b[0m\u001b[0;34m:\u001b[0m\u001b[0;34m\u001b[0m\u001b[0m\n",
      "\u001b[0;32m~/anaconda3/lib/python3.7/site-packages/tensorflow_core/python/eager/imperative_grad.py\u001b[0m in \u001b[0;36mimperative_grad\u001b[0;34m(tape, target, sources, output_gradients, sources_raw, unconnected_gradients)\u001b[0m\n\u001b[1;32m     74\u001b[0m       \u001b[0moutput_gradients\u001b[0m\u001b[0;34m,\u001b[0m\u001b[0;34m\u001b[0m\u001b[0m\n\u001b[1;32m     75\u001b[0m       \u001b[0msources_raw\u001b[0m\u001b[0;34m,\u001b[0m\u001b[0;34m\u001b[0m\u001b[0m\n\u001b[0;32m---> 76\u001b[0;31m       compat.as_str(unconnected_gradients.value))\n\u001b[0m",
      "\u001b[0;32m~/anaconda3/lib/python3.7/site-packages/tensorflow_core/python/eager/backprop.py\u001b[0m in \u001b[0;36m_gradient_function\u001b[0;34m(op_name, attr_tuple, num_inputs, inputs, outputs, out_grads, skip_input_indices)\u001b[0m\n\u001b[1;32m    136\u001b[0m     \u001b[0;32mreturn\u001b[0m \u001b[0;34m[\u001b[0m\u001b[0;32mNone\u001b[0m\u001b[0;34m]\u001b[0m \u001b[0;34m*\u001b[0m \u001b[0mnum_inputs\u001b[0m\u001b[0;34m\u001b[0m\u001b[0m\n\u001b[1;32m    137\u001b[0m \u001b[0;34m\u001b[0m\u001b[0m\n\u001b[0;32m--> 138\u001b[0;31m   \u001b[0;32mreturn\u001b[0m \u001b[0mgrad_fn\u001b[0m\u001b[0;34m(\u001b[0m\u001b[0mmock_op\u001b[0m\u001b[0;34m,\u001b[0m \u001b[0;34m*\u001b[0m\u001b[0mout_grads\u001b[0m\u001b[0;34m)\u001b[0m\u001b[0;34m\u001b[0m\u001b[0m\n\u001b[0m\u001b[1;32m    139\u001b[0m \u001b[0;34m\u001b[0m\u001b[0m\n\u001b[1;32m    140\u001b[0m \u001b[0;34m\u001b[0m\u001b[0m\n",
      "\u001b[0;32m~/anaconda3/lib/python3.7/site-packages/tensorflow_core/python/ops/math_grad.py\u001b[0m in \u001b[0;36m_MatMulGrad\u001b[0;34m(op, grad)\u001b[0m\n\u001b[1;32m   1573\u001b[0m         \u001b[0;32mreturn\u001b[0m \u001b[0m_MatMulGradAgainstFirstOnly\u001b[0m\u001b[0;34m(\u001b[0m\u001b[0mop\u001b[0m\u001b[0;34m,\u001b[0m \u001b[0mgrad\u001b[0m\u001b[0;34m)\u001b[0m\u001b[0;34m\u001b[0m\u001b[0m\n\u001b[1;32m   1574\u001b[0m       \u001b[0;32melif\u001b[0m \u001b[0;36m0\u001b[0m \u001b[0;32min\u001b[0m \u001b[0mskip_input_indices\u001b[0m\u001b[0;34m:\u001b[0m\u001b[0;34m\u001b[0m\u001b[0m\n\u001b[0;32m-> 1575\u001b[0;31m         \u001b[0;32mreturn\u001b[0m \u001b[0m_MatMulGradAgainstSecondOnly\u001b[0m\u001b[0;34m(\u001b[0m\u001b[0mop\u001b[0m\u001b[0;34m,\u001b[0m \u001b[0mgrad\u001b[0m\u001b[0;34m)\u001b[0m\u001b[0;34m\u001b[0m\u001b[0m\n\u001b[0m\u001b[1;32m   1576\u001b[0m   \u001b[0;32mexcept\u001b[0m \u001b[0mAttributeError\u001b[0m\u001b[0;34m:\u001b[0m\u001b[0;34m\u001b[0m\u001b[0m\n\u001b[1;32m   1577\u001b[0m     \u001b[0;31m# No gradient skipping, so do the full gradient computation\u001b[0m\u001b[0;34m\u001b[0m\u001b[0;34m\u001b[0m\u001b[0m\n",
      "\u001b[0;32m~/anaconda3/lib/python3.7/site-packages/tensorflow_core/python/ops/math_grad.py\u001b[0m in \u001b[0;36m_MatMulGradAgainstSecondOnly\u001b[0;34m(op, grad)\u001b[0m\n\u001b[1;32m   1554\u001b[0m   \u001b[0ma\u001b[0m \u001b[0;34m=\u001b[0m \u001b[0mmath_ops\u001b[0m\u001b[0;34m.\u001b[0m\u001b[0mconj\u001b[0m\u001b[0;34m(\u001b[0m\u001b[0mop\u001b[0m\u001b[0;34m.\u001b[0m\u001b[0minputs\u001b[0m\u001b[0;34m[\u001b[0m\u001b[0;36m0\u001b[0m\u001b[0;34m]\u001b[0m\u001b[0;34m)\u001b[0m\u001b[0;34m\u001b[0m\u001b[0m\n\u001b[1;32m   1555\u001b[0m   \u001b[0;32mif\u001b[0m \u001b[0;32mnot\u001b[0m \u001b[0mt_a\u001b[0m \u001b[0;32mand\u001b[0m \u001b[0;32mnot\u001b[0m \u001b[0mt_b\u001b[0m\u001b[0;34m:\u001b[0m\u001b[0;34m\u001b[0m\u001b[0m\n\u001b[0;32m-> 1556\u001b[0;31m     \u001b[0mgrad_b\u001b[0m \u001b[0;34m=\u001b[0m \u001b[0mgen_math_ops\u001b[0m\u001b[0;34m.\u001b[0m\u001b[0mmat_mul\u001b[0m\u001b[0;34m(\u001b[0m\u001b[0ma\u001b[0m\u001b[0;34m,\u001b[0m \u001b[0mgrad\u001b[0m\u001b[0;34m,\u001b[0m \u001b[0mtranspose_a\u001b[0m\u001b[0;34m=\u001b[0m\u001b[0;32mTrue\u001b[0m\u001b[0;34m)\u001b[0m\u001b[0;34m\u001b[0m\u001b[0m\n\u001b[0m\u001b[1;32m   1557\u001b[0m   \u001b[0;32melif\u001b[0m \u001b[0;32mnot\u001b[0m \u001b[0mt_a\u001b[0m \u001b[0;32mand\u001b[0m \u001b[0mt_b\u001b[0m\u001b[0;34m:\u001b[0m\u001b[0;34m\u001b[0m\u001b[0m\n\u001b[1;32m   1558\u001b[0m     \u001b[0mgrad_b\u001b[0m \u001b[0;34m=\u001b[0m \u001b[0mgen_math_ops\u001b[0m\u001b[0;34m.\u001b[0m\u001b[0mmat_mul\u001b[0m\u001b[0;34m(\u001b[0m\u001b[0mgrad\u001b[0m\u001b[0;34m,\u001b[0m \u001b[0ma\u001b[0m\u001b[0;34m,\u001b[0m \u001b[0mtranspose_a\u001b[0m\u001b[0;34m=\u001b[0m\u001b[0;32mTrue\u001b[0m\u001b[0;34m)\u001b[0m\u001b[0;34m\u001b[0m\u001b[0m\n",
      "\u001b[0;32m~/anaconda3/lib/python3.7/site-packages/tensorflow_core/python/ops/gen_math_ops.py\u001b[0m in \u001b[0;36mmat_mul\u001b[0;34m(a, b, transpose_a, transpose_b, name)\u001b[0m\n\u001b[1;32m   6110\u001b[0m         \u001b[0m_ctx\u001b[0m\u001b[0;34m.\u001b[0m\u001b[0m_context_handle\u001b[0m\u001b[0;34m,\u001b[0m \u001b[0m_ctx\u001b[0m\u001b[0;34m.\u001b[0m\u001b[0m_thread_local_data\u001b[0m\u001b[0;34m.\u001b[0m\u001b[0mdevice_name\u001b[0m\u001b[0;34m,\u001b[0m \u001b[0;34m\"MatMul\"\u001b[0m\u001b[0;34m,\u001b[0m\u001b[0;34m\u001b[0m\u001b[0m\n\u001b[1;32m   6111\u001b[0m         \u001b[0mname\u001b[0m\u001b[0;34m,\u001b[0m \u001b[0m_ctx\u001b[0m\u001b[0;34m.\u001b[0m\u001b[0m_post_execution_callbacks\u001b[0m\u001b[0;34m,\u001b[0m \u001b[0ma\u001b[0m\u001b[0;34m,\u001b[0m \u001b[0mb\u001b[0m\u001b[0;34m,\u001b[0m \u001b[0;34m\"transpose_a\"\u001b[0m\u001b[0;34m,\u001b[0m\u001b[0;34m\u001b[0m\u001b[0m\n\u001b[0;32m-> 6112\u001b[0;31m         transpose_a, \"transpose_b\", transpose_b)\n\u001b[0m\u001b[1;32m   6113\u001b[0m       \u001b[0;32mreturn\u001b[0m \u001b[0m_result\u001b[0m\u001b[0;34m\u001b[0m\u001b[0m\n\u001b[1;32m   6114\u001b[0m     \u001b[0;32mexcept\u001b[0m \u001b[0m_core\u001b[0m\u001b[0;34m.\u001b[0m\u001b[0m_FallbackException\u001b[0m\u001b[0;34m:\u001b[0m\u001b[0;34m\u001b[0m\u001b[0m\n",
      "\u001b[0;31mKeyboardInterrupt\u001b[0m: "
     ]
    }
   ],
   "source": [
    "print(\"Starting training process!\")\n",
    "print(\"-------------------------------------\")\n",
    "n_iter = 10000\n",
    "eval_samples = 10000\n",
    "batch_size = 32\n",
    "evaluate_every = 1000\n",
    "t = trange(n_iter)\n",
    "loss_sum = 0.0\n",
    "last_eval = 0\n",
    "val_loss = model.evaluate(*get_batch(eval_samples, False), verbose=0)\n",
    "best = val_loss\n",
    "print(f\"val loss before training: {val_loss}\")\n",
    "for i in t:\n",
    "    (inputs,targets) = get_batch(batch_size, True)\n",
    "    loss = model.train_on_batch(inputs, targets)\n",
    "    loss_sum += loss\n",
    "    t.set_description(f\"train: {loss_sum / (i - last_eval + 0.01):.2g}\\tval: {val_loss:.2g}\")\n",
    "    if i % evaluate_every == 0 and i != 0:\n",
    "        loss_sum = 0\n",
    "        last_eval = i\n",
    "        val_loss = model.evaluate(*get_batch(eval_samples, False), verbose=0)\n",
    "#        model.save_weights(os.path.join(model_path, 'weights.{}.h5'.format(i)))\n",
    "        if best > val_loss:\n",
    "            embs_test = emb_model.predict(x_test)\n",
    "            auc = roc_auc_score(*group_to_embedding_comparison(gt_groups, embs_test))\n",
    "            print(f\"Current best loss: {val_loss}, AUC: {auc}\")\n",
    "            best = val_loss"
   ]
  },
  {
   "cell_type": "code",
   "execution_count": 53,
   "metadata": {},
   "outputs": [
    {
     "name": "stdout",
     "output_type": "stream",
     "text": [
      "loading data/keras_model_grouping.h5\n",
      "WARNING:tensorflow:No training configuration found in save file: the model was *not* compiled. Compile it manually.\n",
      "Forward pass took 0.016979 s.\n",
      "Forward pass took 0.00348 s.\n",
      "Forward pass took 0.004065 s.\n",
      "Starting performance measurements.\n",
      "Forward pass took 0.003918 s.\n",
      "Forward pass took 0.00412 s.\n",
      "Forward pass took 0.003423 s.\n",
      "Forward pass took 0.003779 s.\n",
      "Forward pass took 0.004162 s.\n",
      "Forward pass took 0.0038804 s on average.\n",
      "Converting model architecture.\n",
      "Converting model weights.\n",
      "Done converting model weights.\n",
      "Calculating model hash.\n",
      "Model conversion finished.\n",
      "writing data/grouping_model_ru.json\n"
     ]
    }
   ],
   "source": [
    "emb_model.save('data/keras_model_grouping.h5', include_optimizer=False)\n",
    "convert_model.convert(\"data/keras_model_grouping.h5\", \"data/grouping_model_ru.json\", no_tests=False)\n",
    "\n",
    "tokenizer_data = json.loads(tokenize.to_json())\n",
    "word_index = json.loads(tokenizer_data[\"config\"][\"word_index\"])\n",
    "with open(\"data/dictionary_for_grouping_ru.tsv\", \"w\") as f:\n",
    "    for word, index in word_index.items():\n",
    "        if index < max_words:\n",
    "            f.write(f\"{word}\\t{index}\\t{normalizer.idf[word] if word in normalizer.idf else 0}\\n\")"
   ]
  },
  {
   "cell_type": "code",
   "execution_count": 49,
   "metadata": {},
   "outputs": [],
   "source": [
    "embs_test = emb_model.predict(x_test)"
   ]
  },
  {
   "cell_type": "code",
   "execution_count": 50,
   "metadata": {},
   "outputs": [
    {
     "name": "stdout",
     "output_type": "stream",
     "text": [
      "Emb AUC = 0.7345837957824639, +510 -1060\n",
      "weight=1.0 AUC = 0.9189567147613761, +510 -1060\n",
      "weight=8.071428571428571 AUC = 0.9187643359230485, +510 -1060\n",
      "weight=15.142857142857142 AUC = 0.9106178320384757, +510 -1060\n",
      "weight=22.214285714285715 AUC = 0.902286348501665, +510 -1060\n",
      "weight=29.285714285714285 AUC = 0.8929707732149464, +510 -1060\n",
      "weight=36.357142857142854 AUC = 0.8843877173510915, +510 -1060\n",
      "weight=43.42857142857143 AUC = 0.8759378468368479, +510 -1060\n",
      "weight=50.5 AUC = 0.8678061413244543, +510 -1060\n",
      "weight=57.57142857142857 AUC = 0.8602589715131336, +510 -1060\n",
      "weight=64.64285714285714 AUC = 0.8531113577506475, +510 -1060\n",
      "weight=71.71428571428571 AUC = 0.847036625971143, +510 -1060\n",
      "weight=78.78571428571428 AUC = 0.8410432852386238, +510 -1060\n",
      "weight=85.85714285714286 AUC = 0.8358934517203107, +510 -1060\n",
      "weight=92.92857142857143 AUC = 0.8314613392526822, +510 -1060\n",
      "weight=100.0 AUC = 0.8272512023677395, +510 -1060\n",
      "weight=1.0 AUC = 0.9189567147613761, +510 -1060\n",
      "weight=8.071428571428571 AUC = 0.9176766555678876, +510 -1060\n",
      "weight=15.142857142857142 AUC = 0.9175952645209028, +510 -1060\n",
      "weight=22.214285714285715 AUC = 0.9175730669626341, +510 -1060\n",
      "weight=29.285714285714285 AUC = 0.9175508694043655, +510 -1060\n",
      "weight=36.357142857142854 AUC = 0.9175212726600074, +510 -1060\n",
      "weight=43.42857142857143 AUC = 0.9175138734739179, +510 -1060\n",
      "weight=50.5 AUC = 0.9175286718460969, +510 -1060\n",
      "weight=57.57142857142857 AUC = 0.9175286718460969, +510 -1060\n",
      "weight=64.64285714285714 AUC = 0.9175360710321865, +510 -1060\n",
      "weight=71.71428571428571 AUC = 0.9175360710321865, +510 -1060\n",
      "weight=78.78571428571428 AUC = 0.9175360710321865, +510 -1060\n",
      "weight=85.85714285714286 AUC = 0.917528671846097, +510 -1060\n",
      "weight=92.92857142857143 AUC = 0.917528671846097, +510 -1060\n",
      "weight=100.0 AUC = 0.917528671846097, +510 -1060\n",
      "\n",
      "weight=5 AUC = 0.920125786163522, +510 -1060\n"
     ]
    }
   ],
   "source": [
    "gt_similarities = {True: [], False: []}\n",
    "for (idx1, idx2), match in manual_ground_truth.items():\n",
    "    gt_similarities[match].append(-embedding_distance(embs_test, idx1, idx2))\n",
    "\n",
    "sims_joined_nn = np.array(gt_similarities[True] + gt_similarities[False])\n",
    "auc = roc_auc_score(gt_joined, sims_joined_nn)\n",
    "print(f\"Emb AUC = {auc}, +{len(gt_similarities[True])} -{len(gt_similarities[False])}\")\n",
    "\n",
    "for weight in np.linspace(1, 100, 15):\n",
    "    auc = roc_auc_score(gt_joined, sims_joined_both + sims_joined_nn * weight)\n",
    "    print(f\"weight={weight} AUC = {auc}, +{len(gt_similarities[True])} -{len(gt_similarities[False])}\")\n",
    "\n",
    "for weight in np.linspace(1, 100, 15):\n",
    "    auc = roc_auc_score(gt_joined, sims_joined_both * weight + sims_joined_nn)\n",
    "    print(f\"weight={weight} AUC = {auc}, +{len(gt_similarities[True])} -{len(gt_similarities[False])}\")    \n",
    "    \n",
    "print()\n",
    "weight = 5\n",
    "auc = roc_auc_score(gt_joined, sims_joined_both + sims_joined_nn * weight)\n",
    "print(f\"weight={weight} AUC = {auc}, +{len(gt_similarities[True])} -{len(gt_similarities[False])}\")\n",
    "\n",
    "#f1 = f1_score(gt_joined, sims_joined_both + sims_joined_2 * weight)\n",
    "#print(f\"weight={weight} F1 = {f1}, +{len(gt_similarities[True])} -{len(gt_similarities[False])}\")"
   ]
  },
  {
   "cell_type": "code",
   "execution_count": 51,
   "metadata": {},
   "outputs": [
    {
     "data": {
      "text/plain": [
       "(-10, 20)"
      ]
     },
     "execution_count": 51,
     "metadata": {},
     "output_type": "execute_result"
    },
    {
     "data": {
      "image/png": "[encoded data removed]",
      "text/plain": [
       "<Figure size 432x288 with 1 Axes>"
      ]
     },
     "metadata": {
      "needs_background": "light"
     },
     "output_type": "display_data"
    }
   ],
   "source": [
    "plot_data = pd.DataFrame({\"score\": sims_joined_both + sims_joined_nn * weight, \"same\": gt_joined, \"idx\": gt_idx_joined})\n",
    "ax = sns.violinplot(x=\"same\", y=\"score\", data=plot_data)\n",
    "ax.set_ylim(-10, 20)"
   ]
  },
  {
   "cell_type": "code",
   "execution_count": 64,
   "metadata": {},
   "outputs": [],
   "source": [
    "fitter = umap.UMAP(n_components=5)\n",
    "embs2_umap = fitter.fit_transform(embs2)"
   ]
  },
  {
   "cell_type": "code",
   "execution_count": 65,
   "metadata": {},
   "outputs": [
    {
     "name": "stdout",
     "output_type": "stream",
     "text": [
      "embs2 UMAP AUC = 0.732032972520339, +494 -1054\n",
      "similarity AUC = 0.890469312970062, +494 -1054\n",
      "weight=1.0 AUC = 0.8990158947214775, +494 -1054\n",
      "weight=8.071428571428571 AUC = 0.9130514945954875, +494 -1054\n",
      "weight=15.142857142857142 AUC = 0.9125214144688827, +494 -1054\n",
      "weight=22.214285714285715 AUC = 0.9119145111355239, +494 -1054\n",
      "weight=29.285714285714285 AUC = 0.911952922738901, +494 -1054\n",
      "weight=36.357142857142854 AUC = 0.9116225829498577, +494 -1054\n",
      "weight=43.42857142857143 AUC = 0.9115611243844541, +494 -1054\n",
      "weight=50.5 AUC = 0.9115918536671559, +494 -1054\n",
      "weight=57.57142857142857 AUC = 0.9115764890258049, +494 -1054\n",
      "weight=64.64285714285714 AUC = 0.9115688067051295, +494 -1054\n",
      "weight=71.71428571428571 AUC = 0.911507348139726, +494 -1054\n",
      "weight=78.78571428571428 AUC = 0.9114766188570244, +494 -1054\n",
      "weight=85.85714285714286 AUC = 0.9114919834983752, +494 -1054\n",
      "weight=92.92857142857143 AUC = 0.9114612542156735, +494 -1054\n",
      "weight=100.0 AUC = 0.9114228426122964, +494 -1054\n"
     ]
    }
   ],
   "source": [
    "file_to_idx = {fi.file: i for i, fi in enumerate(file_info2)}\n",
    "\n",
    "gt_similarities = {True: [], False: []}\n",
    "for (idx1, idx2), match in manual_ground_truth.items():\n",
    "    gt_similarities[match].append(-((embs2_umap[file_to_idx[idx1], :] - embs2_umap[file_to_idx[idx2]]) ** 2).sum())\n",
    "\n",
    "sims_joined_3 = np.array(gt_similarities[True] + gt_similarities[False])\n",
    "auc = roc_auc_score([1] * len(gt_similarities[True]) + [0] * len(gt_similarities[False]), sims_joined_3)\n",
    "print(f\"embs2 UMAP AUC = {auc}, +{len(gt_similarities[True])} -{len(gt_similarities[False])}\")\n",
    "\n",
    "auc = roc_auc_score([1] * len(gt_similarities[True]) + [0] * len(gt_similarities[False]), sims_joined)\n",
    "print(f\"similarity AUC = {auc}, +{len(gt_similarities[True])} -{len(gt_similarities[False])}\")\n",
    "\n",
    "for weight in np.linspace(1, 100, 15):\n",
    "    auc = roc_auc_score([1] * len(gt_similarities[True]) + [0] * len(gt_similarities[False]), sims_joined * weight + sims_joined_3)\n",
    "    print(f\"weight={weight} AUC = {auc}, +{len(gt_similarities[True])} -{len(gt_similarities[False])}\")"
   ]
  },
  {
   "cell_type": "code",
   "execution_count": 47,
   "metadata": {},
   "outputs": [],
   "source": [
    "category_coefs_test = news.run_nn(file_info_test, \"russian\", news.category_model_ru, news.dictionary_ru)\n",
    "category_coefs_test = np.array(category_coefs_test)"
   ]
  },
  {
   "cell_type": "code",
   "execution_count": 50,
   "metadata": {},
   "outputs": [
    {
     "name": "stdout",
     "output_type": "stream",
     "text": [
      "cat-emb AUC = 0.4928375878653348, +510 -1060\n"
     ]
    }
   ],
   "source": [
    "gt_similarities = {True: [], False: []}\n",
    "for (idx1, idx2), match in manual_ground_truth.items():\n",
    "    gt_similarities[match].append(-embedding_distance(category_coefs_test, idx1, idx2))\n",
    "\n",
    "sims_joined_catnn = np.array(gt_similarities[True] + gt_similarities[False])\n",
    "auc = roc_auc_score(gt_joined, sims_joined_catnn)\n",
    "print(f\"cat-emb AUC = {auc}, +{len(gt_similarities[True])} -{len(gt_similarities[False])}\")\n"
   ]
  },
  {
   "cell_type": "code",
   "execution_count": 73,
   "metadata": {},
   "outputs": [],
   "source": [
    "with open(\"data/manual_grouping.txt\", \"w\") as f:\n",
    "    for idx1 in np.random.choice(len(similarities2), 1000):\n",
    "        cat = cats2[file_info2[idx1].file]\n",
    "        if cat == \"junk\":\n",
    "            continue\n",
    "            \n",
    "        f.write(f\"\\n\\n\\nFILE#{idx1}\\n{cat}\\n{file_info2[idx1].text}\\n\")\n",
    "        sims = similarities2[idx1]\n",
    "        sims_adjusted = [(idx2, sim - 5 * embedding_distance(embs2, idx1, idx2)) for idx2, sim in sims]\n",
    "        sims_adjusted.sort(key=lambda x: x[1], reverse=True)\n",
    "        for idx2, similarity in sims_adjusted:\n",
    "            assignment = \"\"\n",
    "            if (file_info2[idx1].file, file_info2[idx2].file) in manual_ground_truth:\n",
    "                assignment = \"+\" if manual_ground_truth[file_info2[idx1].file, file_info2[idx2].file] else \"-\"\n",
    "                \n",
    "            cat2 = cats2[file_info2[idx2].file]\n",
    "            f.write(f\"\\nSimilarity = {similarity}\\n{cat2}\\n\\t{file_info2[idx2].text[:800]}\\nOTHER#{idx2}:\\n\")"
   ]
  },
  {
   "cell_type": "code",
   "execution_count": 32,
   "metadata": {},
   "outputs": [
    {
     "name": "stdout",
     "output_type": "stream",
     "text": [
      "877 GT examples loaded\n",
      "1053 examples now in GT\n"
     ]
    }
   ],
   "source": [
    "manual_ground_truth = {}\n",
    "if os.path.exists(os.path.join(folder2, \"gt_groups\")):\n",
    "    with open(os.path.join(folder2, \"gt_groups\")) as f:\n",
    "        for line in f:\n",
    "            idx1, idx2, match = line.strip().split(\"\\t\")\n",
    "            match = match == \"True\"\n",
    "            manual_ground_truth[(idx1, idx2)] = match\n",
    "            manual_ground_truth[(idx2, idx1)] = match\n",
    "        \n",
    "print(len(manual_ground_truth) // 2, \"GT examples loaded\")\n",
    "\n",
    "with open(\"data/manual_grouping.txt\") as f:\n",
    "    idx1 = None\n",
    "    for line in f:\n",
    "        if line.startswith(\"FILE#\"):\n",
    "            idx1 = file_info2[int(line.split(\"#\")[1].strip())].file\n",
    "        elif line.startswith(\"OTHER#\"):\n",
    "            idx2 = file_info2[int(line.split(\"#\")[1].split(\":\")[0])].file\n",
    "            mark = line.split(\":\")[1].strip()\n",
    "            if mark == \"\":\n",
    "                continue\n",
    "            \n",
    "            match = mark[0] != \"-\"\n",
    "            manual_ground_truth[(idx1, idx2)] = match\n",
    "            manual_ground_truth[(idx2, idx1)] = match\n",
    "    \n",
    "print(len(manual_ground_truth) // 2, \"examples now in GT\")\n",
    "\n",
    "with open(os.path.join(folder2, \"gt_groups\"), \"w\") as f:\n",
    "    for (idx1, idx2), match in manual_ground_truth.items():\n",
    "        f.write(f\"{idx1}\\t{idx2}\\t{match}\\n\")"
   ]
  },
  {
   "cell_type": "code",
   "execution_count": null,
   "metadata": {},
   "outputs": [],
   "source": []
  }
 ],
 "metadata": {
  "kernelspec": {
   "display_name": "Python 3",
   "language": "python",
   "name": "python3"
  },
  "language_info": {
   "codemirror_mode": {
    "name": "ipython",
    "version": 3
   },
   "file_extension": ".py",
   "mimetype": "text/x-python",
   "name": "python",
   "nbconvert_exporter": "python",
   "pygments_lexer": "ipython3",
   "version": "3.7.0"
  }
 },
 "nbformat": 4,
 "nbformat_minor": 4
}
