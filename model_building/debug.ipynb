{
 "cells": [
  {
   "cell_type": "code",
   "execution_count": 1,
   "metadata": {},
   "outputs": [],
   "source": [
    "%load_ext autoreload\n",
    "%autoreload 2"
   ]
  },
  {
   "cell_type": "code",
   "execution_count": null,
   "metadata": {},
   "outputs": [],
   "source": [
    "import os\n",
    "import glob\n",
    "from collections import Counter\n",
    "import math\n",
    "import re\n",
    "import json\n",
    "import subprocess\n",
    "import time\n",
    "import pickle\n",
    "\n",
    "import pandas as pd\n",
    "import umap\n",
    "from tqdm.autonotebook import tqdm, trange\n",
    "from nltk.tokenize import word_tokenize\n",
    "\n",
    "import numpy as np\n",
    "import scipy.stats\n",
    "from sklearn.datasets import load_iris, load_digits\n",
    "from sklearn.model_selection import train_test_split, KFold\n",
    "\n",
    "from sklearn.preprocessing import LabelBinarizer, LabelEncoder\n",
    "from sklearn.metrics import confusion_matrix, roc_auc_score, f1_score\n",
    "from sklearn.utils import class_weight\n",
    "\n",
    "from tensorflow import keras\n",
    "\n",
    "import tensorflow as tf\n",
    "gpus = tf.config.experimental.list_physical_devices('GPU')\n",
    "#assert gpus\n",
    "try:\n",
    "    # Currently, memory growth needs to be the same across GPUs\n",
    "    for gpu in gpus:\n",
    "        tf.config.experimental.set_memory_growth(gpu, True)\n",
    "\n",
    "    logical_gpus = tf.config.experimental.list_logical_devices('GPU')\n",
    "    print(len(gpus), \"Physical GPUs,\", len(logical_gpus), \"Logical GPUs\")\n",
    "except RuntimeError as e:\n",
    "    # Memory growth must be set before GPUs have been initialized\n",
    "    print(e)\n",
    "\n",
    "\n",
    "import seaborn as sns\n",
    "import matplotlib.pyplot as plt\n",
    "from sklearn.preprocessing import LabelBinarizer, LabelEncoder\n",
    "from sklearn.metrics import confusion_matrix\n",
    "from sklearn.utils import class_weight\n",
    "layers = keras.layers\n",
    "models = keras.models\n",
    "from tensorflow.keras.optimizers import Adam\n",
    "from tensorflow.keras import backend as K\n",
    "import numpy.random as rng\n",
    "from tensorflow.keras import regularizers\n",
    "from tensorflow.keras.callbacks import ModelCheckpoint\n",
    "\n",
    "import convert_model\n",
    "\n",
    "import language\n",
    "import text_nn\n",
    "import grab_category\n",
    "import news\n",
    "import groups\n",
    "import libs.cpp_stuff as cpp"
   ]
  },
  {
   "cell_type": "code",
   "execution_count": 3,
   "metadata": {},
   "outputs": [],
   "source": [
    "fi = language.read_dump(\"data/website/en/categories_en/society\")\n",
    "cpp.load_idf(groups.counts_for_grouping_en)"
   ]
  },
  {
   "cell_type": "code",
   "execution_count": 4,
   "metadata": {},
   "outputs": [],
   "source": [
    "title_fi = {}\n",
    "for f in fi:\n",
    "    if f.title not in title_fi:\n",
    "        title_fi[f.title] = []\n",
    "    \n",
    "    title_fi[f.title].append(f)"
   ]
  },
  {
   "cell_type": "code",
   "execution_count": 5,
   "metadata": {},
   "outputs": [
    {
     "data": {
      "text/plain": [
       "24"
      ]
     },
     "execution_count": 5,
     "metadata": {},
     "output_type": "execute_result"
    }
   ],
   "source": [
    "articles_1 = \"\"\"\t5 dead, many more missing in eruption of New Zealand volcano site:ABC Action News - WFTS - Tampa Bay\n",
    "\tFive dead as volcano erupts in New Zealand site:Lancashire Post\n",
    "\tAt least five dead, many more missing following eruption of New Zealand volcano site:The Japan Times\n",
    "\t5 dead, many more missing in eruption of New Zealand volcano site:Bashaw Star\n",
    "\t5 dead, many more missing in eruption of New Zealand volcano site:Barriere Star Journal\n",
    "\t5 dead, many more missing in eruption of New Zealand volcano site:The Stettler Independent\n",
    "\tVolcano Erupts in New Zealand; 5 Dead, Many Missing site:Courthouse News Service\n",
    "\tiN VIDEO: 5 dead, many more missing in eruption of New Zealand volcano site:iNFOnews.ca\n",
    "\t5 dead, many more missing or injured after New Zealand volcano erupts site:Japan Today\n",
    "\tTerrifying footage of New Zealand volcano eruption that has killed five site:PlymouthLive\n",
    "\tFive dead as volcano erupts in New Zealand site:Shropshire Star\n",
    "\t1 dead, many more missing in eruption of New Zealand volcano site:An-Nahar\n",
    "\tFive dead as volcano erupts in New Zealand site:Express & Star\n",
    "\t5 dead, many more missing in eruption of New Zealand volcano site:North Delta Reporter\n",
    "\tDozens feared dead in eruption of New Zealand volcano site:THE OKLAHOMAN\n",
    "\t5 dead, many missing in eruption of NZ volcano; search ops yet to begin site:Business-Standard\n",
    "\t5 dead, 8 missing in New Zealand volcano eruption site:Las Vegas Review-Journal\n",
    "\tNew Zealand volcano eruption leaves at least five dead after tourists seen in crater caught up in explosion site:DevonLive\n",
    "\tBritons feared missing after volcano erupts in New Zealand site:Shropshire Star\n",
    "\tDeadly volcano eruption site:Castanet\n",
    "\tUPDATE: Five dead, many more missing in eruption of New Zealand volcano | IOL News site:www.iol.co.za\n",
    "\tBritons feared missing after volcano erupts in New Zealand site:Express & Star\n",
    "\tTourists missing after deadly New Zealand volcano eruption site:Times of Oman\n",
    "\tNew Zealand: Five dead after volcanic island erupts - British tourist among missing site:THE SCOTSMAN\"\"\"\n",
    "\n",
    "articles_1 = [a.strip().split(\" site:\") for a in articles_1.split(\"\\n\")]\n",
    "fi_1 = []\n",
    "for title, site in articles_1:\n",
    "    for f in title_fi[title]:\n",
    "        if f.site == site:\n",
    "            fi_1.append(f)\n",
    "            break\n",
    "            \n",
    "len(fi_1)"
   ]
  },
  {
   "cell_type": "code",
   "execution_count": 6,
   "metadata": {},
   "outputs": [
    {
     "data": {
      "text/plain": [
       "11"
      ]
     },
     "execution_count": 6,
     "metadata": {},
     "output_type": "execute_result"
    }
   ],
   "source": [
    "articles_2 = \"\"\"\tFive dead, many injured after New Zealand volcano eruption site:The Guardian\n",
    "\tOne critically injured as popular New Zealand volcano erupts site:The Peninsula\n",
    "\tUPDATE: Five dead, many injured after New Zealand volcano eruption site:News24\n",
    "\tFive dead, many injured after New Zealand volcano eruption site:Punch Newspapers\n",
    "\tFive dead as popular New Zealand volcano erupts site:The Peninsula\n",
    "\tNew Zealand volcano eruption kills 5 site:Daily Nation\n",
    "\tSeveral injured, about 100 people in the area as New Zealand's White Island volcano erupts site:CNA\n",
    "\tFive dead, tourists stranded as New Zealand volcano erupts site:Saudi Gazette\n",
    "\t1 dead as NZ volcano erupts, more fatalities likely site:Deccan Herald\n",
    "\tInjuries feared as popular New Zealand volcano erupts site:Deccan Herald\n",
    "\tNo more survivors from New Zealand volcano eruption site:Daily Nation\"\"\"\n",
    "\n",
    "articles_2 = [a.strip().split(\" site:\") for a in articles_2.split(\"\\n\")]\n",
    "fi_2 = []\n",
    "for title, site in articles_2:\n",
    "    for f in title_fi[title]:\n",
    "        if f.site == site:\n",
    "            fi_2.append(f)\n",
    "            break\n",
    "            \n",
    "len(fi_2)"
   ]
  },
  {
   "cell_type": "code",
   "execution_count": 76,
   "metadata": {},
   "outputs": [
    {
     "name": "stdout",
     "output_type": "stream",
     "text": [
      "#19 Deadly volcano eruption site: Castanet\n",
      "#16 5 dead, 8 missing in New Zealand volcano eruption site: Las Vegas Review-Journal\n",
      "#3 5 dead, many more missing in eruption of New Zealand volcano site: Bashaw Star\n",
      "#13 5 dead, many more missing in eruption of New Zealand volcano site: North Delta Reporter\n",
      "#5 5 dead, many more missing in eruption of New Zealand volcano site: The Stettler Independent\n",
      "#4 5 dead, many more missing in eruption of New Zealand volcano site: Barriere Star Journal\n",
      "#15 5 dead, many missing in eruption of NZ volcano; search ops yet to begin site: Business-Standard\n",
      "#14 Dozens feared dead in eruption of New Zealand volcano site: THE OKLAHOMAN\n",
      "#12 Five dead as volcano erupts in New Zealand site: Express & Star\n",
      "#10 Five dead as volcano erupts in New Zealand site: Shropshire Star\n",
      "#1 Five dead as volcano erupts in New Zealand site: Lancashire Post\n",
      "#9 Terrifying footage of New Zealand volcano eruption that has killed five site: PlymouthLive\n",
      "#0 5 dead, many more missing in eruption of New Zealand volcano site: ABC Action News - WFTS - Tampa Bay\n",
      "#2 At least five dead, many more missing following eruption of New Zealand volcano site: The Japan Times\n",
      "#7 iN VIDEO: 5 dead, many more missing in eruption of New Zealand volcano site: iNFOnews.ca\n",
      "#6 Volcano Erupts in New Zealand; 5 Dead, Many Missing site: Courthouse News Service\n",
      "#8 5 dead, many more missing or injured after New Zealand volcano erupts site: Japan Today\n",
      "#11 1 dead, many more missing in eruption of New Zealand volcano site: An-Nahar\n",
      "#17 New Zealand volcano eruption leaves at least five dead after tourists seen in crater caught up in explosion site: DevonLive\n",
      "#20 UPDATE: Five dead, many more missing in eruption of New Zealand volcano | IOL News site: www.iol.co.za\n",
      "#22 Tourists missing after deadly New Zealand volcano eruption site: Times of Oman\n",
      "\n",
      "\n",
      "#27 Five dead, many injured after New Zealand volcano eruption site: Punch Newspapers\n",
      "#24 Five dead, many injured after New Zealand volcano eruption site: The Guardian\n",
      "#26 UPDATE: Five dead, many injured after New Zealand volcano eruption site: News24\n",
      "#29 New Zealand volcano eruption kills 5 site: Daily Nation\n",
      "#34 No more survivors from New Zealand volcano eruption site: Daily Nation\n",
      "#31 Five dead, tourists stranded as New Zealand volcano erupts site: Saudi Gazette\n",
      "#25 One critically injured as popular New Zealand volcano erupts site: The Peninsula\n",
      "#28 Five dead as popular New Zealand volcano erupts site: The Peninsula\n",
      "#33 Injuries feared as popular New Zealand volcano erupts site: Deccan Herald\n",
      "#32 1 dead as NZ volcano erupts, more fatalities likely site: Deccan Herald\n",
      "#30 Several injured, about 100 people in the area as New Zealand's White Island volcano erupts site: CNA\n",
      "\n",
      "\n",
      "#21 Britons feared missing after volcano erupts in New Zealand site: Express & Star\n",
      "#18 Britons feared missing after volcano erupts in New Zealand site: Shropshire Star\n",
      "#23 New Zealand: Five dead after volcanic island erupts - British tourist among missing site: THE SCOTSMAN\n",
      "\n",
      "\n"
     ]
    }
   ],
   "source": [
    "fis = fi_1 + fi_2\n",
    "gg = cpp.group_texts(groups.extract_infos_for_grouping(fis), groups.counts_for_grouping_en, 0.2)\n",
    "\n",
    "for g in gg:\n",
    "    for i in g:\n",
    "        print(f\"#{i}\", fis[i].title, \"site:\", fis[i].site)\n",
    "    \n",
    "    print()\n",
    "    print()"
   ]
  },
  {
   "cell_type": "code",
   "execution_count": 27,
   "metadata": {},
   "outputs": [
    {
     "name": "stdout",
     "output_type": "stream",
     "text": [
      "#29 New Zealand volcano eruption kills 5 site: Daily Nation\n",
      "#34 No more survivors from New Zealand volcano eruption site: Daily Nation\n",
      "0.0\n",
      "\n",
      "\n",
      "#32 1 dead as NZ volcano erupts, more fatalities likely site: Deccan Herald\n",
      "#33 Injuries feared as popular New Zealand volcano erupts site: Deccan Herald\n",
      "0.0\n",
      "\n",
      "\n",
      "#10 Five dead as volcano erupts in New Zealand site: Shropshire Star\n",
      "#18 Britons feared missing after volcano erupts in New Zealand site: Shropshire Star\n",
      "0.0\n",
      "\n",
      "\n",
      "#12 Five dead as volcano erupts in New Zealand site: Express & Star\n",
      "#21 Britons feared missing after volcano erupts in New Zealand site: Express & Star\n",
      "0.0\n",
      "\n",
      "\n",
      "#20 UPDATE: Five dead, many more missing in eruption of New Zealand volcano | IOL News site: www.iol.co.za\n",
      "#30 Several injured, about 100 people in the area as New Zealand's White Island volcano erupts site: CNA\n",
      "0.061811916530132294\n",
      "\n",
      "\n",
      "#20 UPDATE: Five dead, many more missing in eruption of New Zealand volcano | IOL News site: www.iol.co.za\n",
      "#25 One critically injured as popular New Zealand volcano erupts site: The Peninsula\n",
      "0.0714796707034111\n",
      "\n",
      "\n",
      "#20 UPDATE: Five dead, many more missing in eruption of New Zealand volcano | IOL News site: www.iol.co.za\n",
      "#33 Injuries feared as popular New Zealand volcano erupts site: Deccan Herald\n",
      "0.07779758423566818\n",
      "\n",
      "\n",
      "#20 UPDATE: Five dead, many more missing in eruption of New Zealand volcano | IOL News site: www.iol.co.za\n",
      "#28 Five dead as popular New Zealand volcano erupts site: The Peninsula\n",
      "0.07936696708202362\n",
      "\n",
      "\n",
      "#20 UPDATE: Five dead, many more missing in eruption of New Zealand volcano | IOL News site: www.iol.co.za\n",
      "#29 New Zealand volcano eruption kills 5 site: Daily Nation\n",
      "0.08985784649848938\n",
      "\n",
      "\n",
      "#20 UPDATE: Five dead, many more missing in eruption of New Zealand volcano | IOL News site: www.iol.co.za\n",
      "#32 1 dead as NZ volcano erupts, more fatalities likely site: Deccan Herald\n",
      "0.0910697653889656\n",
      "\n",
      "\n"
     ]
    }
   ],
   "source": [
    "for (i1, i2), sim in sorted(cpp.calc_similarities(groups.extract_infos_for_grouping(fis), groups.counts_for_grouping_en, 0.2), key=lambda x: x[1], reverse=False)[:10]:\n",
    "    print(f\"#{i1}\", fis[i1].title, \"site:\", fis[i1].site)    \n",
    "    print(f\"#{i2}\", fis[i2].title, \"site:\", fis[i2].site)\n",
    "    print(sim)\n",
    "    print()\n",
    "    print()"
   ]
  },
  {
   "cell_type": "code",
   "execution_count": 21,
   "metadata": {},
   "outputs": [],
   "source": [
    "chunks_1 = [cpp.get_chunks(words, groups.counts_for_grouping_en) for words in groups.extract_texts_for_grouping(fi_1)]\n",
    "chunks_2 = [cpp.get_chunks(words, groups.counts_for_grouping_en) for words in groups.extract_texts_for_grouping(fi_2)]\n",
    "chunkss = chunks_1 + chunks_2"
   ]
  },
  {
   "cell_type": "code",
   "execution_count": 176,
   "metadata": {},
   "outputs": [],
   "source": [
    "min_idf = 1\n",
    "def chunks_total(chunks):\n",
    "    return sum(count * idf for _, (count, idf) in chunks.items() if idf > min_idf)\n",
    "\n",
    "total_1 = [chunks_total(chunks) for chunks in chunks_1]\n",
    "total_2 = [chunks_total(chunks) for chunks in chunks_2]\n",
    "totals = total_1 + total_2"
   ]
  },
  {
   "cell_type": "code",
   "execution_count": 177,
   "metadata": {},
   "outputs": [],
   "source": [
    "def calc_sim(chunks1, chunks2, t1, t2):\n",
    "    s = 0\n",
    "    for chunk, (count, idf) in chunks1.items():\n",
    "        if chunk in chunks2:\n",
    "            if idf > min_idf:\n",
    "                s += idf * min(count, chunks2[chunk][0])\n",
    "            \n",
    "    return s / max(t1, t2)\n",
    "\n",
    "def simn(i1, i2):\n",
    "    return calc_sim(chunkss[i1], chunkss[i2], totals[i1], totals[i2])"
   ]
  },
  {
   "cell_type": "code",
   "execution_count": 178,
   "metadata": {},
   "outputs": [
    {
     "data": {
      "text/plain": [
       "0.09106980070838247"
      ]
     },
     "execution_count": 178,
     "metadata": {},
     "output_type": "execute_result"
    }
   ],
   "source": [
    "simn(20, 32)"
   ]
  },
  {
   "cell_type": "code",
   "execution_count": 179,
   "metadata": {},
   "outputs": [],
   "source": [
    "def join_chunks(chunkss, totals):\n",
    "    res = {}\n",
    "    sum_total = sum(totals)\n",
    "    for chunks, total in zip(chunkss, totals):\n",
    "        weight = 1 / len(totals)\n",
    "        for chunk, (count, idf) in chunks.items():\n",
    "            if chunk not in res:\n",
    "                res[chunk] = 0, idf\n",
    "                \n",
    "            res[chunk] = res[chunk][0] + count * weight, idf\n",
    "    \n",
    "    return res, chunks_total(res)# sum_total / len(totals)\n",
    "\n",
    "chunksj1, totalj1 = join_chunks(chunks_1, total_1)\n",
    "chunksj2, totalj2 = join_chunks(chunks_2, total_2)"
   ]
  },
  {
   "cell_type": "code",
   "execution_count": 180,
   "metadata": {},
   "outputs": [
    {
     "name": "stdout",
     "output_type": "stream",
     "text": [
      "#24 0.18358272898321953\n",
      "#25 0.15139506016183346\n",
      "#26 0.18766340554311078\n",
      "#27 0.18695828554595278\n",
      "#28 0.1560199991995665\n",
      "#29 0.1751668894208689\n",
      "#30 0.15418748996532244\n",
      "#31 0.19005115881378515\n",
      "#32 0.17333083325985008\n",
      "#33 0.14277868551136236\n",
      "#34 0.18680661928931033\n",
      "1 - 2: 0.23786758586326023\n"
     ]
    }
   ],
   "source": [
    "for i in range(24, 24 + 11):\n",
    "    print(f\"#{i}\", calc_sim(chunksj1, chunkss[i], totalj1, totals[i]))\n",
    "    \n",
    "print(\"1 - 2:\", calc_sim(chunksj1, chunksj2, totalj1, totalj2))"
   ]
  },
  {
   "cell_type": "code",
   "execution_count": 181,
   "metadata": {},
   "outputs": [
    {
     "name": "stdout",
     "output_type": "stream",
     "text": [
      "4684.061293780824 4684.061293780824\n"
     ]
    }
   ],
   "source": [
    "print(chunks_total(chunksj1), totalj1)"
   ]
  },
  {
   "cell_type": "code",
   "execution_count": 182,
   "metadata": {},
   "outputs": [],
   "source": [
    "chunks_by_gg = []\n",
    "totals_gg = []\n",
    "for g in gg:\n",
    "    c, t = join_chunks([chunkss[i] for i in g], [totals[i] for i in g])\n",
    "    chunks_by_gg.append(c)\n",
    "    totals_gg.append(t)"
   ]
  },
  {
   "cell_type": "code",
   "execution_count": 183,
   "metadata": {},
   "outputs": [
    {
     "name": "stdout",
     "output_type": "stream",
     "text": [
      "0 - 1: 0.23254316202633915\n",
      "0 - 2: 0.2609407910579921\n",
      "1 - 2: 0.17357404311111538\n"
     ]
    }
   ],
   "source": [
    "for i in range(len(gg)):\n",
    "    for j in range(i + 1, len(gg)):\n",
    "        print(f\"{i} - {j}: {calc_sim(chunks_by_gg[i], chunks_by_gg[j], totals_gg[i], totals_gg[j])}\")"
   ]
  },
  {
   "cell_type": "code",
   "execution_count": 184,
   "metadata": {},
   "outputs": [],
   "source": [
    "def make_groups(chunkss, totals, indices):\n",
    "    groups = []\n",
    "    for i, c, t in zip(indices, chunkss, totals):\n",
    "        joined = False\n",
    "        for j, (cg, tg, idx) in enumerate(groups):\n",
    "            if calc_sim(c, cg, t, tg) >= 0.2:\n",
    "                groups[j] = *join_chunks([c, cg], [t, tg]), idx + i\n",
    "                joined = True\n",
    "                break\n",
    "\n",
    "        if not joined:\n",
    "            groups.append((c, t, i))\n",
    "    \n",
    "    return groups"
   ]
  },
  {
   "cell_type": "code",
   "execution_count": 185,
   "metadata": {},
   "outputs": [
    {
     "name": "stdout",
     "output_type": "stream",
     "text": [
      "[0, 1, 2, 3, 4, 5, 6, 7, 8, 9, 10, 11, 12, 13, 14, 15, 16, 17, 18, 19, 21, 22, 23]\n",
      "[20]\n",
      "[24, 25, 26, 27, 28, 29, 30, 31, 32, 33, 34]\n"
     ]
    }
   ],
   "source": [
    "gg1 = make_groups(chunkss, totals, [[i] for i in range(len(totals))])\n",
    "for _, _, g in gg1:\n",
    "    print(g)"
   ]
  },
  {
   "cell_type": "code",
   "execution_count": 186,
   "metadata": {},
   "outputs": [
    {
     "name": "stdout",
     "output_type": "stream",
     "text": [
      "[0, 1, 2, 3, 4, 5, 6, 7, 8, 9, 10, 11, 12, 13, 14, 15, 16, 17, 18, 19, 21, 22, 23, 24, 25, 26, 27, 28, 29, 30, 31, 32, 33, 34]\n",
      "[20]\n"
     ]
    }
   ],
   "source": [
    "gg2 = make_groups(*zip(*gg1))\n",
    "for _, _, g in gg2:\n",
    "    print(g)"
   ]
  },
  {
   "cell_type": "code",
   "execution_count": 133,
   "metadata": {},
   "outputs": [
    {
     "name": "stdout",
     "output_type": "stream",
     "text": [
      "[0, 1, 2, 3, 4, 5, 6, 7, 8, 9, 10, 11, 12, 13, 14, 15, 16, 19, 17, 22, 24, 26, 27, 29, 31, 32, 33, 34]\n",
      "[18, 21, 23]\n",
      "[20]\n",
      "[25, 28, 30]\n"
     ]
    }
   ],
   "source": [
    "gg3 = make_groups(*zip(*gg2))\n",
    "for _, _, g in gg3:\n",
    "    print(g)"
   ]
  },
  {
   "cell_type": "code",
   "execution_count": 121,
   "metadata": {},
   "outputs": [
    {
     "name": "stdout",
     "output_type": "stream",
     "text": [
      "[0, 1, 2, 3, 4, 5, 6, 7, 8, 9, 10, 11, 12, 13, 14, 15, 16, 17, 19, 22, 32, 33, 24, 26, 27, 29, 31, 34, 25, 28, 30]\n",
      "[18, 21, 23]\n",
      "[20]\n"
     ]
    }
   ],
   "source": [
    "gg4 = make_groups(*zip(*gg3))\n",
    "for _, _, g in gg4:\n",
    "    print(g)"
   ]
  },
  {
   "cell_type": "code",
   "execution_count": null,
   "metadata": {},
   "outputs": [],
   "source": []
  }
 ],
 "metadata": {
  "kernelspec": {
   "display_name": "Python 3",
   "language": "python",
   "name": "python3"
  },
  "language_info": {
   "codemirror_mode": {
    "name": "ipython",
    "version": 3
   },
   "file_extension": ".py",
   "mimetype": "text/x-python",
   "name": "python",
   "nbconvert_exporter": "python",
   "pygments_lexer": "ipython3",
   "version": "3.7.0"
  }
 },
 "nbformat": 4,
 "nbformat_minor": 4
}
