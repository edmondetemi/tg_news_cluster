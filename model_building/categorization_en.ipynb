{
 "cells": [
  {
   "cell_type": "code",
   "execution_count": 1,
   "metadata": {},
   "outputs": [],
   "source": [
    "%load_ext autoreload\n",
    "%autoreload 2"
   ]
  },
  {
   "cell_type": "code",
   "execution_count": null,
   "metadata": {},
   "outputs": [],
   "source": [
    "import os\n",
    "import glob\n",
    "from collections import Counter\n",
    "import math\n",
    "import re\n",
    "import json\n",
    "import requests\n",
    "\n",
    "import pandas as pd\n",
    "import umap\n",
    "from tqdm.autonotebook import tqdm\n",
    "from nltk.tokenize import word_tokenize\n",
    "\n",
    "import numpy as np\n",
    "from sklearn.datasets import load_iris, load_digits\n",
    "from sklearn.model_selection import train_test_split, KFold\n",
    "\n",
    "from tensorflow import keras\n",
    "\n",
    "import tensorflow as tf\n",
    "gpus = tf.config.experimental.list_physical_devices('GPU')\n",
    "#assert gpus\n",
    "try:\n",
    "    # Currently, memory growth needs to be the same across GPUs\n",
    "    for gpu in gpus:\n",
    "        tf.config.experimental.set_memory_growth(gpu, True)\n",
    "\n",
    "    logical_gpus = tf.config.experimental.list_logical_devices('GPU')\n",
    "    print(len(gpus), \"Physical GPUs,\", len(logical_gpus), \"Logical GPUs\")\n",
    "except RuntimeError as e:\n",
    "    # Memory growth must be set before GPUs have been initialized\n",
    "    print(e)\n",
    "\n",
    "\n",
    "from sklearn.preprocessing import LabelBinarizer, LabelEncoder\n",
    "from sklearn.metrics import confusion_matrix\n",
    "from sklearn.utils import class_weight\n",
    "layers = keras.layers\n",
    "models = keras.models\n",
    "from tensorflow.keras.optimizers import Adam\n",
    "\n",
    "import convert_model\n",
    "\n",
    "import language\n",
    "import text_nn\n",
    "import grab_category\n",
    "import news"
   ]
  },
  {
   "cell_type": "code",
   "execution_count": 3,
   "metadata": {},
   "outputs": [
    {
     "name": "stdout",
     "output_type": "stream",
     "text": [
      "35197 word stems\n"
     ]
    }
   ],
   "source": [
    "folder_bootstrap = \"data/sample\"\n",
    "file_info = language.read_dump(os.path.join(folder_bootstrap, \"langs\", \"dump\", \"en\"))\n",
    "normalizer = news.TextNormalizer(\"english\")\n",
    "normalizer.train(file_info)\n",
    "train_texts = normalizer.normalize_texts(file_info)\n",
    "\n",
    "folders_part2 = [\"data/sample2\", \"data/sample3\"]\n",
    "file_info2 = []\n",
    "for folder in folders_part2:\n",
    "    file_info2.extend(language.read_dump(os.path.join(folder, \"langs\", \"dump\", \"en\")))\n",
    "\n",
    "train_texts2 = normalizer.normalize_texts(file_info2)\n",
    "\n",
    "folder_part3 = \"data/sample4\"\n",
    "file_info3 = language.read_dump(os.path.join(folder_part3, \"langs\", \"dump\", \"en\"))\n",
    "train_texts3 = normalizer.normalize_texts(file_info3)"
   ]
  },
  {
   "cell_type": "code",
   "execution_count": 4,
   "metadata": {},
   "outputs": [
    {
     "name": "stdout",
     "output_type": "stream",
     "text": [
      "7542 GT labels loaded from data/sample\n",
      "6848 GT labels loaded from data/sample2\n",
      "5818 GT labels loaded from data/sample3\n",
      "5853 GT labels loaded from data/sample4\n"
     ]
    }
   ],
   "source": [
    "ground_truth = grab_category.load_gt(folder_bootstrap)\n",
    "\n",
    "ground_truth2 = {}\n",
    "for folder in folders_part2:\n",
    "    ground_truth2.update(grab_category.load_gt(folder).items())\n",
    "\n",
    "ground_truth3 = grab_category.load_gt(folder_part3)"
   ]
  },
  {
   "cell_type": "code",
   "execution_count": 5,
   "metadata": {},
   "outputs": [],
   "source": [
    "def print_test_stats(predicted_labels, ground_truth, file_info, name):\n",
    "    errors = 0\n",
    "    for i, fi in enumerate(file_info):\n",
    "        if fi.file in ground_truth:\n",
    "            if predicted_labels[i] != ground_truth[fi.file]:\n",
    "                errors += 1\n",
    "            \n",
    "    print(f\"{name} predicted categories:\", Counter(predicted_labels))\n",
    "    print(f\"{errors} / {len(ground_truth)} ({errors / len(ground_truth) * 100}%) {name} errors in GT\")"
   ]
  },
  {
   "cell_type": "code",
   "execution_count": 6,
   "metadata": {},
   "outputs": [
    {
     "data": {
      "application/vnd.jupyter.widget-view+json": {
       "model_id": "5d264c20b76f426cbf614f95d224445d",
       "version_major": 2,
       "version_minor": 0
      },
      "text/plain": [
       "HBox(children=(IntProgress(value=0, description='assigning keyword-based labels', max=70638, style=ProgressSty…"
      ]
     },
     "metadata": {},
     "output_type": "display_data"
    },
    {
     "name": "stdout",
     "output_type": "stream",
     "text": [
      "\n",
      "70555 / 70638 (99.88249950451599%) have categories\n",
      "Counter({'society': 24653, 'junk': 10430, 'sports': 10125, 'entertainment': 9390, 'economy': 7448, 'technology': 4333, 'other': 2496, 'science': 1680, '': 83})\n",
      "keywords predicted categories: Counter({'society': 24653, 'junk': 10430, 'sports': 10125, 'entertainment': 9390, 'economy': 7448, 'technology': 4333, 'other': 2496, 'science': 1680, '': 83})\n",
      "1729 / 7542 (22.92495359321135%) keywords errors in GT\n"
     ]
    }
   ],
   "source": [
    "kw_categories = text_nn.keyword_categories(file_info, text_nn.category_words_en)\n",
    "url_junk = grab_category.junk_by_url(file_info, grab_category.junk_url_pattern_en)\n",
    "grab_category.gt_to_linear(kw_categories, url_junk, file_info)\n",
    "categories = kw_categories.copy() \n",
    "print(f\"{sum(cat != '' for cat in categories)} / {len(categories)} ({sum(cat != '' for cat in categories) / len(categories) * 100}%) have categories\")\n",
    "print(Counter(categories))\n",
    "\n",
    "print_test_stats(kw_categories, ground_truth, file_info, \"keywords\")"
   ]
  },
  {
   "cell_type": "code",
   "execution_count": 7,
   "metadata": {},
   "outputs": [],
   "source": [
    "grab_category.gt_to_linear(categories, ground_truth, file_info)"
   ]
  },
  {
   "cell_type": "code",
   "execution_count": 8,
   "metadata": {},
   "outputs": [
    {
     "data": {
      "application/vnd.jupyter.widget-view+json": {
       "model_id": "94b1ca31cae3401ba8f6d178cf71171b",
       "version_major": 2,
       "version_minor": 0
      },
      "text/plain": [
       "HBox(children=(IntProgress(value=0, description='reassigning labels [ft]', max=5, style=ProgressStyle(descript…"
      ]
     },
     "metadata": {},
     "output_type": "display_data"
    },
    {
     "name": "stdout",
     "output_type": "stream",
     "text": [
      "\n",
      "FastText predicted categories: Counter({'society': 24713, 'junk': 10649, 'sports': 10434, 'entertainment': 9285, 'economy': 7501, 'technology': 4081, 'other': 2354, 'science': 1621})\n",
      "1134 / 7542 (15.035799522673033%) FastText errors in GT\n",
      "keywords predicted categories: Counter({'society': 24653, 'junk': 10430, 'sports': 10125, 'entertainment': 9390, 'economy': 7448, 'technology': 4333, 'other': 2496, 'science': 1680, '': 83})\n",
      "1729 / 7542 (22.92495359321135%) keywords errors in GT\n",
      "FastText predicted categories: Counter({'society': 37551, 'junk': 16046, 'sports': 14385, 'entertainment': 13999, 'economy': 13216, 'technology': 6675, 'other': 2940, 'science': 2615})\n",
      "1312 / 7998 (16.404101025256317%) FastText errors in GT\n",
      "FastText predicted categories: Counter({'society': 20079, 'sports': 9886, 'junk': 9085, 'entertainment': 7276, 'economy': 6008, 'technology': 2694, 'other': 1495, 'science': 1150})\n",
      "312 / 5853 (5.330599692465402%) FastText errors in GT\n"
     ]
    }
   ],
   "source": [
    "np.random.seed(3)\n",
    "reassigned_labels = text_nn.reassign_labels_one_dataset_ft(train_texts, categories)\n",
    "\n",
    "print_test_stats(reassigned_labels, ground_truth, file_info, \"FastText\")\n",
    "print_test_stats(kw_categories, ground_truth, file_info, \"keywords\")\n",
    "grab_category.gt_to_linear(reassigned_labels, ground_truth, file_info)\n",
    "\n",
    "part2_pseudolabels = text_nn.fasttext_predict_category(train_texts, reassigned_labels, train_texts2)    \n",
    "print_test_stats(part2_pseudolabels, ground_truth2, file_info2, \"FastText\")\n",
    "grab_category.gt_to_linear(part2_pseudolabels, ground_truth2, file_info2)\n",
    "\n",
    "part3_predicted_labels = text_nn.fasttext_predict_category(train_texts + train_texts2, reassigned_labels + part2_pseudolabels, train_texts3)    \n",
    "print_test_stats(part3_predicted_labels, ground_truth3, file_info3, \"FastText\")"
   ]
  },
  {
   "cell_type": "raw",
   "metadata": {},
   "source": [
    "part3_predicted_labels_tf = text_nn.tf_predict_category(train_texts + train_texts2, reassigned_labels + part2_pseudolabels, train_texts3, verbose=0)\n",
    "print_test_stats(part3_predicted_labels_tf, ground_truth3, file_info3, \"TF\")"
   ]
  },
  {
   "cell_type": "code",
   "execution_count": 9,
   "metadata": {},
   "outputs": [],
   "source": [
    "all_train_texts = train_texts + train_texts2\n",
    "predict_texts = train_texts3\n",
    "train_categories = reassigned_labels + part2_pseudolabels\n",
    "verbose = 1\n",
    "max_words = 7000\n",
    "tokenize = keras.preprocessing.text.Tokenizer(num_words=max_words, char_level=False)\n",
    "tokenize.fit_on_texts(train_texts)  # fit tokenizer to our training text data\n",
    "x_train = tokenize.texts_to_matrix(all_train_texts).astype(np.float32)\n",
    "x_test = tokenize.texts_to_matrix(predict_texts).astype(np.float32)\n",
    "\n",
    "# Use sklearn utility to convert label strings to numbered index\n",
    "encoder = LabelEncoder()\n",
    "encoder.fit(train_categories)\n",
    "y_train_num = encoder.transform(train_categories)\n",
    "\n",
    "# Converts the labels to a one-hot representation\n",
    "num_classes = np.max(y_train_num) + 1\n",
    "y_train = keras.utils.to_categorical(y_train_num, num_classes).astype(np.float32)\n",
    "\n",
    "def ground_truth_idx(ground_truth, file_info):\n",
    "    idx = []\n",
    "    for i, fi in enumerate(file_info):\n",
    "        idx.append(fi.file in ground_truth)\n",
    "        \n",
    "    return idx\n",
    "\n",
    "gt1 = ground_truth_idx(ground_truth, file_info)\n",
    "gt2 = ground_truth_idx(ground_truth2, file_info2)\n",
    "sample_weights = np.array(gt1 + gt2, np.float32) * 4 + 1"
   ]
  },
  {
   "cell_type": "code",
   "execution_count": 10,
   "metadata": {},
   "outputs": [],
   "source": [
    "tokenizer_data = json.loads(tokenize.to_json())\n",
    "word_index = json.loads(tokenizer_data[\"config\"][\"word_index\"])\n",
    "with open(\"data/dictionary_en.tsv\", \"w\") as f:\n",
    "    for word, index in word_index.items():\n",
    "        if index < max_words:\n",
    "            f.write(f\"{word}\\t{index}\\t{normalizer.idf[word] if word in normalizer.idf else 0}\\n\")\n",
    "            \n",
    "with open(\"data/categories_en\", \"w\") as f:\n",
    "    for c in encoder.classes_:\n",
    "        f.write(c + \"\\n\")"
   ]
  },
  {
   "cell_type": "code",
   "execution_count": 11,
   "metadata": {},
   "outputs": [
    {
     "name": "stdout",
     "output_type": "stream",
     "text": [
      "Flushing input history\n",
      "Flushing output cache (0 entries)\n",
      "Model: \"sequential\"\n",
      "_________________________________________________________________\n",
      "Layer (type)                 Output Shape              Param #   \n",
      "=================================================================\n",
      "dropout (Dropout)            (None, 7000)              0         \n",
      "_________________________________________________________________\n",
      "dense (Dense)                (None, 512)               3584512   \n",
      "_________________________________________________________________\n",
      "dropout_1 (Dropout)          (None, 512)               0         \n",
      "_________________________________________________________________\n",
      "dense_1 (Dense)              (None, 512)               262656    \n",
      "_________________________________________________________________\n",
      "dropout_2 (Dropout)          (None, 512)               0         \n",
      "_________________________________________________________________\n",
      "dense_2 (Dense)              (None, 8)                 4104      \n",
      "=================================================================\n",
      "Total params: 3,851,272\n",
      "Trainable params: 3,851,272\n",
      "Non-trainable params: 0\n",
      "_________________________________________________________________\n"
     ]
    }
   ],
   "source": [
    "%reset -f in out\n",
    "batch_size = 32\n",
    "epochs = 10\n",
    "drop_ratio = 0.5\n",
    "\n",
    "# Build the model\n",
    "model = models.Sequential()\n",
    "model.add(layers.Dropout(0.4, input_shape=(max_words,)))\n",
    "model.add(layers.Dense(512, use_bias=True, activation=\"relu\"))\n",
    "model.add(layers.Dropout(drop_ratio))\n",
    "model.add(layers.Dense(512, use_bias=True, activation=\"relu\"))\n",
    "model.add(layers.Dropout(drop_ratio))\n",
    "model.add(layers.Dense(num_classes, activation=\"softmax\"))\n",
    "\n",
    "model.compile(loss='categorical_crossentropy',\n",
    "              optimizer=Adam(lr=0.0001),\n",
    "              metrics=['accuracy'])\n",
    "\n",
    "model.summary()"
   ]
  },
  {
   "cell_type": "code",
   "execution_count": 12,
   "metadata": {},
   "outputs": [
    {
     "name": "stdout",
     "output_type": "stream",
     "text": [
      "Train on 178065 samples\n",
      "Epoch 1/10\n",
      "178065/178065 [==============================] - 25s 140us/sample - loss: 1.0165 - accuracy: 0.7321\n",
      "Epoch 2/10\n",
      "178065/178065 [==============================] - 24s 134us/sample - loss: 0.7418 - accuracy: 0.7909\n",
      "Epoch 3/10\n",
      "178065/178065 [==============================] - 24s 134us/sample - loss: 0.6626 - accuracy: 0.8052\n",
      "Epoch 4/10\n",
      "178065/178065 [==============================] - 24s 135us/sample - loss: 0.6129 - accuracy: 0.8168\n",
      "Epoch 5/10\n",
      "178065/178065 [==============================] - 24s 134us/sample - loss: 0.5760 - accuracy: 0.8242\n",
      "Epoch 6/10\n",
      "178065/178065 [==============================] - 24s 136us/sample - loss: 0.5484 - accuracy: 0.8299\n",
      "Epoch 7/10\n",
      "178065/178065 [==============================] - 24s 136us/sample - loss: 0.5267 - accuracy: 0.8357\n",
      "Epoch 8/10\n",
      "178065/178065 [==============================] - 24s 136us/sample - loss: 0.5016 - accuracy: 0.8413\n",
      "Epoch 9/10\n",
      "178065/178065 [==============================] - 24s 134us/sample - loss: 0.4866 - accuracy: 0.8457\n",
      "Epoch 10/10\n",
      "178065/178065 [==============================] - 24s 134us/sample - loss: 0.4703 - accuracy: 0.8503\n"
     ]
    }
   ],
   "source": [
    "# model.fit trains the model\n",
    "#class_weights = class_weight.compute_class_weight('balanced', list(np.unique(y_train_num)), y_train_num)\n",
    "\n",
    "history = model.fit(x_train, y_train,\n",
    "                    batch_size=batch_size,\n",
    "                    epochs=epochs,\n",
    "                    verbose=verbose,\n",
    "                    validation_split=0.0,\n",
    "                    class_weight=None,\n",
    "                    sample_weight=sample_weights)"
   ]
  },
  {
   "cell_type": "code",
   "execution_count": 13,
   "metadata": {},
   "outputs": [
    {
     "name": "stdout",
     "output_type": "stream",
     "text": [
      "TF predicted categories: Counter({'society': 21449, 'sports': 10391, 'junk': 8141, 'entertainment': 6624, 'economy': 6111, 'technology': 2729, 'other': 1124, 'science': 1104})\n",
      "249 / 5853 (4.254228600717581%) TF errors in GT\n"
     ]
    }
   ],
   "source": [
    "# Here's how to generate a prediction on individual examples\n",
    "text_labels = encoder.classes_\n",
    "\n",
    "predictions = model.predict(x_test)\n",
    "predicted_labels = text_labels[np.argmax(predictions, axis=1)]\n",
    "print_test_stats(predicted_labels, ground_truth3, file_info3, \"TF\")"
   ]
  },
  {
   "cell_type": "code",
   "execution_count": 14,
   "metadata": {},
   "outputs": [
    {
     "name": "stdout",
     "output_type": "stream",
     "text": [
      "loading data/keras_model.h5\n",
      "WARNING:tensorflow:No training configuration found in save file: the model was *not* compiled. Compile it manually.\n",
      "Forward pass took 0.052015 s.\n",
      "Forward pass took 0.00255 s.\n",
      "Forward pass took 0.00234 s.\n",
      "Starting performance measurements.\n",
      "Forward pass took 0.002141 s.\n",
      "Forward pass took 0.002165 s.\n",
      "Forward pass took 0.002184 s.\n",
      "Forward pass took 0.002301 s.\n",
      "Forward pass took 0.00208 s.\n",
      "Forward pass took 0.0021742000000000003 s on average.\n",
      "Converting model architecture.\n",
      "Converting model weights.\n",
      "Done converting model weights.\n",
      "Calculating model hash.\n",
      "Model conversion finished.\n",
      "writing data/category_model_en.json\n"
     ]
    }
   ],
   "source": [
    "model.save('data/keras_model.h5', include_optimizer=False)\n",
    "convert_model.convert(\"data/keras_model.h5\", \"data/category_model_en.json\", no_tests=False)"
   ]
  },
  {
   "cell_type": "code",
   "execution_count": 15,
   "metadata": {},
   "outputs": [
    {
     "name": "stdout",
     "output_type": "stream",
     "text": [
      "TF-C++ predicted categories: Counter({'society': 21448, 'sports': 10391, 'junk': 8142, 'entertainment': 6624, 'economy': 6111, 'technology': 2729, 'other': 1124, 'science': 1104})\n",
      "249 / 5853 (4.254228600717581%) TF-C++ errors in GT\n"
     ]
    }
   ],
   "source": [
    "cpp_predictions3 = news.classify_en(file_info3)\n",
    "print_test_stats(cpp_predictions3, ground_truth3, file_info3, \"TF-C++\")"
   ]
  },
  {
   "cell_type": "code",
   "execution_count": 170,
   "metadata": {},
   "outputs": [
    {
     "name": "stdout",
     "output_type": "stream",
     "text": [
      "\tFT: science\n",
      "\tTF: science\n",
      "\tEngadget\n",
      "Astronomers create first global map of Saturn's moon Titan It has landscape almost as diverse as Earth. Scientists finally have a comprehensive view of Titan, Saturn's largest moon. A team of astronomers has created the first global map of Titan by using the Cassini probe's over 100 fly-bys to stitch together both imagery and radar measurements. The comprehensive view reveals a landscape that's almost as diverse as Earth in key way. Just shy of two thirds of the surface is dominated by flat plains, but 17 percent of it (mostly at the equator) is blanketed in dunes. Another 14 percent is hilly or mountainous, while 1.5 percent of it has a labyrinthine terrain shaped by erosion and rain. What you don't see is just as important, too. Only 1.5 percent of Titan is covered in lakes (methane, not water), and the distinct lack of impact craters suggests the surface is comparatively young. The map should help researchers address some of Titan's mysteries, such as its seasonal changes and why certain features are located where they are. Its lakes may be dictated by Saturn's elliptical orbit around the Sun, for instance. Moreover, the map could provide vital intelligence for the Dragonfly mission. NASA's team may have a better sense of where the lander should go, not to mention a good idea of what to expect when it touches down.\n",
      "\n",
      "\tFT: science\n",
      "\tTF: science\n",
      "\tForbes\n",
      "Concrete Problems: Experts Caution on Construction of Digital Health Superhighway If you’re used to health tech meetings filled with go-go entrepreneurs and the investors who love them, a conference of academic technology experts can be jarring. Speakers repeatedly pointed to portions of the digital health superhighway that sorely need more concrete – in this case, concrete knowledge. One researcher even used the word “humility.” The gathering was the annual symposium of the American Medical Informatics Association (AMIA). AMIA’s founders were pioneers. Witness the physician featured in a Wall Street Journal story detailing his use of “advanced machines [in] helping diagnose illness” – way back in 1959. That history should provide a sobering perspective on the distinction between inevitable and imminent (a difference at least as important to investors as intellectuals), even on hot-button topics such as new data uses involving the electronic health record (EHR). I’ve been one of the optimists. Earlier this year, my colleague Adrian Gropper and I wrote about pending federal regulations requiring providers to give patients access to their medical record in a format usable by mobile apps. This, we said, could “decisively disrupt medicine’s clinical and economic power structure.” Indeed, the regulations provide “a base on which innovation can happen,” declared Elise Sweeney Anthony, executive director of the policy office of the Office of the National Coordinator for Health Information Policy, at one session. But a base is only that. While Apple has already unveiled an app allowing people to see their health record on their iPhone, as yet there’s no “transformative business model” propelling hospitals to reach out to patients, said Julia Adler-Milstein, director of the Center for Clinical Informatics and Improvement Research at the University of California, San Francisco. Nor is there any indication from her research that many patients are interested. “It’s still early days,” she added. Similarly, Fitbit and Google announced their intent to combine patient-generated health data with clinical information in the EHR well before Fitbit agreed to Google’s $2.1 billion takeover bid. However, researchers studying the implementation requirements for this type of integration see far more than a bit that doesn’t yet fit. One challenge for any app using patient-reported health data is standardizing symptom descriptions in a way patients will understand and yet still yields clinically useful results. Not to mention concerns about data validity. (See: “Want to cheat your Fitbit? Try a puppy or power drill.”) “It’s appropriate to have humility,” said Robert S. Rudin, a senior information scientist at RAND. He added, in language virtually identical to Adler-Milstein’s, “This is still early days.” A major symposium theme was “proactive health care,” or using patients’ health data to prevent or ameliorate illness. One focus was screening patients for the hodgepodge of food, housing and other non-medical issues known as “social determinants of health” (SDOH).  The process seems straightforward: ask patients about their circumstances, load the answers into a database and apply algorithmic analysis. Out pops guidance for addressing the social and economic factors that account for 40 percent of each individual’s health outcomes, compared to the 20 percent from clinic care. Once again, however, important elements remain unresolved. Are the questions valid? Can one trust patients’ recall? Does the whole process even improve outcomes? One recent analysis even warned that some “efforts could worsen health and widen health inequities.” “I’m not sure we’ve worked out these basic issues,” said Jessica Ancker, an associate professor in Weill Cornell Medicine’s division of health informatics Of course, academics have their biases (“Further research is needed”), just as entrepreneurs have theirs (“It’s not a bug, it’s a feature”). Not to mention humorist James Boren’s memorable advice to bureaucrats. As I’ve previously suggested, assembling a group of regulators, innovators and evidence-makers to talk candidly with each other might significantly accelerate digital health innovation. For example, the Google and Ascension Health execs who launched the much-criticized “Project Nightingale”could have have benefited from a blunt warning about big data from Lamiece Hassan, a health data research fellow at England’s University of Manchester. “People have expectations about what information to share and how that information flows,” she said. “Just because the data are accessible doesn’t make it ethical.”\n",
      "\n",
      "\tFT: society\n",
      "\tTF: science\n",
      "\tfijivillage.com\n",
      "South Pacific’s first-ever free children’s heart hospital is being built in Fiji The South Pacific’s first-ever free children’s heart hospital will be built in Fiji. The Sai Prema Foundation of Fiji in conjunction with the Fijian government and the Ministry of health are working together on this project. While making the announcement during Sathya Sai Baba’s 94th Birthday, Singer Sumeet Tappoo who is also a Director of Sai Prema Foundation says the Shree Satya Sai Hospital will provide all surgeries free of charge and there will be no bill counter in the hospital. Tappoo says this hospital is built because a lot of children in Fiji are born with congenital heart disease and most of them die because of this heart problem as they do not have the funds for the operation. He says this hospital will help save the lives of children in Fiji and the Pacific and also save the hundreds and thousands of dollars spent by their families for their treatment. Tappoo adds that this is the largest project that is undertaken by a non-government organisation in Fiji.\n",
      "\n",
      "\tFT: science\n",
      "\tTF: science\n",
      "\tPsychology Today\n",
      "A Brain Network for Alcoholism? Many people enjoy a glass of beer every once in a while and don’t become addicted – but some do. A new study identifies a brain circuit that may be involved in the process. A new study identifies brain network involved in compulsive alcohol drinking. Alcoholism, also called AUD (alcohol use disorder) is a debilitating disorder that results in a wide range of mental and physiological health problems. On average, alcoholism reduces the life expectancy by 10 years. In the United States, about 88,000 people die from alcohol-related causes every year (National Institute on Alcohol Abuse and Alcoholism [NIAAA] Alcohol Facts and Statistics). Despite the high public significance of AUD, it is still not well understood why some people develop AUD and others do not. According to the NIAAA, 86.3% of Americans aged over 18 years drank alcohol at some point in their life and 70.1% drank within the least year (NIAAA Alcohol Facts and Statistics). This shows that many people enjoy a cold beer or a glass of white wine every now and then. The vast majority of them, however, do not develop AUD. According to the NIAAA, the percentage of adults in the United States with AUD is 5.7% (NIAAA Alcohol Facts and Statistics). A new neuroscience study published this week in the prestigious scientific journal Science now sheds light on a mechanism that could potentially explain why some people develop AUD but most do not (Siciliano et al., 2019). People do not developed AUD from one day to another. Typically, this is a gradual process, in which someone starts drinking alcohol casually like the majority of other peoples, but then gets into a habit of compulsive drinking. Compulsive drinking means that someone continues to drink alcohol, even though they face negative consequences, e.g., losing their jobs or partners. It is considered an important step in developing AUD. In the study by Siciliano et al., (2019) the scientists investigated the neurobiology underlying compulsive alcohol drinking in mice. In the study, mice had to react to a tone in order to get access to alcohol. After some days, a bitter substance was added to the alcohol, making the taste experience very unpleasant. This way the scientists could observe which animals would drink large quantities of alcohol despite facing negative consequences. Like in humans, the mice showed large differences in their drinking habits. The scientists classified the mice into three groups: · “low drinkers”: mice that did not drink much alcohol with or without the bitter taste · “high drinkers”: mice that drank a lot of alcohol if it was not bitter, but reduced their drinking when they faced negative consequences · “compulsive drinkers”: mice that drank a lot of alcohol no matter whether they faced negative consequences or not The scientists than investigated a brain network between the cortex and the brainstem in order to identify whether it might explain why some mice show compulsive drinking while others do not. The two key brain structures involved in the network were the medial prefrontal cortex (mPFC) and the periaqueductal gray (PAG) in the brain stem. The mPFC is a cortical brain structure that controls avoidance of negative stimuli, e.g., it should initiate a reduction of alcohol consumption in the face of negative consequences. The PAG is involved in reaction to negative events and has been linked to how people react to alcohol withdrawal. These two brain areas are connected and the scientists hypothesized that functional deficits in this brain network could be a reason why some individuals develop a compulsive drinking habit but most do not. To test this hypothesis, they used cellular-resolution calcium imaging, a neuroscientific method to visualize brain activity in mice. The results were quite striking: Even when the data from the first session in which the animals had not been classified into any group were analyzed, there was a strong difference between the “compulsive drinkers” and the “low drinkers” groups of mice. The “compulsive drinkers” showed more inhibitory responses in the mPFC-PAG network than the “low drinkers.” Thus, already in the early stages of the experiment the brain activity was predictive of whether an animal would later develop a compulsive drinking habit. The scientists next used photoinhibition, a neuroscientific technique to inhibit activity of a specific brain network. They could show that if they inhibited the mPFC-PAG brain network, mice started to develop a compulsive drinking habit. The scientists concluded that the mPFC-PAG brain network is crucial with regard to whether or not an animal developed a compulsive drinking habit. The higher inhibition of the network in the compulsive drinkers indicate that the normal function of this network to end behavior in the face of negative consequences is disrupted. This has important implications for understanding AUD in humans as it highlights the importance of further investigating this specific network in human patients suffering from AUD – hopefully contributing to the development of new and better treatment and prevention strategies in humans.\n",
      "\n",
      "\tFT: science\n",
      "\tTF: science\n",
      "\tThe Washington Times\n",
      "Paging Dr. Robot: Artificial intelligence moves into care The next time you get sick, your care may involve a form of the technology people use to navigate road trips or pick the right vacuum cleaner online. Artificial intelligence is spreading into health care, often as software or a computer program capable of learning from large amounts of data and making predictions to guide care or help patients. It already detects an eye disease tied to diabetes and does other behind-the-scenes work like helping doctors interpret MRI scans and other imaging tests for some forms of cancer. Now, parts of the health system are starting to use it directly with patients. During some clinic and telemedicine appointments, AI-powered software asks patients initial questions about their symptoms that physicians or nurses normally pose. And an AI program featuring a talking image of the Greek philosopher Aristotle is starting to help University of Southern California students cope with stress. Researchers say this push into medicine is at an early stage, but they expect the technology to grow by helping people stay healthy, assisting doctors with tasks and doing more behind-the-scenes work. They also think patients will get used to AI in their care just like they’ve gotten accustomed to using the technology when they travel or shop. But they say there are limits. Even the most advanced software has yet to master important parts of care like a doctor’s ability to feel compassion or use common sense. “Our mission isn’t to replace human beings where only human beings can do the job,” said University of Southern California research professor Albert Rizzo. Rizzo and his team have been working on a program that uses AI and a virtual reality character named “Ellie” that was originally designed to determine whether veterans returning from a deployment might need therapy. Ellie appears on computer monitors and leads a person through initial questions. Ellie makes eye contact, nods and uses hand gestures like a human therapist. It even pauses if the person gives a short answer, to push them to say more. “After the first or second question, you kind of forget that it’s a robot,” said Cheyenne Quilter, a West Point cadet helping to test the program. Ellie does not diagnose or treat. Instead, human therapists used recordings of its sessions to help determine what the patient might need. “This is not AI trying to be your therapist,” said another researcher, Gale Lucas. “This is AI trying to predict who is most likely to be suffering.” The team that developed Ellie also has put together a newer AI-based program to help students manage stress and stay healthy. Ask Ari is making its debut at USC this semester to give students easy access to advice on dealing with loneliness, getting better sleep or handling other complications that crop up in college life. Ari does not replace a therapist, but its designers say it will connect students through their phones or laptops to reliable help whenever they need it USC senior Jason Lewis didn’t think the program would have much for him when he helped test it because he wasn’t seeking counseling. But he found that Ari covered many topics he could relate to, including information on how social media affects people. “Everybody thinks they are alone in their thoughts and problems,” he said. “Ari definitely counters that isolation.” Aside from addressing mental health needs, artificial intelligence also is at work in more common forms of medicine. The tech company AdviNOW Medical and 98point6, which provides treatment through secure text messaging, both use artificial intelligence to question patients at the beginning of an appointment. AdviNOW CEO James Bates said their AI program decides what questions to ask and what information it needs. It passes that information and a suggested diagnosis to a physician who then treats the patient remotely through telemedicine. The company currently uses the technology in a handful of Safeway and Albertsons grocery store clinics in Arizona and Idaho. But it expects to expand to about 1,000 clinics by the end of next year. Eventually, the company wants to have AI diagnose and treat some minor illnesses, Bates said Researchers say much of AI’s potential for medicine lies in what it can do behind the scenes by examining large amounts of data or images to spot problems or predict how a disease will develop, sometimes quicker than a doctor. Future uses might include programs like one that hospitals currently use to tell doctors which patients are more likely to get sepsis, said Darren Dworkin, chief information officer at California’s Cedars-Sinai medical center. Those warnings can help doctors prevent the deadly illness or treat it quickly. “It’s basically that little tap on the shoulder that we all want to get of, ‘Hey, perhaps you should look over here,’” Dworkin said. Dr. Eric Topol predicts in his book “Deep Medicine” that artificial intelligence will change medicine, in part by freeing doctors to spend more time with patients. But he also notes that the technology will not take over care. Even the most advanced program cannot replicate empathy, Topol said. Patients stick to their treatment and prescriptions more and do better if they know their doctor is pulling for them. Artificial intelligence also can’t process everything a doctor considers when deciding on treatment, noted Harvard Medical School’s Dr. Isaac Kohane. That might include a patient’s tolerance for pain or the desire to live a few more months to attend a child’s wedding or graduation. “Good doctors are the ones who understand us and our goals as human beings,” he said. Follow Tom Murphy on Twitter: @thpmurphy The Associated Press Health and Science Department receives support from the Howard Hughes Medical Institute’s Department of Science Education. The AP is solely responsible for all content.\n",
      "\n",
      "\tFT: junk\n",
      "\tTF: science\n",
      "\tScienceAlert\n",
      "A Tiny Worm Has Been Found Carrying New Antibiotic That Could Help Us Fight Superbugs As the fight against antibiotic-resistant superbugs continues to get more dire, scientists may have found a new weapon for tackling some of the worst superbugs we know of: a new antibiotic called darobactin, which is able to take on gram-negative bacteria. Darobactin took some finding though, across two years of research – the antibiotic compound was discovered in Photorhabdus bacteria, lurking inside the gut of tiny parasitic worms known as nematodes. The hope is that darobactin can be developed into something suitable for humans – the first time such a leap would have been made from an animal microbiome – and give us new options for countering bugs that have developed antibiotic resistance. What makes gram-negative bacteria so particularly stubborn is the outer membrane that these cells develop, which acts as an extra barrier against any kind of attack. Darobactin is special in that it breaks through this barrier by interfering with the BamA protein that controls access to the outer membrane. \"Darobactin binds to that [BamA] protein and jams it, so it cannot open anymore,\" says molecular microbiologist Kim Lewis, from Northeastern University in Massachusetts. \"The bacteria cannot build a proper cell envelope, and that causes death.\" In lab experiments, the new antibiotic was able to cure mice of dangerous Escherichia coli and Klebsiella pneumoniae infections, without any toxic side effects. Getting darobactin ready for humans will undoubtedly take a long time, but this is a promising start. Researchers identified the nematode as a possible host for an effective antibiotic because of the way these worms feed on insects, targeting their larvae and releasing bacteria that then have to fight pathogens similar to those inside the human gut. And that makes darobactin a promising candidate for human use – even if animal microbiome antibiotics haven't been successful in humans before, Photorhabdus has evolved over 370 million years to fend off gram-negative bacteria. Whatever help we can get from darobactin, we need it as quickly as possible. Gram-negative bacteria are up at the very top of a list of \"priority pathogens\" that pose the greatest threat to human life right now. This is all playing out against the backdrop of a wider antibiotic-resistance problem – bugs are essentially developing defences faster than we can develop drugs to target them. Around 700,000 people each year are estimated to be dying from drug-resistant infections each year, and that could rise into the many millions in years to come. We're not out of the tunnel yet when it comes to drug-resistant gram-negative bacteria, but we might have some light at the end of it – researchers have described it as \"another shot on goal\" for tackling superbugs. \"We are running out of antibiotics,\" says Lewis. \"We need to be looking for novel compounds with no pre-existing resistance in the clinic or the population.\" The research has been published in Nature.\n",
      "\n",
      "\tFT: science\n",
      "\tTF: science\n",
      "\tmindbodygreen\n",
      "New Study Reveals Potentially Dangerous Effects of Sleep Deprivation Sleep deprivation can be more dangerous that previously thought. There are around 80 distinct sleep disorders, and an estimated 50 to 70 million Americans suffer from poor sleeping patterns. With such a large population not meeting recommended sleeping requirements (7-8 hours per night for adults), it’s safe to assume that the majority of them aren't operating at full speed. New research from Michigan State University found that sleep deprivation interferes with people’s ability to perform multi-step tasks. People can accomplish routine tasks, like brushing their teeth and even taking vital signs, while running on little to no sleep. But the research published in the Journal of Experimental Psychology reveals that your ability to complete complex tasks is impaired. How did they measure this? Researchers asked 138 people to participate in an overnight sleep assessment. Some of the participants were asked to go home and sleep, while 77 were asked to stay awake all night. Before going home, all participants completed cognitive evaluations. One tested for reaction times, and the other tested ability to complete a multi-step task while being randomly interrupted to see how well they could keep their place (the process is called place-keeping). Tests were repeated again in the morning to find out how sleep deprivation impacted performance. Sporadic interruptions led to mistakes the night before, but error rates of the sleep-deprived group increased by 15% the next morning. Why does this matter? Previous research has associated lack of sleep to declines in fundamental processes, such as poor attention. But this study revealed more severe effects on higher-level cognitive functioning, including problem solving and procedural performance. \"Place-keeping is a broadly-relevant component of higher-order cognition...that predict real world outcomes such as academic achievement and job performance,\" the study said. The authors of the study hope the new information urges people to recognize their limitations before getting behind the wheel, performing surgery, or starting other high-risk activities. It can also encourage doctors to commit to studying sleep disorders to provide treatment and prevent accidents. To promote better sleep, outfit your bedroom with these 10 items, add these 9 nutrients to your diet, or take this advice from an expert.\n",
      "\n",
      "\tFT: science\n",
      "\tTF: science\n",
      "\tGhanaWeb\n",
      "KAAF University College graduates largest batch of students at 8th congregation KAAF University College, one of Ghana's fastest-growing private Universities at its 8th Congregation which was held at the school's main campus, saw the graduation of five hundred and forty-four students who have completed their 4-year journey of practical knowledge acquisition. This compared to the institution's November 2012 graduation which had 139 pioneering students who studied Civil and Geomatics Engineering and Construction Technology shows great improvement and evidence of the institution's hard work over the past 10 years. This number is the largest since the school's inception. KAAF University College started as the first private university in Ghana accredited by the National Accreditation Board to run Engineering Programmes. The school now offers various Business Administration, Computer Science, Law and Nursing programmes. In September 2017, the newly inducted government implemented an initiative from their manifesto thus Free SHS education. This initiative put smiles on the face of Ghanaians but also placed them in a dilemma of how the public tertiary institutions can accommodate these students when they apply for further education as this year will usher the first batch of the initiative into our tertiary system. Speaking on the theme of the occasion: \"Championing the course of free SHS, the role of private universities\", the Chairman of KAAF Universities Council, Prof. K.B Omane-Antwi indicated that, in order for government to achieve the objective of this initiative, government should focus on private universities as they can help absorb the huge number of students who will be knocking on the doorstep of tertiary education. The President of the Institute of Chartered Accountants Ghana, further stated that he strongly believes private universities should be encouraged and supported with the necessary resources to help them function to their optimum best as he inaugurated the congregation. The rector of the college, Dr. Francis Achampong, urged all the graduates to put to use the skills acquired in their disciplines as they focus on being creative and innovative so as not to be a burden on society. \"KAAF University is focused on producing high intellectual and knowledgeable students, it’s to no surprise that, our students won the second phase of the HR Focus Business Challenge 2019 and also the institution was recently awarded the Best Business School of the Year 2019 at PUSAG,\" he elaborated. With a signed MOU between KAAF University and Kantanka Automobile Company, Architectural and Engineering Services Limited (AESL), and also Water Research Institute, engineering students enjoy hands-on-practical engineering at their workshops throughout the 4-year journey. He further urged the graduands to make use of technology to aid them to be innovative and resourceful to society. Speaking on the theme, Dr. Achampong, admonished the government to realign the resources of the country towards accommodating the students who will be ushered out of the Senior High Schools as part of the Free SHS initiative to help educate the students who knock on the doorstep of tertiary institutions. He further advised that Private universities make room and open up to help this initiative to be a success as KAAF University has opened up its doors. The Guest of honour, George Oduro, Deputy Minister of Agriculture stated that \"wherever the world Free SHS education has being a success, there was Public-Private partnership which was key and the government has that in mind that going forward.\" Using the education system of Mauritius as an example, he reiterated on the partnership of Public-Private; an indication that it will aid with this initiative as it has helped Mauritius since 1977 of the implementations of Free SHS. George Oduro commended KAAF University College for their initiative to help the Free SHS education become a success and assured all that, government will do it best to support. Various students were awarded for excelling in their field of academia during the occasion. The touching story of the overall best student, Alhassan Mohammed who rose from a block fabricator and classroom cleaner to valedictorian was mesmerizing. KAAF University College is a private university founded by Micheal Aidoo. The institution has its main campus at Gomoa Fetteh Kakraba, Kasoa, in the Central Region of Ghana and also it’s Law Campus at Darkuman Junction, Accra-Ghana.\n",
      "\n",
      "\tFT: science\n",
      "\tTF: science\n",
      "\tPsychology Today\n",
      "Keep Sexism Out of Math For anyone still claiming that women pursue careers in math less frequently than men because of biological differences: time to sit down. Neuroscience says so. For anyone still claiming that women pursue careers in math less frequently than men because of biological differences: let that misinformation go. Little evidence has ever supported that school of thought, and the minimal amounts that have never successfully disentangled intrinsic biological factors from sociocultural ones. Earlier this month, researchers published a study showing that the neural functioning of boys and girls doing math was significantly similar. They used functional magnetic resonance imaging (fMRI)—a method that links brain activity to changes in blood flow—to determine what regions of young boys’ and girls’ (gender as reported by parents) brains are engaged when they’re doing math. Boys and girls ages 3-10 watched video clips that targeted early childhood mathematics skills like addition and counting. Researchers then compared the brain activity of each child with every other child, and then with every adult in a large comparison group. This provided measurements for child vs. adult “neural maturity”—a child with high neural maturity has a brain that performs (based on fMRI) like an adult’s would during mathematical processing—as well as child vs. child “neural similarity.” They found no difference in neural maturity based on the gender of the adult comparison group, and across multiple neural analyses boy and girl brains were equally engaged while watching the video clips. Much of their brain activity was focused in their intraparietal sulci, an area of the brain with distinct subregions that have been implicated in perceptual-motor coordination—for example, seeing a pen and then accurately reaching for it—and visual short-term memory, but also in processing numerical information, which further supported their findings. In the end, this work showed statistical equivalence between boys and girls in terms of neural maturity and engagement with mathematics, which tells us that gender differences in mathematics fields do not stem from intrinsic biological differences in children, but more likely the environment to which we subject them. Submitted by Professor Fink on November 24, 2019 - 9:54pm At a recent cocktail reception in Manhattan, a friend sketched two bell curves, one much wider than the other. The narrower one placed slightly to the right. He explained to me they represented the distribution of male and female intelligence. He speculated that male intelligence was the wider curve—the implication being that woman may be a little smarter than men, on average, but most are just average. Men are more likely to be extremely smart or stupid. I might have written him off as a left-tail case, but something about his hypothesis felt familiar. I have a STEM PhD, yet I am still often asked in both professional and social situations if I found statistics hard. Meanwhile, I’ve noticed if a man has any type of graduate degree where he took almost any kind of math class that sounds vaguely difficult, he’s presumed to be a math whiz. If he dresses weird and is socially awkward people assume he’s an outright genius. If I acted that way, people would just assume I was rude and frumpy, not necessarily brilliant. It seems like many people agree women are just as smart—on average. A recent Pew survey claims a majority of Americans believe women display equal intelligence to men; women even have a slight edge on intellect perception. In the US, more women are in college. In 2012, 71% enrolled after high school, compared to just 61% of men. But when it comes to being exceptionally smart, funny, or talented, it feels like people still think that’s an exclusively male domain. The male variability hypothesis, which seems to be driving what I’ve observed, claims men have a wider distribution of intellectual ability, which means there are more men in the upper tail of the intelligence distribution. It has been around since the 19th century, an idea buffered by the fact that most major scientific contributions in the 20th century came from men. But even 100 years ago, a fierce debate raged as to whether the difference reflected that men are indeed naturally smarter or if it was a byproduct of social conditioning, which includes access to education and society’s expectations. If it were social, you’d expect the distributions to look more similar today because attitudes and access to education have changed. But even in these enlightened times, men still do display a wider range of intellectual ability. Using several different measures of intelligence including IQ and SAT scores, more men are found in the high and low tails, according to Josh Aronson, a professor of applied psychology at NYU. “Yes, the pattern that I see most often in the IQ literature, and the one that accords with my experience of nearly 40 years being near universities, is that you find more men at the extremes of performance, more among the mind-blowingly brilliant handful that you meet in a lifetime, and also more among the truly intellectually challenged handful. Within the extreme tails of the distribution, however, performance is generally equal between the sexes. But yes, men seem to have an edge at the extreme right end of of the bell curve.” As to whether it is biological or environmental, “I think some of that is social,” he says, “but I would be surprised if it were all social.” Researchers at Duke studied SAT scores of intellectually promising 7th graders (ages 12 to 13) over the last 30 years. The figure below took the ratio of boys to girls who scored in the top 1%, 0.5%, and 0.01% of the distribution in math scores (girls have a slight edge on the verbal SAT, but the differences are not nearly as large). Up to the top 1%, boys and girls are nearly equal. But the higher into the tail you get, the bigger the differences emerge—and the boys dominate. In the 1980s, there were 13.5 boys for every girl in the top 0.01%, now there are only 3.8. The decline shows a large share of the gap was social conditioning, whether because of girls being told they could not be great at math or not being encouraged to take hard math classes. But a significant gap remains—some of if representing that we have further to go and some of it raising more uncomfortable questions about differences in innate ability. Dave Lubinski, a psychology professor at Vanderbilt University, also studies the SAT scores of precocious 7th graders and tracks what happens to them in their careers. The oldest cohort is now 50 years old. He says once you narrow the population down to the 1 percenters in math, boys do score slightly higher. “But conditional on being in the 1% of math, the girls have better verbal skills.” This suggests women may be less likely to be extreme math stars, but they display a more well-rounded intelligence. It’s hard to separate out what’s biological and environmental because intelligence reflects what you study and how intensely you pursue it. People are often drawn to what they are good at and what they have access to. Lubinski and his coauthors observed that women are more drawn to working with people and jobs that prize communication. Many talented women, for a number of reasons like discrimination or just their personal preferences, don’t end up as research scientists. Perhaps this explains why a quantitative PhD does not buy me the same social allowances men seem to get. Lubinski stressed that men and women report similar levels of career satisfaction—though after speaking with him, part of me feels like I let my gender down by being a writer and not a micro-theorist. Submitted by Frank on November 24, 2019 - 10:02pm The other side of sexism is the very frequent kind that is rampant today: the sexism that favors women and harms men. Examples are college programs that allow female engineering students to enter with lower grades, and preferential hiring and mentorship programs for women. This isn't just in math and the sciences, but in many office jobs.\n",
      "\n",
      "\tFT: science\n",
      "\tTF: science\n",
      "\tPsychology Today\n",
      "What Makes a Dating Profile Attractive? Want to be more attractive in online dating? Ditch retouching your headshot and run spell-check, instead. Grammar and proofreading rank above confidence and good teeth. Spending hours over that online dating profile? Unsure whether to use humor, brutal honesty, or a headshot that’s a decade and change old and filtered to hell and back? Before you finalize everything, you might want to check your grammar and run a spell-check. A growing body of research suggests that readers of your profile assess your attentiveness and intelligence based on grammar, spelling, and typos. Two recent studies analyzed the roles played by writing in online profiles. At Tilburg University in the Netherlands, researchers contacted 800 members of a large online dating website and supplied them with fictitious profiles, both with and without language errors. Researchers then asked study participants to rate the attractiveness of the profile owners. Readers perceived typographical errors like “teh” for “the” and “HELlo” for “Hello” as signals of inattentiveness. And lower attentiveness scores made the writers seem less attractive. Spelling mistakes and grammatical errors also made the profile owners seem less intelligent. The equivalent of using “Their” for “They’re” led readers to judge the writers as less intelligent and—once again—less attractive. Researchers had hypothesized that informal language and emoticons might lead readers to find profile writers to be more informal and, thus, warmer, than their word-perfect counterparts. Instead, writers who avoided errors were also seen as warmer than the less-than-stellar writers. Think social media has relaxed our standards toward niceties like using full words, rather than letters and emojis? Maybe not—at least for dating profiles. In a survey of 5,000 singletons using a US dating website, 88% of women and 75% of men ranked good use of grammar and punctuation ahead of confidence and good teeth. The study, published in The Journal of Social and Personal Relationships, speculated that, without face to face interactions, small cues, like writing style, can take on greater importance as users try to gauge attractiveness online.\n",
      "\n"
     ]
    }
   ],
   "source": [
    "for j in list([i for i in range(len(file_info3)) if predicted_labels[i] == \"science\"])[20:30]:\n",
    "    if file_info3[j].file in ground_truth3:\n",
    "        continue\n",
    "        \n",
    "    print(\"\\tFT: \" + part3_predicted_labels[j])\n",
    "    print(\"\\tTF: \" + predicted_labels[j])\n",
    "    print(\"\\t\" + file_info3[j].site)\n",
    "    print(file_info3[j].text)\n",
    "    print()"
   ]
  },
  {
   "cell_type": "code",
   "execution_count": 16,
   "metadata": {},
   "outputs": [],
   "source": [
    "def cat_words(text):\n",
    "    text = text.lower()\n",
    "    cat_words = {}\n",
    "    for cat, words in category_words.items():\n",
    "        for word in words:\n",
    "            if word in text:\n",
    "                if cat not in cat_words:\n",
    "                    cat_words[cat] = set()\n",
    "\n",
    "                cat_words[cat].add(word)\n",
    "            \n",
    "    return cat_words\n",
    "\n",
    "\n",
    "chosen_cat = \"\"\n",
    "cat_idx = [i for i in range(len(file_info)) if categories[i] == chosen_cat]\n",
    "\n",
    "def print_by_idx(i, file_info):\n",
    "    print(f\"{file_info[i].site} {file_info[i].file}\")\n",
    "    text = file_info[i].text\n",
    "    print(\"\\t\", text)\n",
    "    #print(\"\\t\", \", \".join(word for word, _ in tfidf(text)[:50]))\n",
    "    #print(\"\\t\", categories[i])\n",
    "    #for cat, words in cat_words(text).items():\n",
    "    #    print(f\"\\t\\t{cat}: {' '.join(words)}\")\n",
    "        \n",
    "    print()\n",
    "\n",
    "#for i in np.random.choice(cat_idx, 10):\n",
    "#    print_by_idx(i)"
   ]
  },
  {
   "cell_type": "raw",
   "metadata": {},
   "source": [
    "site_categories = {site: Counter() for _, site, _ in file_info}\n",
    "for (_, site, _), cat in zip(file_info, categories):\n",
    "    site_categories[site][cat] += 1\n",
    "    \n",
    "with open(\"data/site_categories.json\", \"w\") as f:\n",
    "    json.dump(site_categories, f, indent=2)"
   ]
  },
  {
   "cell_type": "raw",
   "metadata": {},
   "source": [
    "site_counts = Counter(site for _, site, _ in file_info)\n",
    "chosen_cat = \"\"\n",
    "for site, count in site_counts.most_common(10):\n",
    "    print(site, count, site_categories[site])\n",
    "    frac = site_categories[site][chosen_cat] / count\n",
    "    if frac < 0.01:\n",
    "        for i in range(len(file_info)):\n",
    "            if file_info[i][1] == site and categories[i] == chosen_cat:\n",
    "                print_by_idx(i)"
   ]
  },
  {
   "cell_type": "raw",
   "metadata": {},
   "source": [
    "with open(\"data/manual_markup_ru\", \"w\") as f:\n",
    "    for j in diff_idx:\n",
    "        i = test_idx[j]\n",
    "        file = file_info[i][2]\n",
    "        if file in ground_truth:\n",
    "            continue\n",
    "        \n",
    "        f.write(f\"FT category: {test_categories[j]}\\n\")\n",
    "        f.write(f\"TF category: {test_categories_tf[j]}\\n\")\n",
    "        f.write(f\"{file_info[i][1]} {file}\\n\")\n",
    "        text = file_info[i][0]\n",
    "        f.write(\"\\t\" + text + \"\\n\")\n",
    "        f.write(\"\\t\" + \", \".join(word for word, _ in tfidf(text)[:50]) + \"\\n\")\n",
    "        f.write(\"\\t\" + categories[i] + \"\\n\")\n",
    "        for cat, words in cat_words(text).items():\n",
    "            f.write(f\"\\t\\t{cat}: {' '.join(words)}\\n\")\n",
    "        \n",
    "        f.write(f\"True label for {file}:\\n\\n\\n\")"
   ]
  },
  {
   "cell_type": "code",
   "execution_count": null,
   "metadata": {},
   "outputs": [],
   "source": []
  },
  {
   "cell_type": "code",
   "execution_count": 4,
   "metadata": {},
   "outputs": [
    {
     "data": {
      "text/plain": [
       "[('Reuters', 1817),\n",
       " ('the Guardian', 1742),\n",
       " ('mirror', 1725),\n",
       " ('CNA', 1671),\n",
       " ('The Washington Times', 1587),\n",
       " ('WFXT', 1561),\n",
       " ('Business-Standard', 1528),\n",
       " ('Forbes', 1372),\n",
       " ('Sputniknews', 1249),\n",
       " ('Malaymail', 1238),\n",
       " ('The Hindu', 1155),\n",
       " ('Fox News', 1068),\n",
       " ('Yahoo', 1029),\n",
       " ('www.ctvnews.ca', 826),\n",
       " ('Breaking News', 765)]"
      ]
     },
     "execution_count": 4,
     "metadata": {},
     "output_type": "execute_result"
    }
   ],
   "source": [
    "site_counter = Counter(fi.site for fi in file_info)\n",
    "site_counter.most_common(15)"
   ]
  },
  {
   "cell_type": "code",
   "execution_count": null,
   "metadata": {},
   "outputs": [],
   "source": [
    "all_reuters_pages = {}"
   ]
  },
  {
   "cell_type": "code",
   "execution_count": null,
   "metadata": {},
   "outputs": [
    {
     "data": {
      "application/vnd.jupyter.widget-view+json": {
       "model_id": "389c5d4475d44ff3ab8a32f6ebfe5f05",
       "version_major": 2,
       "version_minor": 0
      },
      "text/plain": [
       "HBox(children=(IntProgress(value=0, max=235738), HTML(value='')))"
      ]
     },
     "metadata": {},
     "output_type": "display_data"
    }
   ],
   "source": [
    "for fi in tqdm(file_info + file_info2 + file_info3):\n",
    "    if fi.site == \"Reuters\" and fi.file not in all_reuters_pages:\n",
    "        link = fi.url.replace(\"https://www.reuters.com/\", \"https://mobile.reuters.com/\")\n",
    "        all_reuters_pages[fi.file] = grab_category.grab_page(link)"
   ]
  },
  {
   "cell_type": "code",
   "execution_count": 41,
   "metadata": {},
   "outputs": [],
   "source": [
    "kw_regex = re.compile(r'<meta name=\"keywords\" content=\"([^\"]*)\" />')\n",
    "all_reuters_kw = {}\n",
    "for file, page in all_reuters_pages.items():\n",
    "    m = kw_regex.search(page)\n",
    "    if m:\n",
    "        keywords = frozenset([kw.lower() for kw in m.group(1).split(\",\")])\n",
    "        all_reuters_kw[file] = list(keywords)\n",
    "    else:\n",
    "        print(file)\n",
    "        print(\"No keywords\")\n",
    "        print()\n",
    "        \n",
    "with open(\"data/reuters_kw.json\", \"w\") as f:\n",
    "    json.dump(all_reuters_kw, f)"
   ]
  },
  {
   "cell_type": "code",
   "execution_count": null,
   "metadata": {},
   "outputs": [],
   "source": [
    "for i, fi in enumerate(file_info):\n",
    "    if fi.site == \"Reuters\":\n",
    "        print(fi.url)\n",
    "        print(\"\\t\" + fi.file)"
   ]
  },
  {
   "cell_type": "code",
   "execution_count": 18,
   "metadata": {},
   "outputs": [
    {
     "name": "stdout",
     "output_type": "stream",
     "text": [
      "[('CAR.RU', 119), ('Актуальные новости', 60), ('4PDA - Новости мира мобильных устройств', 49), ('ТВОЕ АВТО', 47), ('ВладТайм', 46), ('Русаргумент', 42), ('@ASTERA: Новости IT и финансов', 41), ('3DNews - Daily Digital Digest', 35), ('Автоцентр', 34), ('Телеграф', 32), ('Автоновости дня', 31), ('AKKet', 30), ('Drom.ru', 27), ('iLenta', 24), ('Нью Информ', 20), ('Анонсенс', 20), ('Известия', 20), ('www.zr.ru', 17), ('tvoygorodpskov.ru', 17), ('drive2.ru', 17), ('unionnews.ru', 16), ('110KM', 15), ('Popmech.ru', 15), ('Overclockers.ru', 15), ('Интересные новости OAnews', 14), ('Planet Today', 14), ('Журнал Движок', 14), ('Новости Мойка78', 13), ('Onliner', 13), ('Народные Новости России', 13), ('ITC.ua', 13), ('autoconsulting.com.ua', 13), ('ФБА «Экономика сегодня»', 12), ('Инфореактор', 11), ('RuNews24', 11), ('Лайфхакер', 10), ('Корреспондент.net', 10), ('Andro-News', 10), ('FaceNews', 10), ('VistaNews.ru', 10), ('Код Дурова', 9), ('iXBT.com', 9), ('НВ', 9), ('iPhones.ru', 8), ('Life.ru', 7), ('Информационное агентство RNS', 7), ('golos.ua', 7), ('Фонтанка.ру', 7), ('TEHNOT', 7), ('Новости Украины - From-UA', 7), ('ФАКТИ', 7), ('РИА Новости', 7), ('Авторейтинг', 7), ('РБК', 7), ('Игромания', 6), ('Волгоградская Правда', 6), ('Слово и Дело', 6), ('ubr.ua', 6), ('Wylsacom', 6), ('Украина За рулем', 6), (\"Новости в 'Час Пик'\", 6), ('DGL.RU', 6), ('Телеканал 360°', 6), ('Приморье 24', 5), ('Телеканал «Звезда»', 5), ('www.dp.ru', 5), ('Главное™', 5), ('VladNews', 5), ('Телеканал Дождь', 5), ('Агентство городских новостей «Москва»', 5), ('Keddr', 5), ('lj-top.ru', 5), ('Meduza', 5), ('Вечерний курьер', 5), ('Клопс', 5), ('РИА Мелитополь', 4), ('БНК', 4), ('Российская газета', 4), ('charter97.org', 4), ('discover24', 4), ('appleinsider.ru', 4), ('Privet-Rostov.ru - Главные новости Ростова и Ростовской области', 4), ('Реальное время', 4), ('dev.by', 4), ('Shazoo', 4), ('Vogue UA', 4), ('Авто', 4), ('ПолитЭксперт', 4), ('STATUS QUO', 4), ('Вінницький бізнес портал \"Vinbazar.com\"', 4), ('Соцпортал', 4), ('Android-Robot', 4), ('Мотор', 3), ('HotGeo', 3), ('Правда.Ру', 3), ('Форпост Северо-Запад', 3), ('Fainaidea', 3), ('Инвест-Форсайт', 3), ('rzn.info', 3), ('Областная газета', 3), ('Tengrinews.kz', 3), ('Петербургский дневник', 3), ('Татцентр', 3), ('Yvision', 3), ('www.oreanda.ru', 3), ('INNOV', 3), ('Инфо24', 3), ('Росбалт', 3), ('ПРАЙМ', 3), ('UA.NEWS', 3), ('DonPress', 3), ('Sputnik Беларусь', 3), ('MOS NEWS', 3), ('Суть Событий', 3), ('Трешбокс.ру', 3), ('RusNext', 3), ('nplus1.ru', 3), ('strana.ua', 3), ('Деловая Газета.ЮГ', 3), ('Кубанские Новости', 3), ('66.ru', 3), ('ИА Бел.Ру', 2), ('Капитал', 2), ('Версия', 2), ('Overclockers.ua', 2), ('Обозреватель.Врн', 2), ('URA.RU', 2), ('SmolDaily.ru', 2), ('Город+', 2), ('zakon.kz', 2), ('Interfax.ru', 2), ('NUR.KZ - Свежие новости Казахстана.', 2), ('КУРЬЕР.СРЕДА.Бердск', 2), ('Inc. Russia', 2), ('ИА «Диалог»', 2), ('AIN.UA', 2), ('TJ', 2), ('МОЁ! Белгород', 2), ('www.trust.ua', 2), ('racurs.ua', 2), ('GAMETECH', 2), ('NEWSONE', 2), ('Оди', 2), ('Harper’s Bazaar', 2), ('RIA56', 2), ('РИАМО', 2), ('LB.ua', 2), ('АРБУЗ', 2), ('Твериград', 2), ('Юга.ру', 2), ('Anti-Malware', 2), ('www.trud.ru', 2), ('Накануне.ru', 2), ('Про Город', 2), ('Агентство нефтегазовой информации', 2), ('Невские Новости', 2), ('auto.tut.by', 2), ('3dtoday.ru', 2), ('ГлобалМСК.ру', 2), ('Апостроф', 2), ('www.livekuban.ru', 2), ('Коммерсантъ', 2), ('Пятый канал', 2), ('PRIMPRESS', 2), ('altapress.ru', 2), ('могилевонлайн', 2), ('Green', 2), ('Компьютерное Обозрение', 2), ('nag.ru', 2), ('Регион Online', 2), ('NewGrodno.By', 2), ('UfacityNews.ru', 2), ('ysia.ru', 2), ('InfoResist', 2), ('Ридус', 2), ('lenta.ru', 2), ('НикВести', 1), ('kiev.vgorode.ua', 1), ('LetKnow News', 1), ('Профиль', 1), ('Русский Еврей', 1), ('СеверПост', 1), ('Новости Владивостока и Приморского края - Вести: Приморье', 1), ('Delo.ua', 1), ('ProGamer.Ru', 1), ('vesti.ru', 1), ('Гродненская правда', 1), ('МТРК «Краснодар»', 1), ('Хайтек', 1), ('Slavgorod.com.ua', 1), ('ДорИнфо', 1), ('Панорама', 1), ('polit.ru', 1), ('euronews', 1), ('В городе R - новости городской жизни', 1), ('БИЗНЕС Online', 1), ('Мир фантастики', 1), ('Фраза.юа', 1), ('hi-Tech.ua', 1), ('Родной город', 1), ('ЕНВ', 1), ('Украинская правда', 1), ('The Insider', 1), ('metro', 1), ('Хакасия', 1), ('www.cosmo.ru', 1), ('Вечерний Санкт-Петербург', 1), ('Енисей', 1), ('Петрозаводск ГОВОРИТ', 1), ('Mediasat', 1), ('Городские вести', 1), ('Tproger', 1), ('MySlo', 1), ('future.d3.ru', 1), ('Новости Харькова', 1), ('droider.ru', 1), ('Москва 24', 1), ('Интерфакс-Украина', 1), ('Югополис', 1), ('Reuters', 1), ('GMBOX', 1), ('МИР24', 1), ('ЧГТРК \"Грозный\"', 1), ('РИА «Стрела»', 1), ('Время Н', 1), ('Новый День', 1), ('Мурманский Вестник', 1), ('Восток Медиа', 1), ('SARATOVNEWS.ru', 1), ('inkazan.ru', 1), ('vc.ru', 1), ('News.Ykt.Ru', 1), ('ИноСМИ.Ru', 1), ('ПУНКТ-А', 1), ('Телеканал NTD', 1), ('Деловая столица', 1), ('Elle', 1), ('www.cybersport.ru', 1), ('rspectr.com', 1), ('Область 45', 1), ('Memepedia', 1), ('Computerworld Россия', 1), ('МИГ', 1), ('www.newsvl.ru', 1), ('«Бумага»', 1), ('Южноуральская панорама', 1), ('PRO ГОРОД', 1), ('Vologda-poisk.ru', 1), ('Урал56.Ру', 1), ('Парламентская Газета', 1), ('МедикФорум', 1), ('Волжская коммуна', 1), ('42.tut.by', 1), ('BFM.ru', 1), ('Odessa1.com', 1), ('tv.ua', 1), ('img.d3.ru', 1), ('RT на русском', 1), ('НоябрьскИнформ', 1), ('Четвертая Власть', 1), ('Брянск Today', 1), ('EURO.com.ua', 1), ('Повестка дня', 1), ('DTF', 1), ('Телеканал Царьград', 1), ('КРЫМ.NEWS', 1), ('Интернет-газета Karpovka.com', 1), ('www.f1news.ru', 1), ('Тульская Служба Новостей', 1), ('Wonderzine', 1), ('НИА «Нижний Новгород»', 1), ('Главный региональный', 1), ('Susanin', 1), ('368.media', 1), ('Пенза-пресс', 1), ('Клерк', 1)]\n"
     ]
    }
   ],
   "source": [
    "selected_sites = Counter()\n",
    "for i, fi in enumerate(file_info3):\n",
    "    if predicted_labels[i] == \"technology\":\n",
    "        selected_sites[fi.site] += 1\n",
    "        \n",
    "print(selected_sites.most_common())"
   ]
  },
  {
   "cell_type": "code",
   "execution_count": null,
   "metadata": {},
   "outputs": [],
   "source": []
  }
 ],
 "metadata": {
  "kernelspec": {
   "display_name": "Python 3",
   "language": "python",
   "name": "python3"
  },
  "language_info": {
   "codemirror_mode": {
    "name": "ipython",
    "version": 3
   },
   "file_extension": ".py",
   "mimetype": "text/x-python",
   "name": "python",
   "nbconvert_exporter": "python",
   "pygments_lexer": "ipython3",
   "version": "3.7.0"
  }
 },
 "nbformat": 4,
 "nbformat_minor": 4
}
