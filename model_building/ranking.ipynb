{
 "cells": [
  {
   "cell_type": "code",
   "execution_count": 1,
   "metadata": {},
   "outputs": [],
   "source": [
    "%load_ext autoreload\n",
    "%autoreload 2"
   ]
  },
  {
   "cell_type": "code",
   "execution_count": null,
   "metadata": {},
   "outputs": [],
   "source": [
    "import os\n",
    "import glob\n",
    "from collections import Counter\n",
    "import math\n",
    "import re\n",
    "import json\n",
    "import subprocess\n",
    "import time\n",
    "import pickle\n",
    "\n",
    "import pandas as pd\n",
    "import umap\n",
    "from tqdm.autonotebook import tqdm, trange\n",
    "from nltk.tokenize import word_tokenize\n",
    "\n",
    "import numpy as np\n",
    "import scipy.stats\n",
    "from sklearn.datasets import load_iris, load_digits\n",
    "from sklearn.model_selection import train_test_split, KFold\n",
    "\n",
    "from sklearn.preprocessing import LabelBinarizer, LabelEncoder\n",
    "from sklearn.metrics import confusion_matrix, roc_auc_score, f1_score\n",
    "from sklearn.utils import class_weight\n",
    "\n",
    "from tensorflow import keras\n",
    "\n",
    "import tensorflow as tf\n",
    "gpus = tf.config.experimental.list_physical_devices('GPU')\n",
    "#assert gpus\n",
    "try:\n",
    "    # Currently, memory growth needs to be the same across GPUs\n",
    "    for gpu in gpus:\n",
    "        tf.config.experimental.set_memory_growth(gpu, True)\n",
    "\n",
    "    logical_gpus = tf.config.experimental.list_logical_devices('GPU')\n",
    "    print(len(gpus), \"Physical GPUs,\", len(logical_gpus), \"Logical GPUs\")\n",
    "except RuntimeError as e:\n",
    "    # Memory growth must be set before GPUs have been initialized\n",
    "    print(e)\n",
    "\n",
    "\n",
    "import seaborn as sns\n",
    "import matplotlib.pyplot as plt\n",
    "from sklearn.preprocessing import LabelBinarizer, LabelEncoder\n",
    "from sklearn.metrics import confusion_matrix\n",
    "from sklearn.utils import class_weight\n",
    "layers = keras.layers\n",
    "models = keras.models\n",
    "from tensorflow.keras.optimizers import Adam\n",
    "from tensorflow.keras import backend as K\n",
    "import numpy.random as rng\n",
    "from tensorflow.keras import regularizers\n",
    "from tensorflow.keras.callbacks import ModelCheckpoint\n",
    "\n",
    "import convert_model\n",
    "\n",
    "import language\n",
    "import text_nn\n",
    "import grab_category\n",
    "import news\n",
    "import groups\n",
    "import libs.cpp_stuff as cpp"
   ]
  },
  {
   "cell_type": "code",
   "execution_count": 3,
   "metadata": {},
   "outputs": [
    {
     "data": {
      "application/vnd.jupyter.widget-view+json": {
       "model_id": "a8bbc04d2e8a4f4eacfd06f0226387ae",
       "version_major": 2,
       "version_minor": 0
      },
      "text/plain": [
       "HBox(children=(FloatProgress(value=0.0, max=5.0), HTML(value='')))"
      ]
     },
     "metadata": {},
     "output_type": "display_data"
    },
    {
     "name": "stdout",
     "output_type": "stream",
     "text": [
      "\n"
     ]
    },
    {
     "data": {
      "application/vnd.jupyter.widget-view+json": {
       "model_id": "b5d732fb005741e78d03f3142ea4572b",
       "version_major": 2,
       "version_minor": 0
      },
      "text/plain": [
       "HBox(children=(FloatProgress(value=0.0, max=1.0), HTML(value='')))"
      ]
     },
     "metadata": {},
     "output_type": "display_data"
    },
    {
     "name": "stdout",
     "output_type": "stream",
     "text": [
      "\n",
      "300319 train samples, 31440 test\n"
     ]
    }
   ],
   "source": [
    "lang = \"en\"\n",
    "train_folders = [os.path.join(\"data\", folder) for folder in [\"sample\", \"sample3\", \"sample4\", \"sample5\", \"sample6\"]]\n",
    "test_folders = [os.path.join(\"data\", folder) for folder in [\"sample2\"]]\n",
    "idf_file = groups.counts_for_grouping_ru if lang == \"ru\" else groups.counts_for_grouping_en\n",
    "cpp.load_idf(idf_file)\n",
    "\n",
    "def load_dataset(folders):\n",
    "    all_file_info = []\n",
    "    all_similarities = []\n",
    "    for folder in tqdm(folders):\n",
    "        for cat in [\"society\", \"economy\", \"sports\", \"science\", \"other\", \"technology\", \"entertainment\"]:\n",
    "            file_info = language.read_dump(f\"{folder}/categories_{lang}/{cat}\")\n",
    "            processed_texts = groups.extract_texts_for_grouping(file_info)\n",
    "            all_similarities.extend(cpp.calc_popularities([(pt, fi.site, fi.file, groups.parse_datetime(fi.time).timestamp())\n",
    "                                                           for pt, fi in zip(processed_texts, file_info)], idf_file))\n",
    "            \n",
    "            all_file_info.extend(file_info)\n",
    "            \n",
    "    return all_file_info, all_similarities\n",
    "\n",
    "train_file_info, train_similarities = load_dataset(train_folders)\n",
    "test_file_info, test_similarities = load_dataset(test_folders)\n",
    "print(f\"{len(train_file_info)} train samples, {len(test_file_info)} test\")"
   ]
  },
  {
   "cell_type": "code",
   "execution_count": 4,
   "metadata": {},
   "outputs": [
    {
     "name": "stdout",
     "output_type": "stream",
     "text": [
      "73009 word stems\n"
     ]
    }
   ],
   "source": [
    "normalizer = news.TextNormalizer(lang)\n",
    "normalizer.train(train_file_info)\n",
    "train_texts = normalizer.normalize_texts(train_file_info)\n",
    "test_texts = normalizer.normalize_texts(test_file_info)"
   ]
  },
  {
   "cell_type": "code",
   "execution_count": 5,
   "metadata": {},
   "outputs": [],
   "source": [
    "with open(os.path.join(f\"data/popularities_{lang}\"), \"wb\") as f:\n",
    "    pickle.dump((train_texts, train_similarities, test_texts, test_similarities), f)"
   ]
  },
  {
   "cell_type": "code",
   "execution_count": 6,
   "metadata": {},
   "outputs": [],
   "source": [
    "def calc_popularity(similarities):\n",
    "    return scipy.stats.zscore(np.log1p(similarities))\n",
    "\n",
    "train_popularity = calc_popularity(train_similarities)\n",
    "test_popularity = calc_popularity(test_similarities)"
   ]
  },
  {
   "cell_type": "code",
   "execution_count": 7,
   "metadata": {},
   "outputs": [
    {
     "name": "stdout",
     "output_type": "stream",
     "text": [
      "5.453215534117395\n",
      "\tRussia reports spike in coronavirus cases as other countries ease restrictions Russia has reported its highest one-day jump in new coronavirus cases as some other countries relax lockdown restrictions. China, where the pandemic began in December, reported a single new infection on Saturday, extending a steady decline in confirmed cases. The country has allowed factories and some other businesses t\n",
      "\n",
      "5.357112083830893\n",
      "\tRussia reports spike in coronavirus cases as other countries ease restrictions Russia’s government reported 7,933 new cases on Friday, raising its total to 114,431. Russia has reported its highest one-day jump in new coronavirus cases as some other countries relax lockdown restrictions. China, where the pandemic began in December, reported a single new infection on Saturday, extending a steady dec\n",
      "\n",
      "5.3532467658509235\n",
      "\tRussia reports spike in coronavirus cases as other countries ease restrictions Russia’s government reported 7,933 new cases on Friday, raising its total to 114,431. Russia has reported its highest one-day jump in new coronavirus cases as some other countries relax lockdown restrictions. China, where the pandemic began in December, reported a single new infection on Saturday, extending a steady dec\n",
      "\n"
     ]
    }
   ],
   "source": [
    "top_news = list(sorted(range(len(train_popularity)), key=lambda x: train_popularity[x], reverse=True))\n",
    "for i in top_news[:3]:\n",
    "    print(f\"{train_popularity[i]}\\n\\t{train_file_info[i].text[:400]}\")\n",
    "    print()"
   ]
  },
  {
   "cell_type": "code",
   "execution_count": 8,
   "metadata": {},
   "outputs": [
    {
     "data": {
      "image/png": "[encoded data removed]",
      "text/plain": [
       "<Figure size 432x288 with 1 Axes>"
      ]
     },
     "metadata": {
      "needs_background": "light"
     },
     "output_type": "display_data"
    }
   ],
   "source": [
    "x = plt.hist(test_popularity, bins=100)"
   ]
  },
  {
   "cell_type": "code",
   "execution_count": 9,
   "metadata": {},
   "outputs": [],
   "source": [
    "verbose = 1\n",
    "max_words = 7000\n",
    "tokenize = keras.preprocessing.text.Tokenizer(num_words=max_words, char_level=False)\n",
    "tokenize.fit_on_texts(train_texts)  # fit tokenizer to our training text data\n",
    "x_train = tokenize.texts_to_matrix(train_texts).astype(np.float32)\n",
    "x_test = tokenize.texts_to_matrix(test_texts).astype(np.float32)"
   ]
  },
  {
   "cell_type": "code",
   "execution_count": 10,
   "metadata": {},
   "outputs": [
    {
     "name": "stdout",
     "output_type": "stream",
     "text": [
      "Flushing input history\n",
      "Flushing output cache (0 entries)\n",
      "Model: \"sequential\"\n",
      "_________________________________________________________________\n",
      "Layer (type)                 Output Shape              Param #   \n",
      "=================================================================\n",
      "dropout (Dropout)            (None, 7000)              0         \n",
      "_________________________________________________________________\n",
      "dense (Dense)                (None, 512)               3584512   \n",
      "_________________________________________________________________\n",
      "dropout_1 (Dropout)          (None, 512)               0         \n",
      "_________________________________________________________________\n",
      "dense_1 (Dense)              (None, 512)               262656    \n",
      "_________________________________________________________________\n",
      "dropout_2 (Dropout)          (None, 512)               0         \n",
      "_________________________________________________________________\n",
      "dense_2 (Dense)              (None, 1)                 513       \n",
      "=================================================================\n",
      "Total params: 3,847,681\n",
      "Trainable params: 3,847,681\n",
      "Non-trainable params: 0\n",
      "_________________________________________________________________\n"
     ]
    }
   ],
   "source": [
    "%reset -f in out\n",
    "batch_size = 32\n",
    "epochs = 100\n",
    "drop_ratio = 0.5\n",
    "reg = 0.01\n",
    "\n",
    "# Build the model\n",
    "model = models.Sequential()\n",
    "model.add(layers.Dropout(drop_ratio, input_shape=(max_words,)))\n",
    "model.add(layers.Dense(512, use_bias=True, activation=\"relu\", kernel_regularizer=regularizers.l2(reg)))\n",
    "model.add(layers.Dropout(drop_ratio))\n",
    "model.add(layers.Dense(512, use_bias=True, activation=\"relu\", kernel_regularizer=regularizers.l2(reg)))\n",
    "model.add(layers.Dropout(drop_ratio))\n",
    "model.add(layers.Dense(1, use_bias=True, kernel_regularizer=regularizers.l2(reg)))\n",
    "\n",
    "model.compile(loss='mean_squared_error',\n",
    "              optimizer=Adam(lr=0.0001), metrics=['mean_squared_error'])\n",
    "\n",
    "model.summary()"
   ]
  },
  {
   "cell_type": "code",
   "execution_count": 11,
   "metadata": {},
   "outputs": [
    {
     "name": "stdout",
     "output_type": "stream",
     "text": [
      "Train on 300319 samples, validate on 31440 samples\n",
      "Epoch 1/100\n",
      "300319/300319 [==============================] - 39s 128us/sample - loss: 1.9763 - mean_squared_error: 0.6735 - val_loss: 0.8839 - val_mean_squared_error: 0.6071\n",
      "Epoch 2/100\n",
      "300319/300319 [==============================] - 38s 126us/sample - loss: 0.8578 - mean_squared_error: 0.5867 - val_loss: 0.8987 - val_mean_squared_error: 0.6339\n",
      "Epoch 3/100\n",
      "300319/300319 [==============================] - 38s 128us/sample - loss: 0.8390 - mean_squared_error: 0.5769 - val_loss: 0.8780 - val_mean_squared_error: 0.6243\n",
      "Epoch 4/100\n",
      "300319/300319 [==============================] - 38s 127us/sample - loss: 0.8257 - mean_squared_error: 0.5721 - val_loss: 0.8531 - val_mean_squared_error: 0.6000\n",
      "Epoch 5/100\n",
      "300319/300319 [==============================] - 38s 127us/sample - loss: 0.8195 - mean_squared_error: 0.5719 - val_loss: 0.8381 - val_mean_squared_error: 0.5943\n",
      "Epoch 6/100\n",
      "300319/300319 [==============================] - 38s 126us/sample - loss: 0.8123 - mean_squared_error: 0.5717 - val_loss: 0.8613 - val_mean_squared_error: 0.6229\n",
      "Epoch 7/100\n",
      "300319/300319 [==============================] - 38s 126us/sample - loss: 0.8080 - mean_squared_error: 0.5703 - val_loss: 0.8574 - val_mean_squared_error: 0.6195\n",
      "Epoch 8/100\n",
      "300319/300319 [==============================] - 38s 127us/sample - loss: 0.8071 - mean_squared_error: 0.5704 - val_loss: 0.8329 - val_mean_squared_error: 0.6009\n",
      "Epoch 9/100\n",
      "300319/300319 [==============================] - 38s 126us/sample - loss: 0.8029 - mean_squared_error: 0.5686 - val_loss: 0.8381 - val_mean_squared_error: 0.6078\n",
      "Epoch 10/100\n",
      "300319/300319 [==============================] - 38s 126us/sample - loss: 0.8021 - mean_squared_error: 0.5705 - val_loss: 0.8222 - val_mean_squared_error: 0.5914\n",
      "Epoch 11/100\n",
      "300319/300319 [==============================] - 38s 127us/sample - loss: 0.8008 - mean_squared_error: 0.5699 - val_loss: 0.8473 - val_mean_squared_error: 0.6208\n",
      "Epoch 12/100\n",
      "300319/300319 [==============================] - 38s 127us/sample - loss: 0.8015 - mean_squared_error: 0.5720 - val_loss: 0.8487 - val_mean_squared_error: 0.6204\n",
      "Epoch 13/100\n",
      "300319/300319 [==============================] - 38s 127us/sample - loss: 0.7992 - mean_squared_error: 0.5699 - val_loss: 0.8433 - val_mean_squared_error: 0.6168\n",
      "Epoch 14/100\n",
      "300319/300319 [==============================] - 38s 127us/sample - loss: 0.7976 - mean_squared_error: 0.5703 - val_loss: 0.8368 - val_mean_squared_error: 0.6114\n",
      "Epoch 15/100\n",
      "300319/300319 [==============================] - 38s 126us/sample - loss: 0.7959 - mean_squared_error: 0.5689 - val_loss: 0.8397 - val_mean_squared_error: 0.6139\n",
      "Epoch 16/100\n",
      "300319/300319 [==============================] - 38s 126us/sample - loss: 0.7959 - mean_squared_error: 0.5692 - val_loss: 0.8521 - val_mean_squared_error: 0.6281\n",
      "Epoch 17/100\n",
      "300319/300319 [==============================] - 38s 127us/sample - loss: 0.7958 - mean_squared_error: 0.5707 - val_loss: 0.8355 - val_mean_squared_error: 0.6110\n",
      "Epoch 18/100\n",
      "300319/300319 [==============================] - 38s 127us/sample - loss: 0.7946 - mean_squared_error: 0.5689 - val_loss: 0.8462 - val_mean_squared_error: 0.6249\n",
      "Epoch 19/100\n",
      "300319/300319 [==============================] - 38s 127us/sample - loss: 0.7949 - mean_squared_error: 0.5707 - val_loss: 0.8436 - val_mean_squared_error: 0.6209\n",
      "Epoch 20/100\n",
      "300319/300319 [==============================] - 38s 127us/sample - loss: 0.7928 - mean_squared_error: 0.5685 - val_loss: 0.8372 - val_mean_squared_error: 0.6122\n",
      "Epoch 21/100\n",
      "300319/300319 [==============================] - 38s 127us/sample - loss: 0.7941 - mean_squared_error: 0.5705 - val_loss: 0.8180 - val_mean_squared_error: 0.5961\n",
      "Epoch 22/100\n",
      "300319/300319 [==============================] - 38s 127us/sample - loss: 0.7928 - mean_squared_error: 0.5701 - val_loss: 0.8454 - val_mean_squared_error: 0.6273\n",
      "Epoch 23/100\n",
      "300319/300319 [==============================] - 38s 127us/sample - loss: 0.7920 - mean_squared_error: 0.5692 - val_loss: 0.8230 - val_mean_squared_error: 0.6024\n",
      "Epoch 24/100\n",
      "300319/300319 [==============================] - 38s 127us/sample - loss: 0.7920 - mean_squared_error: 0.5690 - val_loss: 0.8400 - val_mean_squared_error: 0.6178\n",
      "Epoch 25/100\n",
      "300319/300319 [==============================] - 38s 126us/sample - loss: 0.7924 - mean_squared_error: 0.5697 - val_loss: 0.8399 - val_mean_squared_error: 0.6176\n",
      "Epoch 26/100\n",
      "300319/300319 [==============================] - 38s 127us/sample - loss: 0.7932 - mean_squared_error: 0.5706 - val_loss: 0.8192 - val_mean_squared_error: 0.5973\n",
      "Epoch 27/100\n",
      "300319/300319 [==============================] - 38s 127us/sample - loss: 0.7922 - mean_squared_error: 0.5710 - val_loss: 0.8252 - val_mean_squared_error: 0.6077\n",
      "Epoch 28/100\n",
      "300319/300319 [==============================] - 38s 127us/sample - loss: 0.7909 - mean_squared_error: 0.5701 - val_loss: 0.8312 - val_mean_squared_error: 0.6129\n",
      "Epoch 29/100\n",
      "300319/300319 [==============================] - 38s 127us/sample - loss: 0.7909 - mean_squared_error: 0.5702 - val_loss: 0.8145 - val_mean_squared_error: 0.5948\n",
      "Epoch 30/100\n",
      "300319/300319 [==============================] - 38s 127us/sample - loss: 0.7909 - mean_squared_error: 0.5707 - val_loss: 0.8316 - val_mean_squared_error: 0.6131\n",
      "Epoch 31/100\n",
      "300319/300319 [==============================] - 38s 126us/sample - loss: 0.7881 - mean_squared_error: 0.5681 - val_loss: 0.8363 - val_mean_squared_error: 0.6188\n",
      "Epoch 32/100\n",
      "300319/300319 [==============================] - 38s 126us/sample - loss: 0.7907 - mean_squared_error: 0.5708 - val_loss: 0.8487 - val_mean_squared_error: 0.6305\n",
      "Epoch 33/100\n",
      "300319/300319 [==============================] - 38s 127us/sample - loss: 0.7892 - mean_squared_error: 0.5695 - val_loss: 0.8124 - val_mean_squared_error: 0.5892\n",
      "Epoch 34/100\n",
      "300319/300319 [==============================] - 38s 126us/sample - loss: 0.7904 - mean_squared_error: 0.5712 - val_loss: 0.8334 - val_mean_squared_error: 0.6178\n",
      "Epoch 35/100\n",
      "300319/300319 [==============================] - 38s 128us/sample - loss: 0.7895 - mean_squared_error: 0.5712 - val_loss: 0.8328 - val_mean_squared_error: 0.6145\n",
      "Epoch 36/100\n",
      "300319/300319 [==============================] - 39s 129us/sample - loss: 0.7889 - mean_squared_error: 0.5709 - val_loss: 0.8243 - val_mean_squared_error: 0.6083\n",
      "Epoch 37/100\n",
      "300319/300319 [==============================] - 39s 129us/sample - loss: 0.7900 - mean_squared_error: 0.5723 - val_loss: 0.8333 - val_mean_squared_error: 0.6168\n",
      "Epoch 38/100\n",
      "300319/300319 [==============================] - 38s 127us/sample - loss: 0.7876 - mean_squared_error: 0.5703 - val_loss: 0.8116 - val_mean_squared_error: 0.5966\n",
      "Epoch 39/100\n",
      "300319/300319 [==============================] - 38s 127us/sample - loss: 0.7873 - mean_squared_error: 0.5704 - val_loss: 0.8176 - val_mean_squared_error: 0.6017\n",
      "Epoch 40/100\n",
      "300319/300319 [==============================] - 39s 129us/sample - loss: 0.7878 - mean_squared_error: 0.5711 - val_loss: 0.8185 - val_mean_squared_error: 0.6032\n",
      "Epoch 41/100\n",
      "300319/300319 [==============================] - 39s 129us/sample - loss: 0.7865 - mean_squared_error: 0.5702 - val_loss: 0.8288 - val_mean_squared_error: 0.6118\n",
      "Epoch 42/100\n",
      "300319/300319 [==============================] - 39s 129us/sample - loss: 0.7871 - mean_squared_error: 0.5699 - val_loss: 0.8291 - val_mean_squared_error: 0.6108\n",
      "Epoch 43/100\n",
      "300319/300319 [==============================] - 38s 127us/sample - loss: 0.7874 - mean_squared_error: 0.5699 - val_loss: 0.8367 - val_mean_squared_error: 0.6228\n",
      "Epoch 44/100\n",
      "300319/300319 [==============================] - 38s 127us/sample - loss: 0.7859 - mean_squared_error: 0.5693 - val_loss: 0.8251 - val_mean_squared_error: 0.6091\n",
      "Epoch 45/100\n",
      "300319/300319 [==============================] - 38s 127us/sample - loss: 0.7866 - mean_squared_error: 0.5706 - val_loss: 0.8203 - val_mean_squared_error: 0.6073\n",
      "Epoch 46/100\n",
      "300319/300319 [==============================] - 38s 127us/sample - loss: 0.7863 - mean_squared_error: 0.5700 - val_loss: 0.8142 - val_mean_squared_error: 0.5979\n",
      "Epoch 47/100\n",
      "300319/300319 [==============================] - 38s 127us/sample - loss: 0.7868 - mean_squared_error: 0.5696 - val_loss: 0.8294 - val_mean_squared_error: 0.6158\n",
      "Epoch 48/100\n",
      "300319/300319 [==============================] - 38s 128us/sample - loss: 0.7879 - mean_squared_error: 0.5714 - val_loss: 0.8391 - val_mean_squared_error: 0.6243\n",
      "Epoch 49/100\n",
      "300319/300319 [==============================] - 38s 127us/sample - loss: 0.7866 - mean_squared_error: 0.5695 - val_loss: 0.8144 - val_mean_squared_error: 0.5997\n",
      "Epoch 50/100\n",
      "300319/300319 [==============================] - 38s 127us/sample - loss: 0.7865 - mean_squared_error: 0.5701 - val_loss: 0.8281 - val_mean_squared_error: 0.6094\n",
      "Epoch 51/100\n",
      "300319/300319 [==============================] - 39s 128us/sample - loss: 0.7871 - mean_squared_error: 0.5707 - val_loss: 0.8189 - val_mean_squared_error: 0.6038\n",
      "Epoch 52/100\n",
      "300319/300319 [==============================] - 38s 127us/sample - loss: 0.7871 - mean_squared_error: 0.5713 - val_loss: 0.8364 - val_mean_squared_error: 0.6243\n",
      "Epoch 53/100\n",
      "300319/300319 [==============================] - 38s 127us/sample - loss: 0.7860 - mean_squared_error: 0.5711 - val_loss: 0.8010 - val_mean_squared_error: 0.5854\n",
      "Epoch 54/100\n",
      "300319/300319 [==============================] - 39s 129us/sample - loss: 0.7871 - mean_squared_error: 0.5716 - val_loss: 0.8231 - val_mean_squared_error: 0.6096\n",
      "Epoch 55/100\n",
      "300319/300319 [==============================] - 38s 127us/sample - loss: 0.7864 - mean_squared_error: 0.5713 - val_loss: 0.8194 - val_mean_squared_error: 0.6076\n",
      "Epoch 56/100\n",
      "300319/300319 [==============================] - 38s 127us/sample - loss: 0.7855 - mean_squared_error: 0.5714 - val_loss: 0.8000 - val_mean_squared_error: 0.5865\n",
      "Epoch 57/100\n",
      "300319/300319 [==============================] - 38s 127us/sample - loss: 0.7852 - mean_squared_error: 0.5705 - val_loss: 0.8401 - val_mean_squared_error: 0.6236\n",
      "Epoch 58/100\n",
      "300319/300319 [==============================] - 38s 127us/sample - loss: 0.7854 - mean_squared_error: 0.5710 - val_loss: 0.8062 - val_mean_squared_error: 0.5930\n",
      "Epoch 59/100\n",
      "300319/300319 [==============================] - 38s 127us/sample - loss: 0.7840 - mean_squared_error: 0.5695 - val_loss: 0.8390 - val_mean_squared_error: 0.6236\n",
      "Epoch 60/100\n",
      "300319/300319 [==============================] - 38s 127us/sample - loss: 0.7856 - mean_squared_error: 0.5705 - val_loss: 0.8159 - val_mean_squared_error: 0.6027\n",
      "Epoch 61/100\n",
      "300319/300319 [==============================] - 39s 128us/sample - loss: 0.7831 - mean_squared_error: 0.5684 - val_loss: 0.8457 - val_mean_squared_error: 0.6325\n",
      "Epoch 62/100\n",
      "300319/300319 [==============================] - 38s 127us/sample - loss: 0.7844 - mean_squared_error: 0.5698 - val_loss: 0.8233 - val_mean_squared_error: 0.6114\n",
      "Epoch 63/100\n",
      "300319/300319 [==============================] - 38s 128us/sample - loss: 0.7849 - mean_squared_error: 0.5708 - val_loss: 0.8170 - val_mean_squared_error: 0.6033\n",
      "Epoch 64/100\n",
      "300319/300319 [==============================] - 38s 127us/sample - loss: 0.7847 - mean_squared_error: 0.5699 - val_loss: 0.8269 - val_mean_squared_error: 0.6146\n",
      "Epoch 65/100\n",
      "300319/300319 [==============================] - 38s 127us/sample - loss: 0.7837 - mean_squared_error: 0.5697 - val_loss: 0.8168 - val_mean_squared_error: 0.6012\n",
      "Epoch 66/100\n",
      "300319/300319 [==============================] - 38s 127us/sample - loss: 0.7837 - mean_squared_error: 0.5690 - val_loss: 0.8269 - val_mean_squared_error: 0.6136\n",
      "Epoch 67/100\n",
      "300319/300319 [==============================] - 38s 127us/sample - loss: 0.7832 - mean_squared_error: 0.5694 - val_loss: 0.8271 - val_mean_squared_error: 0.6137\n",
      "Epoch 68/100\n",
      "300319/300319 [==============================] - 38s 127us/sample - loss: 0.7843 - mean_squared_error: 0.5710 - val_loss: 0.8342 - val_mean_squared_error: 0.6217\n",
      "Epoch 69/100\n",
      "300319/300319 [==============================] - 38s 127us/sample - loss: 0.7845 - mean_squared_error: 0.5703 - val_loss: 0.8177 - val_mean_squared_error: 0.6039\n",
      "Epoch 70/100\n",
      "300319/300319 [==============================] - 38s 127us/sample - loss: 0.7846 - mean_squared_error: 0.5696 - val_loss: 0.8379 - val_mean_squared_error: 0.6272\n",
      "Epoch 71/100\n",
      "300319/300319 [==============================] - 38s 127us/sample - loss: 0.7842 - mean_squared_error: 0.5713 - val_loss: 0.8307 - val_mean_squared_error: 0.6177\n",
      "Epoch 72/100\n",
      "300319/300319 [==============================] - 38s 128us/sample - loss: 0.7856 - mean_squared_error: 0.5718 - val_loss: 0.8370 - val_mean_squared_error: 0.6256\n",
      "Epoch 73/100\n",
      "300319/300319 [==============================] - 39s 129us/sample - loss: 0.7834 - mean_squared_error: 0.5694 - val_loss: 0.8398 - val_mean_squared_error: 0.6268\n",
      "Epoch 74/100\n",
      "300319/300319 [==============================] - 38s 128us/sample - loss: 0.7839 - mean_squared_error: 0.5699 - val_loss: 0.8245 - val_mean_squared_error: 0.6144\n",
      "Epoch 75/100\n",
      "300319/300319 [==============================] - 38s 128us/sample - loss: 0.7837 - mean_squared_error: 0.5703 - val_loss: 0.8187 - val_mean_squared_error: 0.6073\n",
      "Epoch 76/100\n",
      "300319/300319 [==============================] - 38s 127us/sample - loss: 0.7836 - mean_squared_error: 0.5706 - val_loss: 0.8002 - val_mean_squared_error: 0.5858\n",
      "Epoch 77/100\n",
      "300319/300319 [==============================] - 38s 127us/sample - loss: 0.7852 - mean_squared_error: 0.5728 - val_loss: 0.7928 - val_mean_squared_error: 0.5816\n",
      "Epoch 78/100\n",
      "300319/300319 [==============================] - 38s 127us/sample - loss: 0.7832 - mean_squared_error: 0.5706 - val_loss: 0.8301 - val_mean_squared_error: 0.6204\n",
      "Epoch 79/100\n",
      "300319/300319 [==============================] - 38s 127us/sample - loss: 0.7823 - mean_squared_error: 0.5701 - val_loss: 0.8655 - val_mean_squared_error: 0.6549\n",
      "Epoch 80/100\n",
      "300319/300319 [==============================] - 38s 127us/sample - loss: 0.7838 - mean_squared_error: 0.5714 - val_loss: 0.8563 - val_mean_squared_error: 0.6459\n",
      "Epoch 81/100\n",
      "300319/300319 [==============================] - 38s 127us/sample - loss: 0.7841 - mean_squared_error: 0.5715 - val_loss: 0.8146 - val_mean_squared_error: 0.6045\n",
      "Epoch 82/100\n",
      "300319/300319 [==============================] - 38s 127us/sample - loss: 0.7816 - mean_squared_error: 0.5689 - val_loss: 0.8093 - val_mean_squared_error: 0.5978\n",
      "Epoch 83/100\n",
      "300319/300319 [==============================] - 38s 126us/sample - loss: 0.7817 - mean_squared_error: 0.5697 - val_loss: 0.8054 - val_mean_squared_error: 0.5918\n",
      "Epoch 84/100\n",
      "300319/300319 [==============================] - 38s 127us/sample - loss: 0.7828 - mean_squared_error: 0.5705 - val_loss: 0.8428 - val_mean_squared_error: 0.6311\n",
      "Epoch 85/100\n",
      "300319/300319 [==============================] - 38s 126us/sample - loss: 0.7829 - mean_squared_error: 0.5699 - val_loss: 0.8292 - val_mean_squared_error: 0.6203\n",
      "Epoch 86/100\n",
      "300319/300319 [==============================] - 38s 127us/sample - loss: 0.7826 - mean_squared_error: 0.5714 - val_loss: 0.8222 - val_mean_squared_error: 0.6137\n",
      "Epoch 87/100\n",
      "300319/300319 [==============================] - 38s 127us/sample - loss: 0.7825 - mean_squared_error: 0.5709 - val_loss: 0.8103 - val_mean_squared_error: 0.5993\n",
      "Epoch 88/100\n",
      "300319/300319 [==============================] - 38s 127us/sample - loss: 0.7828 - mean_squared_error: 0.5715 - val_loss: 0.8130 - val_mean_squared_error: 0.6017\n",
      "Epoch 89/100\n",
      "300319/300319 [==============================] - 38s 127us/sample - loss: 0.7817 - mean_squared_error: 0.5695 - val_loss: 0.8259 - val_mean_squared_error: 0.6149\n",
      "Epoch 90/100\n",
      "300319/300319 [==============================] - 38s 127us/sample - loss: 0.7815 - mean_squared_error: 0.5699 - val_loss: 0.8221 - val_mean_squared_error: 0.6113\n",
      "Epoch 91/100\n",
      "300319/300319 [==============================] - 38s 127us/sample - loss: 0.7831 - mean_squared_error: 0.5708 - val_loss: 0.8113 - val_mean_squared_error: 0.5993\n",
      "Epoch 92/100\n",
      "300319/300319 [==============================] - 38s 128us/sample - loss: 0.7826 - mean_squared_error: 0.5700 - val_loss: 0.8157 - val_mean_squared_error: 0.6032\n",
      "Epoch 93/100\n",
      "300319/300319 [==============================] - 38s 127us/sample - loss: 0.7830 - mean_squared_error: 0.5709 - val_loss: 0.8105 - val_mean_squared_error: 0.5974\n",
      "Epoch 94/100\n",
      "300319/300319 [==============================] - 38s 128us/sample - loss: 0.7823 - mean_squared_error: 0.5702 - val_loss: 0.8256 - val_mean_squared_error: 0.6165\n",
      "Epoch 95/100\n",
      "300319/300319 [==============================] - 38s 127us/sample - loss: 0.7818 - mean_squared_error: 0.5695 - val_loss: 0.8210 - val_mean_squared_error: 0.6109\n",
      "Epoch 96/100\n",
      "300319/300319 [==============================] - 38s 127us/sample - loss: 0.7840 - mean_squared_error: 0.5725 - val_loss: 0.8077 - val_mean_squared_error: 0.5973\n",
      "Epoch 97/100\n",
      "300319/300319 [==============================] - 38s 127us/sample - loss: 0.7826 - mean_squared_error: 0.5714 - val_loss: 0.8249 - val_mean_squared_error: 0.6146\n",
      "Epoch 98/100\n",
      "300319/300319 [==============================] - 38s 128us/sample - loss: 0.7828 - mean_squared_error: 0.5713 - val_loss: 0.8281 - val_mean_squared_error: 0.6193\n",
      "Epoch 99/100\n",
      "300319/300319 [==============================] - 38s 128us/sample - loss: 0.7830 - mean_squared_error: 0.5711 - val_loss: 0.8123 - val_mean_squared_error: 0.6013\n",
      "Epoch 100/100\n",
      "300319/300319 [==============================] - 38s 127us/sample - loss: 0.7815 - mean_squared_error: 0.5696 - val_loss: 0.8352 - val_mean_squared_error: 0.6254\n"
     ]
    }
   ],
   "source": [
    "sample_weights = np.ones_like(train_popularity)\n",
    "sample_weights[train_popularity < -1] = 0.1\n",
    "sample_weights[train_popularity > 0] = 2\n",
    "sample_weights[train_popularity > 1] = 5\n",
    "mcp_save = ModelCheckpoint(f'data/ranking_model_{lang}.h5', save_best_only=True, monitor='val_loss', mode='min')\n",
    "\n",
    "history = model.fit(x_train, train_popularity,\n",
    "                    batch_size=batch_size,\n",
    "                    epochs=epochs,\n",
    "                    verbose=verbose,\n",
    "                    #sample_weight=sample_weights,\n",
    "                    validation_data=(x_test, test_popularity),\n",
    "                    callbacks=[mcp_save])\n",
    "\n",
    "model.load_weights(f'data/ranking_model_{lang}.h5')"
   ]
  },
  {
   "cell_type": "code",
   "execution_count": 12,
   "metadata": {},
   "outputs": [
    {
     "name": "stdout",
     "output_type": "stream",
     "text": [
      "[[1.        0.6710555]\n",
      " [0.6710555 1.       ]]\n",
      "[[1.         0.40257288]\n",
      " [0.40257288 1.        ]]\n"
     ]
    }
   ],
   "source": [
    "predicted_popularity = model.predict(x_test, verbose=0)\n",
    "sample = np.random.choice(len(test_popularity), 10000)\n",
    "print(np.corrcoef(test_popularity[sample], predicted_popularity[sample, 0]))\n",
    "very_popular = np.flatnonzero(test_popularity > 0.5)\n",
    "print(np.corrcoef(test_popularity[very_popular], predicted_popularity[very_popular, 0]))"
   ]
  },
  {
   "cell_type": "code",
   "execution_count": 13,
   "metadata": {},
   "outputs": [
    {
     "name": "stdout",
     "output_type": "stream",
     "text": [
      "[2.7371147] 3.6732041244154225\n",
      "\tUS diplomat acknowledges what Democrats call a quid pro quo WASHINGTON (AP) - I now do recall. WASHINGTON (AP) - \"I now do recall.\" With that stunning reversal, diplomat Gordon Sondland handed House impeachment investigators another key piece of corroborating testimony Tuesday. He acknowledged what Democrats contend was a clear quid pro quo, pushed by President Donald Trump and his personal lawyer\n",
      "\n",
      "[2.7222633] 2.3322680503003483\n",
      "\tU.S. diplomat acknowledges what Democrats call a quid pro quo WASHINGTON -- \"I now do recall.\" With that stunning reversal, diplomat Gordon Sondland handed House impeachment investigators another key piece of corroborating testimony Tuesday. He acknowledged what Democrats contend was a clear quid pro quo, pushed by President Donald Trump and his personal lawyer, Rudy Giuliani, with Ukraine. Sondla\n",
      "\n",
      "[2.581759] 2.1032697053215132\n",
      "\tImpeachment reversal: Diplomat now acknowledges quid pro quo WASHINGTON -- \"I now do recall.\" With that stunning reversal, diplomat Gordon Sondland handed House impeachment investigators another key piece of corroborating testimony Tuesday. He acknowledged what Democrats contend was a clear quid pro quo, pushed by U.S. President Donald Trump and his personal lawyer, Rudy Giuliani, with Ukraine. So\n",
      "\n",
      "[2.513052] 2.4249615362538846\n",
      "\tTrump impeachment inquiry: What happened this week? The probe gained momentum this week as the US House voted to set the ground rules for public hearings. Washington, DC - Impeachment proceedings in the United States House of Representatives picked up speed this week as the full House voted to open a new phase of public hearings in the inquiry. At the centre of the probe is whether President Donal\n",
      "\n",
      "[2.3802776] 1.7402886443918817\n",
      "\tThe Trump impeachment inquiry: What we've learned so far (Reuters) - U.S. lawmakers charted a path to public hearings on the impeachment of President Donald Trump on Thursday by a vote of 232 to 196 in the House of Representatives. House Democrats began an inquiry on Sept. 24 to determine whether Trump abused his office for political gain when he asked Ukrainian President Volodymyr Zelenskiy in a \n",
      "\n",
      "[2.3727188] 1.7222780141746106\n",
      "\tFactbox: The Trump impeachment inquiry - What we've learned so far (Reuters) - Democrats in the U.S. House of Representatives began an inquiry on Sept. 24 to determine whether President Donald Trump abused his office for political gain when he asked Ukrainian President Volodymyr Zelenskiy in a July phone call to investigate political rival Joe Biden, a former vice president. The contents of the ca\n",
      "\n",
      "[2.3685124] 1.1002910433720385\n",
      "\tEx-Trump aide confirms Biden probe linked to Ukraine aid WASHINGTON (AP) - A former top White House official confirmed Thursday that military aid to Ukraine was held up by President Donald Trump's demand for the ally to investigate Democrats and Joe Biden, but testified there's nothing illegal, in his view, about the quid pro quo at the center of the Democrat-led impeachment inquiry. Tim Morrison,\n",
      "\n",
      "[2.3555212] 2.19461659948222\n",
      "\tImpeachment probe: Diplomat says he knew why US aid withheld WASHINGTON (AP) - In a striking reversal, a top diplomat revised his testimony in the House impeachment inquiry to acknowledge that U.S. military aid to Ukraine was being withheld until the foreign ally promised to investigate corruption as President Donald Trump wanted. The three-page update from U.S. Ambassador Gordon Sondland, tucked \n",
      "\n",
      "[2.3300402] 1.8804513096781352\n",
      "\tImpeachment going public: Hearings next week for all to see WASHINGTON (AP) - Democrats announced Wednesday they will launch public impeachment hearings next week, intending to bring to life weeks of closed-door testimony and lay out a convincing narrative of presidential misconduct by Donald Trump. First to testify will be William Taylor, the top diplomat in Ukraine, who has relayed in private hi\n",
      "\n",
      "[2.2635736] 4.303173859474751\n",
      "\tTaylor expected to be first to testify in public hearings WASHINGTON (AP) — Democrats announced they will launch public impeachment hearings next week, intending to bring to life weeks of closed-door testimony and lay out a convincing narrative of presidential misconduct by Donald Trump. First to testify will be William Taylor, the top diplomat in Ukraine, who has relayed in private his understand\n",
      "\n",
      "[2.2523606] 0.7638022550828161\n",
      "\tBolton, Trump's former national security adviser, skips impeachment deposition Bolton's lawyer previously made it clear that he would not appear voluntarily. WASHINGTON — Former White House national security adviser John Bolton failed to appear Thursday for his closed-door deposition in the House impeachment inquiry, following the lead of other current and former Trump administration officials who\n",
      "\n",
      "[2.2177215] 4.009035473020638\n",
      "\tTrump impeachment: US diplomat acknowledges what Democrats call quid pro quo Gordon Sondland has revised evidence he previously gave to Trump impeachment inquiry investigators. A US diplomat has revised the evidence he previously gave to a congressional impeachment investigation into President Donald Trump. Gordon Sondland has acknowledged what Democrats in the House of Representatives contend was\n",
      "\n",
      "[2.2129152] 4.433405278491913\n",
      "\tUS diplomat confirms details of Trump's Ukraine deal As the presidential impeachment investigation continues, US diplomat Gordon Sondland has confirmed what Democrats contend was a clear link between Donald Trump's demand for information about his political opponent, Joe Biden, and the supply of military aid to Ukraine. In an addendum to his earlier sworn testimony, the former US Ambassador to the\n",
      "\n",
      "[2.0976858] 3.3795773373747098\n",
      "\tUS diplomats to star in public impeachment hearings next week WASHINGTON, Nov 7 — Three US diplomats who expressed alarm about President Donald Trump’s dealings with Ukraine will serve as star witnesses when Democrats bring their impeachment case against Trump directly to the public with televised congressional hearings next week, lawmakers said yesterday. In a preview of what is to come, lawmaker\n",
      "\n",
      "[2.0953898] 2.254423962184739\n",
      "\tUS House formalises Trump impeachment process in landmark vote WASHINGTON: A deeply divided Congress formally opened a new, public phase of its investigation into Donald Trump on Thursday (Oct 31) as US lawmakers voted for the first time to advance the impeachment process targeting the US president. \"Today the House takes the next step forward as we establish the procedures for open hearings... so\n",
      "\n",
      "[2.0811617] 0.43789560621568685\n",
      "\tWH official tries to find out if ambassador acted at Trump's direction A top White House official told lawmakers he tried to find out whether President Donald Trump told a key US diplomat he wanted Ukraine to investigate the Bidens, multiple sources familiar with his closed-door impeachment inquiry depo Actions show concern inside the White House WASHINGTON (CNN) - A top White House official told \n",
      "\n",
      "[2.0763254] 1.1669623437303258\n",
      "\tTrump impeachment inquiry: Pence aide testifies; Bolton a no-show Jennifer Williams, the special adviser to Vice President Pence for Europe and Russia, testifies in closed-door hearing. US congressional committees conducting an impeachment inquiry of President Donald Trump met on Thursday for the first time with an adviser to Vice President Mike Pence, but former national security adviser John Bol\n",
      "\n",
      "[2.0661347] 2.282657858045094\n",
      "\tA ‘refreshed’ memory: Takeaways from Ukraine testimony WASHINGTON (AP) — In transcripts of closed-door interviews released by impeachment investigators Tuesday, two State Department officials recount what they remember — and what they didn't know at the time... WASHINGTON (AP) — In transcripts of closed-door interviews released by impeachment investigators Tuesday, two State Department officials r\n",
      "\n",
      "[2.061091] 4.280030809369399\n",
      "\tUS envoy Sondland ties Ukrainian aid to investigation request in new impeachment testimony US diplomat Gordon Sondland told a Ukrainian official his country would likely not get nearly $400 million in security aid unless they pursued investigations demanded by President Donald Trump, revising earlier testimony to the Trump impeachment inquiry. Sondland, the US ambassador to the European Union, who\n",
      "\n",
      "[2.0559368] 2.580442595412894\n",
      "\tPro-Beijing lawmaker in Hong Kong stabbed while campaigning HONG KONG (AP) - An anti-government assailant stabbed and wounded a pro-Beijing Hong Kong lawmaker who was election campaigning Wednesday, police said, in another escalation of violence surrounding the protests demanding political reforms in the semi-autonomous Chinese territory. Junius Ho has become a hated figure by the protesters over \n",
      "\n",
      "[2.0550363] 4.023668568167206\n",
      "\tA 'refreshed' memory: Key takeaways from Ukraine testimony WASHINGTON (AP) - In transcripts of closed-door interviews released by impeachment investigators Tuesday, two State Department officials recount what they remember - and what they didn't know at the time - about President Donald Trump's demands that Ukraine conduct politically motivated investigations. Gordon Sondland, the U.S. Ambassador \n",
      "\n",
      "[2.048944] 2.2651667765348056\n",
      "\tU.S. envoy Sondland reverses impeachment testimony, says he knew of Ukraine quid pro quo WASHINGTON (Reuters) - U.S. Ambassador to the European Union Gordon Sondland said he knew that the Trump administration withheld nearly $400 million in American aid while pressuring Ukraine to investigate President Donald Trump’s political rivals, according to an excerpt of his testimony released on Tuesday. U\n",
      "\n",
      "[2.0350246] 2.2125242757377848\n",
      "\tDiplomat lays out White House campaign to oust her WASHINGTON (AP) - It started with a warning to watch her back, that people were looking to hurt her. From there, former U.S. Ambassador to Ukraine Marie Yovanovitch told House investigators, it escalated into a chilling campaign to fire her as President Donald Trump and his allies angled in Eastern Europe for political advantage at home. WASHINGTO\n",
      "\n",
      "[2.0306373] 2.5967550521932155\n",
      "\tFormer ambassador says she was warned to ‘watch my back’ WASHINGTON (AP) — It started with a warning to watch her back, that people were \"looking to hurt\" her. From there, former U.S. Ambassador to Ukraine Marie Yovanovitch told House... WASHINGTON (AP) — It started with a warning to watch her back, that people were “looking to hurt” her. From there, former U.S. Ambassador to Ukraine Marie Yovanov\n",
      "\n",
      "[2.0271256] 2.36595254503027\n",
      "\tTrump impeachment inquiry: All the latest updates In landmark vote, US House approves rules on impeachment inquiry of President Donald Trump. The Democratic-controlled US House of Representatives on Thursday held its first vote in the impeachment investigation of President Donald Trump. In a 232-196 vote, the House approved a measure establishing rules for public hearings and the release of transc\n",
      "\n",
      "[2.0119805] 3.493690344067998\n",
      "\tWhat You Need to Know: White House beefing up staffing WASHINGTON (AP) — For only the fourth time in U.S. history, the House of Representatives has started a presidential impeachment inquiry. House committees are trying to determine whether President Donald Trump violated his oath of office by asking Ukraine to investigate political rival Joe Biden and his family and to investigate the country’s i\n",
      "\n",
      "[2.0062792] 2.3783981503140144\n",
      "\tPelosi bangs the gavel: House votes to endorse Trump impeachment inquiry Vote set rules for public phase of impeachment inquiry, laying out plan that could produce televised hearings within two weeks For only the third time in the history of the modern presidency, the US House of Representatives voted on Thursday to formalize impeachment proceedings against the president of the United States. In a\n",
      "\n",
      "[1.9994485] 3.1661709403817238\n",
      "\tArsenal deny meeting between club’s head of football and Jose Mourinho Mourinho has been linked with replacing under-pressure Gunners boss Unai Emery. Arsenal have denied any meetings have taken place between head of football Raul Sanllehi and Jose Mourinho as pressure continues to mount on head coach Unai Emery. A section of supporters have turned on the Spaniard following a run of two wins from \n",
      "\n",
      "[1.9994485] 3.1767960085165976\n",
      "\tArsenal deny meeting between club’s head of football and Jose Mourinho Mourinho has been linked with replacing under-pressure Gunners boss Unai Emery. Arsenal have denied any meetings have taken place between head of football Raul Sanllehi and Jose Mourinho as pressure continues to mount on head coach Unai Emery. A section of supporters have turned on the Spaniard following a run of two wins from \n",
      "\n",
      "[1.9956658] 1.4891687198213694\n",
      "\tAs public hearings loom, VP Pence aide meets with US House committees US congressional committees conducting an impeachment investigation of President Donald Trump met on Thursday for the first time with a top ... WASHINGTON: US congressional committees conducting an impeachment investigation of President Donald Trump met on Thursday (Nov 7) for the first time with a top adviser to Vice President \n",
      "\n"
     ]
    }
   ],
   "source": [
    "top_news = list(sorted(range(len(predicted_popularity)), key=lambda x: predicted_popularity[x], reverse=True))\n",
    "for i in top_news[:30]:\n",
    "    print(f\"{predicted_popularity[i]} {test_popularity[i]}\\n\\t{test_file_info[i].text[:400]}\")\n",
    "    print()"
   ]
  },
  {
   "cell_type": "code",
   "execution_count": 14,
   "metadata": {},
   "outputs": [
    {
     "data": {
      "text/plain": [
       "<matplotlib.collections.PathCollection at 0x7fcbd738a2e8>"
      ]
     },
     "execution_count": 14,
     "metadata": {},
     "output_type": "execute_result"
    },
    {
     "data": {
      "image/png": "[encoded data removed]",
      "text/plain": [
       "<Figure size 432x288 with 1 Axes>"
      ]
     },
     "metadata": {
      "needs_background": "light"
     },
     "output_type": "display_data"
    }
   ],
   "source": [
    "plt.scatter(predicted_popularity, test_popularity)"
   ]
  },
  {
   "cell_type": "code",
   "execution_count": 15,
   "metadata": {},
   "outputs": [
    {
     "name": "stdout",
     "output_type": "stream",
     "text": [
      "loading data/keras_model_en.h5\n",
      "WARNING:tensorflow:No training configuration found in save file: the model was *not* compiled. Compile it manually.\n",
      "Forward pass took 0.052549 s.\n",
      "Forward pass took 0.025113 s.\n",
      "Forward pass took 0.024427 s.\n",
      "Starting performance measurements.\n",
      "Forward pass took 0.025026 s.\n",
      "Forward pass took 0.024218 s.\n",
      "Forward pass took 0.025282 s.\n",
      "Forward pass took 0.026868 s.\n",
      "Forward pass took 0.021642 s.\n",
      "Forward pass took 0.024607200000000003 s on average.\n",
      "Converting model architecture.\n",
      "Converting model weights.\n",
      "Done converting model weights.\n",
      "Calculating model hash.\n",
      "Model conversion finished.\n",
      "writing data/ranking_model_en.json\n"
     ]
    }
   ],
   "source": [
    "model.load_weights(f'data/ranking_model_{lang}.h5')\n",
    "model.save(f'data/keras_model_{lang}.h5', include_optimizer=False)\n",
    "convert_model.convert(f\"data/keras_model_{lang}.h5\", f\"data/ranking_model_{lang}.json\", no_tests=False)\n",
    "\n",
    "tokenizer_data = json.loads(tokenize.to_json())\n",
    "word_index = json.loads(tokenizer_data[\"config\"][\"word_index\"])\n",
    "with open(f\"data/ranking_dictionary_{lang}.tsv\", \"w\") as f:\n",
    "    for word, index in word_index.items():\n",
    "        if index < max_words:\n",
    "            f.write(f\"{word}\\t{index}\\t{normalizer.idf[word] if word in normalizer.idf else 0}\\n\")"
   ]
  },
  {
   "cell_type": "code",
   "execution_count": 16,
   "metadata": {},
   "outputs": [],
   "source": [
    "cpp_preds = news.run_nn(test_file_info[:10000], lang, f\"data/ranking_model_{lang}.json\", f\"data/ranking_dictionary_{lang}.tsv\")"
   ]
  },
  {
   "cell_type": "code",
   "execution_count": 17,
   "metadata": {},
   "outputs": [
    {
     "data": {
      "text/plain": [
       "array([[1., 1.],\n",
       "       [1., 1.]])"
      ]
     },
     "execution_count": 17,
     "metadata": {},
     "output_type": "execute_result"
    }
   ],
   "source": [
    "cpp_preds = np.array(cpp_preds)\n",
    "np.corrcoef(predicted_popularity[:10000, 0], cpp_preds[:, 0])"
   ]
  },
  {
   "cell_type": "code",
   "execution_count": 18,
   "metadata": {},
   "outputs": [
    {
     "name": "stdout",
     "output_type": "stream",
     "text": [
      "[2.73711467] 3.6732041244154225\n",
      "\tUS diplomat acknowledges what Democrats call a quid pro quo WASHINGTON (AP) - I now do recall. WASHINGTON (AP) - \"I now do recall.\" With that stunning reversal, diplomat Gordon Sondland handed House impeachment investigators another key piece of corroborating testimony Tuesday. He acknowledged what Democrats contend was a clear quid pro quo, pushed by President Donald Trump and his personal lawyer\n",
      "\n",
      "[2.72226381] 2.3322680503003483\n",
      "\tU.S. diplomat acknowledges what Democrats call a quid pro quo WASHINGTON -- \"I now do recall.\" With that stunning reversal, diplomat Gordon Sondland handed House impeachment investigators another key piece of corroborating testimony Tuesday. He acknowledged what Democrats contend was a clear quid pro quo, pushed by President Donald Trump and his personal lawyer, Rudy Giuliani, with Ukraine. Sondla\n",
      "\n",
      "[2.5817585] 2.1032697053215132\n",
      "\tImpeachment reversal: Diplomat now acknowledges quid pro quo WASHINGTON -- \"I now do recall.\" With that stunning reversal, diplomat Gordon Sondland handed House impeachment investigators another key piece of corroborating testimony Tuesday. He acknowledged what Democrats contend was a clear quid pro quo, pushed by U.S. President Donald Trump and his personal lawyer, Rudy Giuliani, with Ukraine. So\n",
      "\n",
      "[2.51305246] 2.4249615362538846\n",
      "\tTrump impeachment inquiry: What happened this week? The probe gained momentum this week as the US House voted to set the ground rules for public hearings. Washington, DC - Impeachment proceedings in the United States House of Representatives picked up speed this week as the full House voted to open a new phase of public hearings in the inquiry. At the centre of the probe is whether President Donal\n",
      "\n",
      "[2.38027763] 1.7402886443918817\n",
      "\tThe Trump impeachment inquiry: What we've learned so far (Reuters) - U.S. lawmakers charted a path to public hearings on the impeachment of President Donald Trump on Thursday by a vote of 232 to 196 in the House of Representatives. House Democrats began an inquiry on Sept. 24 to determine whether Trump abused his office for political gain when he asked Ukrainian President Volodymyr Zelenskiy in a \n",
      "\n",
      "[2.37271881] 1.7222780141746106\n",
      "\tFactbox: The Trump impeachment inquiry - What we've learned so far (Reuters) - Democrats in the U.S. House of Representatives began an inquiry on Sept. 24 to determine whether President Donald Trump abused his office for political gain when he asked Ukrainian President Volodymyr Zelenskiy in a July phone call to investigate political rival Joe Biden, a former vice president. The contents of the ca\n",
      "\n",
      "[2.36851215] 1.1002910433720385\n",
      "\tEx-Trump aide confirms Biden probe linked to Ukraine aid WASHINGTON (AP) - A former top White House official confirmed Thursday that military aid to Ukraine was held up by President Donald Trump's demand for the ally to investigate Democrats and Joe Biden, but testified there's nothing illegal, in his view, about the quid pro quo at the center of the Democrat-led impeachment inquiry. Tim Morrison,\n",
      "\n",
      "[2.3555212] 2.19461659948222\n",
      "\tImpeachment probe: Diplomat says he knew why US aid withheld WASHINGTON (AP) - In a striking reversal, a top diplomat revised his testimony in the House impeachment inquiry to acknowledge that U.S. military aid to Ukraine was being withheld until the foreign ally promised to investigate corruption as President Donald Trump wanted. The three-page update from U.S. Ambassador Gordon Sondland, tucked \n",
      "\n",
      "[2.26357341] 4.303173859474751\n",
      "\tTaylor expected to be first to testify in public hearings WASHINGTON (AP) — Democrats announced they will launch public impeachment hearings next week, intending to bring to life weeks of closed-door testimony and lay out a convincing narrative of presidential misconduct by Donald Trump. First to testify will be William Taylor, the top diplomat in Ukraine, who has relayed in private his understand\n",
      "\n",
      "[2.21772122] 4.009035473020638\n",
      "\tTrump impeachment: US diplomat acknowledges what Democrats call quid pro quo Gordon Sondland has revised evidence he previously gave to Trump impeachment inquiry investigators. A US diplomat has revised the evidence he previously gave to a congressional impeachment investigation into President Donald Trump. Gordon Sondland has acknowledged what Democrats in the House of Representatives contend was\n",
      "\n",
      "[2.21291447] 4.433405278491913\n",
      "\tUS diplomat confirms details of Trump's Ukraine deal As the presidential impeachment investigation continues, US diplomat Gordon Sondland has confirmed what Democrats contend was a clear link between Donald Trump's demand for information about his political opponent, Joe Biden, and the supply of military aid to Ukraine. In an addendum to his earlier sworn testimony, the former US Ambassador to the\n",
      "\n",
      "[2.09768605] 3.3795773373747098\n",
      "\tUS diplomats to star in public impeachment hearings next week WASHINGTON, Nov 7 — Three US diplomats who expressed alarm about President Donald Trump’s dealings with Ukraine will serve as star witnesses when Democrats bring their impeachment case against Trump directly to the public with televised congressional hearings next week, lawmakers said yesterday. In a preview of what is to come, lawmaker\n",
      "\n",
      "[2.09539008] 2.254423962184739\n",
      "\tUS House formalises Trump impeachment process in landmark vote WASHINGTON: A deeply divided Congress formally opened a new, public phase of its investigation into Donald Trump on Thursday (Oct 31) as US lawmakers voted for the first time to advance the impeachment process targeting the US president. \"Today the House takes the next step forward as we establish the procedures for open hearings... so\n",
      "\n",
      "[2.08116198] 0.43789560621568685\n",
      "\tWH official tries to find out if ambassador acted at Trump's direction A top White House official told lawmakers he tried to find out whether President Donald Trump told a key US diplomat he wanted Ukraine to investigate the Bidens, multiple sources familiar with his closed-door impeachment inquiry depo Actions show concern inside the White House WASHINGTON (CNN) - A top White House official told \n",
      "\n",
      "[2.06109095] 4.280030809369399\n",
      "\tUS envoy Sondland ties Ukrainian aid to investigation request in new impeachment testimony US diplomat Gordon Sondland told a Ukrainian official his country would likely not get nearly $400 million in security aid unless they pursued investigations demanded by President Donald Trump, revising earlier testimony to the Trump impeachment inquiry. Sondland, the US ambassador to the European Union, who\n",
      "\n",
      "[2.05593705] 2.580442595412894\n",
      "\tPro-Beijing lawmaker in Hong Kong stabbed while campaigning HONG KONG (AP) - An anti-government assailant stabbed and wounded a pro-Beijing Hong Kong lawmaker who was election campaigning Wednesday, police said, in another escalation of violence surrounding the protests demanding political reforms in the semi-autonomous Chinese territory. Junius Ho has become a hated figure by the protesters over \n",
      "\n",
      "[2.05503607] 4.023668568167206\n",
      "\tA 'refreshed' memory: Key takeaways from Ukraine testimony WASHINGTON (AP) - In transcripts of closed-door interviews released by impeachment investigators Tuesday, two State Department officials recount what they remember - and what they didn't know at the time - about President Donald Trump's demands that Ukraine conduct politically motivated investigations. Gordon Sondland, the U.S. Ambassador \n",
      "\n",
      "[2.04894352] 2.2651667765348056\n",
      "\tU.S. envoy Sondland reverses impeachment testimony, says he knew of Ukraine quid pro quo WASHINGTON (Reuters) - U.S. Ambassador to the European Union Gordon Sondland said he knew that the Trump administration withheld nearly $400 million in American aid while pressuring Ukraine to investigate President Donald Trump’s political rivals, according to an excerpt of his testimony released on Tuesday. U\n",
      "\n",
      "[2.03502464] 2.2125242757377848\n",
      "\tDiplomat lays out White House campaign to oust her WASHINGTON (AP) - It started with a warning to watch her back, that people were looking to hurt her. From there, former U.S. Ambassador to Ukraine Marie Yovanovitch told House investigators, it escalated into a chilling campaign to fire her as President Donald Trump and his allies angled in Eastern Europe for political advantage at home. WASHINGTO\n",
      "\n",
      "[2.0306375] 2.5967550521932155\n",
      "\tFormer ambassador says she was warned to ‘watch my back’ WASHINGTON (AP) — It started with a warning to watch her back, that people were \"looking to hurt\" her. From there, former U.S. Ambassador to Ukraine Marie Yovanovitch told House... WASHINGTON (AP) — It started with a warning to watch her back, that people were “looking to hurt” her. From there, former U.S. Ambassador to Ukraine Marie Yovanov\n",
      "\n",
      "[2.0271256] 2.36595254503027\n",
      "\tTrump impeachment inquiry: All the latest updates In landmark vote, US House approves rules on impeachment inquiry of President Donald Trump. The Democratic-controlled US House of Representatives on Thursday held its first vote in the impeachment investigation of President Donald Trump. In a 232-196 vote, the House approved a measure establishing rules for public hearings and the release of transc\n",
      "\n",
      "[2.0119803] 3.493690344067998\n",
      "\tWhat You Need to Know: White House beefing up staffing WASHINGTON (AP) — For only the fourth time in U.S. history, the House of Representatives has started a presidential impeachment inquiry. House committees are trying to determine whether President Donald Trump violated his oath of office by asking Ukraine to investigate political rival Joe Biden and his family and to investigate the country’s i\n",
      "\n",
      "[2.00627923] 2.3783981503140144\n",
      "\tPelosi bangs the gavel: House votes to endorse Trump impeachment inquiry Vote set rules for public phase of impeachment inquiry, laying out plan that could produce televised hearings within two weeks For only the third time in the history of the modern presidency, the US House of Representatives voted on Thursday to formalize impeachment proceedings against the president of the United States. In a\n",
      "\n",
      "[1.98926735] 1.7435042033203558\n",
      "\tUS diplomat tells impeachment probe she was urged to tweet support for Trump Mike Pompeo says he quit his post after State Dept did not defend Yovano­vitch from critic­ism by Trump WASHINGTON: Two US diplomats told lawmakers the State Department was being used for domestic political purposes under President Donald Trump and warned that would hurt American interests, according to transcripts releas\n",
      "\n",
      "[1.98700869] 2.4557580487044888\n",
      "\tFormer U.S. envoy says she was warned to 'watch my back' WASHINGTON -- It started with a warning to watch her back, that people were \"looking to hurt\" her. From there, former U.S. Ambassador to Ukraine Marie Yovanovitch told House investigators, it escalated into a chilling campaign to fire her as U.S. President Donald Trump and his allies angled in Eastern Europe for political advantage at home. \n",
      "\n",
      "[1.98700869] 2.4895491482418444\n",
      "\tFormer U.S. ambassador to Ukraine says she was warned to 'watch my back' WASHINGTON -- It started with a warning to watch her back, that people were \"looking to hurt\" her. From there, former U.S. Ambassador to Ukraine Marie Yovanovitch told House investigators, it escalated into a chilling campaign to fire her as U.S. President Donald Trump and his allies angled in Eastern Europe for political adv\n",
      "\n",
      "[1.98614001] 2.024055717165719\n",
      "\tUS House formalises Trump impeachment process in landmark vote Trump calls on Republ­icans to suppor­t him WASHINGTON: A deeply divided Congress formally opened a new, public phase of its investigation into Donald Trump on Thursday as US lawmakers voted for the first time to advance the impeachment process targeting the US president. “Today the House takes the next step forward as we establish the\n",
      "\n",
      "[1.98609209] 1.4918288045589032\n",
      "\tHong Kong police fire tear gas to break up anti-government rally Black-clad protesters return to city's Victoria Park as pro-democracy movement pushes into 22nd tense week. Hong Kong, China - Police in Hong Kong have used tear gas, pepper spray and water cannons to disperse anti-government protesters as thousands gathered for a banned rally calling for international emergency support as the city's\n",
      "\n",
      "[1.97807002] 4.416762542573845\n",
      "\tA 'refreshed' memory: Key takeaways from Ukraine testimony WASHINGTON -- In transcripts of closed-door interviews released by impeachment investigators Tuesday, two State Department officials recount what they remember -- and what they didn't know at the time -- about U.S. President Donald Trump's demands that Ukraine conduct politically motivated investigations. Gordon Sondland, the U.S. Ambassad\n",
      "\n",
      "[1.97132087] 1.7971466516186798\n",
      "\tUS Energy Secretary Perry refuses to testify in Trump impeachment probe Trump said on Oct. 17 that Perry was resigning from his Cabinet post and would step down by the end of the year US Energy Secretary Rick Perry, a member of President Donald Trump’s Cabinet who has played a pivotal role in the Ukraine controversy, will refuse to testify as requested next week in the Democratic-led impeachment i\n",
      "\n"
     ]
    }
   ],
   "source": [
    "top_news = list(sorted(range(len(cpp_preds)), key=lambda x: cpp_preds[x], reverse=True))\n",
    "for i in top_news[:30]:\n",
    "    print(f\"{cpp_preds[i]} {test_popularity[i]}\\n\\t{test_file_info[i].text[:400]}\")\n",
    "    print()"
   ]
  },
  {
   "cell_type": "code",
   "execution_count": 19,
   "metadata": {},
   "outputs": [],
   "source": [
    "site_popularity = {}\n",
    "for fi, pop in zip(train_file_info, train_popularity):\n",
    "    if fi.site not in site_popularity:\n",
    "        site_popularity[fi.site] = []\n",
    "        \n",
    "    site_popularity[fi.site].append(pop)\n",
    "    \n",
    "for site, pops in site_popularity.items():\n",
    "    site_popularity[site] = (sum(pops) / len(pops)) if len(pops) > 50 else None\n",
    "    \n",
    "for site in list(site_popularity.keys()):\n",
    "    if site_popularity[site] is None:\n",
    "        del site_popularity[site]\n",
    "    \n",
    "with open(f\"data/site_popularity_{lang}.tsv\", \"w\") as f:\n",
    "    for site, pop in sorted(site_popularity.items(), key=lambda x: x[1], reverse=True):\n",
    "        f.write(f\"{site}\\t{pop}\\n\")"
   ]
  },
  {
   "cell_type": "code",
   "execution_count": null,
   "metadata": {},
   "outputs": [],
   "source": []
  }
 ],
 "metadata": {
  "kernelspec": {
   "display_name": "Python 3",
   "language": "python",
   "name": "python3"
  },
  "language_info": {
   "codemirror_mode": {
    "name": "ipython",
    "version": 3
   },
   "file_extension": ".py",
   "mimetype": "text/x-python",
   "name": "python",
   "nbconvert_exporter": "python",
   "pygments_lexer": "ipython3",
   "version": "3.7.0"
  }
 },
 "nbformat": 4,
 "nbformat_minor": 4
}
