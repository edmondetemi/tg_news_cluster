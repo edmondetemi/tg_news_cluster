{
 "cells": [
  {
   "cell_type": "code",
   "execution_count": 1,
   "metadata": {},
   "outputs": [],
   "source": [
    "%load_ext autoreload\n",
    "%autoreload 2"
   ]
  },
  {
   "cell_type": "code",
   "execution_count": null,
   "metadata": {},
   "outputs": [],
   "source": [
    "import os\n",
    "import glob\n",
    "from collections import Counter\n",
    "import math\n",
    "import re\n",
    "import json\n",
    "\n",
    "import pandas as pd\n",
    "import umap\n",
    "from tqdm.autonotebook import tqdm\n",
    "from nltk.tokenize import word_tokenize\n",
    "\n",
    "import numpy as np\n",
    "from sklearn.datasets import load_iris, load_digits\n",
    "from sklearn.model_selection import train_test_split, KFold\n",
    "\n",
    "from tensorflow import keras\n",
    "\n",
    "import tensorflow as tf\n",
    "gpus = tf.config.experimental.list_physical_devices('GPU')\n",
    "#assert gpus\n",
    "try:\n",
    "    # Currently, memory growth needs to be the same across GPUs\n",
    "    for gpu in gpus:\n",
    "        tf.config.experimental.set_memory_growth(gpu, True)\n",
    "\n",
    "    logical_gpus = tf.config.experimental.list_logical_devices('GPU')\n",
    "    print(len(gpus), \"Physical GPUs,\", len(logical_gpus), \"Logical GPUs\")\n",
    "except RuntimeError as e:\n",
    "    # Memory growth must be set before GPUs have been initialized\n",
    "    print(e)\n",
    "\n",
    "\n",
    "from sklearn.preprocessing import LabelBinarizer, LabelEncoder\n",
    "from sklearn.metrics import confusion_matrix\n",
    "from sklearn.utils import class_weight\n",
    "layers = keras.layers\n",
    "models = keras.models\n",
    "from tensorflow.keras.optimizers import Adam\n",
    "\n",
    "import convert_model\n",
    "\n",
    "import language\n",
    "import text_nn\n",
    "import grab_category\n",
    "import news"
   ]
  },
  {
   "cell_type": "code",
   "execution_count": 3,
   "metadata": {},
   "outputs": [
    {
     "name": "stdout",
     "output_type": "stream",
     "text": [
      "43344 word stems\n",
      "4043 GT labels loaded from data/sample\n",
      "2837 GT labels loaded from data/sample2\n",
      "1935 GT labels loaded from data/sample3\n",
      "1504 GT labels loaded from data/sample4\n"
     ]
    }
   ],
   "source": [
    "folder_bootstrap = \"data/sample\"\n",
    "file_info = language.read_dump(os.path.join(folder_bootstrap, \"langs\", \"ru\"))\n",
    "normalizer = news.TextNormalizer(\"russian\")\n",
    "normalizer.train(file_info)\n",
    "train_texts = normalizer.normalize_texts(file_info)\n",
    "ground_truth = grab_category.load_gt(folder_bootstrap)\n",
    "\n",
    "folders_part2 = [\"data/sample2\", \"data/sample3\"]\n",
    "file_info2 = []\n",
    "ground_truth2 = {}\n",
    "for folder in folders_part2:\n",
    "    file_info2.extend(language.read_dump(os.path.join(folder, \"langs\", \"ru\")))\n",
    "    ground_truth2.update(grab_category.load_gt(folder).items())\n",
    "\n",
    "train_texts2 = normalizer.normalize_texts(file_info2)\n",
    "\n",
    "folder_part3 = \"data/sample4\"\n",
    "file_info3 = language.read_dump(os.path.join(folder_part3, \"langs\", \"ru\"))\n",
    "train_texts3 = normalizer.normalize_texts(file_info3)\n",
    "ground_truth3 = grab_category.load_gt(folder_part3)"
   ]
  },
  {
   "cell_type": "code",
   "execution_count": 4,
   "metadata": {},
   "outputs": [
    {
     "data": {
      "application/vnd.jupyter.widget-view+json": {
       "model_id": "6613b8dd54294556a078baeaf402b8d6",
       "version_major": 2,
       "version_minor": 0
      },
      "text/plain": [
       "HBox(children=(IntProgress(value=0, description='assigning keyword-based labels', max=88150, style=ProgressSty…"
      ]
     },
     "metadata": {},
     "output_type": "display_data"
    },
    {
     "name": "stdout",
     "output_type": "stream",
     "text": [
      "\n",
      "87149 / 88150 (98.8644356211004%) have categories\n",
      "Counter({'society': 43943, 'sports': 10663, 'economy': 7917, 'other': 7373, 'entertainment': 6405, 'junk': 5603, 'science': 3402, 'technology': 1843, '': 1001})\n"
     ]
    }
   ],
   "source": [
    "kw_categories = text_nn.keyword_categories(file_info, text_nn.category_words_rus)\n",
    "url_junk = grab_category.junk_by_url(file_info)\n",
    "grab_category.gt_to_linear(kw_categories, url_junk, file_info)\n",
    "categories = kw_categories.copy() \n",
    "print(f\"{sum(cat != '' for cat in categories)} / {len(categories)} ({sum(cat != '' for cat in categories) / len(categories) * 100}%) have categories\")\n",
    "print(Counter(categories))"
   ]
  },
  {
   "cell_type": "code",
   "execution_count": 5,
   "metadata": {},
   "outputs": [],
   "source": [
    "grab_category.gt_to_linear(categories, ground_truth, file_info)"
   ]
  },
  {
   "cell_type": "code",
   "execution_count": 6,
   "metadata": {},
   "outputs": [],
   "source": [
    "def print_test_stats(predicted_labels, ground_truth, file_info, name):\n",
    "    errors = 0\n",
    "    for i, fi in enumerate(file_info):\n",
    "        if fi.file in ground_truth:\n",
    "            if predicted_labels[i] != ground_truth[fi.file]:\n",
    "                errors += 1\n",
    "            \n",
    "    print(f\"{name} predicted categories:\", Counter(predicted_labels))\n",
    "    print(f\"{errors} / {len(ground_truth)} ({errors / len(ground_truth) * 100}%) {name} errors in GT\")"
   ]
  },
  {
   "cell_type": "code",
   "execution_count": 7,
   "metadata": {},
   "outputs": [
    {
     "data": {
      "application/vnd.jupyter.widget-view+json": {
       "model_id": "2f4d76543a0c40618ff17831734503ba",
       "version_major": 2,
       "version_minor": 0
      },
      "text/plain": [
       "HBox(children=(IntProgress(value=0, description='reassigning labels [ft]', max=5, style=ProgressStyle(descript…"
      ]
     },
     "metadata": {},
     "output_type": "display_data"
    },
    {
     "name": "stdout",
     "output_type": "stream",
     "text": [
      "\n",
      "FastText predicted categories: Counter({'society': 45419, 'sports': 10441, 'economy': 8045, 'other': 7255, 'entertainment': 6335, 'junk': 5818, 'science': 3139, 'technology': 1698})\n",
      "792 / 4043 (19.589413801632453%) FastText errors in GT\n",
      "keywords predicted categories: Counter({'society': 43943, 'sports': 10663, 'economy': 7917, 'other': 7373, 'entertainment': 6405, 'junk': 5603, 'science': 3402, 'technology': 1843, '': 1001})\n",
      "1431 / 4043 (35.394509027949546%) keywords errors in GT\n",
      "FastText predicted categories: Counter({'society': 61709, 'sports': 12322, 'economy': 11455, 'other': 9728, 'entertainment': 7758, 'junk': 6933, 'science': 4052, 'technology': 2041})\n",
      "933 / 4772 (19.551550712489522%) FastText errors in GT\n",
      "FastText predicted categories: Counter({'society': 33332, 'sports': 8815, 'economy': 5608, 'other': 5287, 'entertainment': 4417, 'junk': 4010, 'science': 2419, 'technology': 1515})\n",
      "233 / 1504 (15.492021276595743%) FastText errors in GT\n"
     ]
    }
   ],
   "source": [
    "np.random.seed(3)\n",
    "reassigned_labels = text_nn.reassign_labels_one_dataset_ft(train_texts, categories)\n",
    "\n",
    "print_test_stats(reassigned_labels, ground_truth, file_info, \"FastText\")\n",
    "print_test_stats(kw_categories, ground_truth, file_info, \"keywords\")\n",
    "grab_category.gt_to_linear(reassigned_labels, ground_truth, file_info)\n",
    "\n",
    "part2_pseudolabels = text_nn.fasttext_predict_category(train_texts, reassigned_labels, train_texts2)    \n",
    "print_test_stats(part2_pseudolabels, ground_truth2, file_info2, \"FastText\")\n",
    "grab_category.gt_to_linear(part2_pseudolabels, ground_truth2, file_info2)\n",
    "\n",
    "part3_predicted_labels = text_nn.fasttext_predict_category(train_texts + train_texts2, reassigned_labels + part2_pseudolabels, train_texts3)    \n",
    "print_test_stats(part3_predicted_labels, ground_truth3, file_info3, \"FastText\")"
   ]
  },
  {
   "cell_type": "raw",
   "metadata": {},
   "source": [
    "part3_predicted_labels_tf = text_nn.tf_predict_category(train_texts + train_texts2, reassigned_labels + part2_pseudolabels, train_texts3, verbose=0)\n",
    "print_test_stats(part3_predicted_labels_tf, ground_truth3, file_info3, \"TF\")"
   ]
  },
  {
   "cell_type": "code",
   "execution_count": 8,
   "metadata": {},
   "outputs": [],
   "source": [
    "all_train_texts = train_texts + train_texts2\n",
    "predict_texts = train_texts3\n",
    "train_categories = reassigned_labels + part2_pseudolabels\n",
    "verbose = 1\n",
    "max_words = 7000\n",
    "tokenize = keras.preprocessing.text.Tokenizer(num_words=max_words, char_level=False)\n",
    "tokenize.fit_on_texts(train_texts)  # fit tokenizer to our training text data\n",
    "x_train = tokenize.texts_to_matrix(all_train_texts).astype(np.float32)\n",
    "x_test = tokenize.texts_to_matrix(predict_texts).astype(np.float32)\n",
    "\n",
    "# Use sklearn utility to convert label strings to numbered index\n",
    "encoder = LabelEncoder()\n",
    "encoder.fit(train_categories)\n",
    "y_train_num = encoder.transform(train_categories)\n",
    "\n",
    "# Converts the labels to a one-hot representation\n",
    "num_classes = np.max(y_train_num) + 1\n",
    "y_train = keras.utils.to_categorical(y_train_num, num_classes).astype(np.float32)\n",
    "\n",
    "def ground_truth_idx(ground_truth, file_info):\n",
    "    idx = []\n",
    "    for i, fi in enumerate(file_info):\n",
    "        idx.append(fi.file in ground_truth)\n",
    "        \n",
    "    return idx\n",
    "\n",
    "gt1 = ground_truth_idx(ground_truth, file_info)\n",
    "gt2 = ground_truth_idx(ground_truth2, file_info2)\n",
    "sample_weights = np.array(gt1 + gt2, np.float32) * 4 + 1"
   ]
  },
  {
   "cell_type": "code",
   "execution_count": 9,
   "metadata": {},
   "outputs": [],
   "source": [
    "tokenizer_data = json.loads(tokenize.to_json())\n",
    "word_index = json.loads(tokenizer_data[\"config\"][\"word_index\"])\n",
    "with open(\"data/dictionary_ru.tsv\", \"w\") as f:\n",
    "    for word, index in word_index.items():\n",
    "        if index < max_words:\n",
    "            f.write(f\"{word}\\t{index}\\t{normalizer.idf[word] if word in normalizer.idf else 0}\\n\")\n",
    "            \n",
    "with open(\"data/categories_ru\", \"w\") as f:\n",
    "    for c in encoder.classes_:\n",
    "        f.write(c + \"\\n\")"
   ]
  },
  {
   "cell_type": "code",
   "execution_count": 10,
   "metadata": {},
   "outputs": [
    {
     "name": "stdout",
     "output_type": "stream",
     "text": [
      "Flushing input history\n",
      "Flushing output cache (0 entries)\n",
      "Model: \"sequential\"\n",
      "_________________________________________________________________\n",
      "Layer (type)                 Output Shape              Param #   \n",
      "=================================================================\n",
      "dropout (Dropout)            (None, 7000)              0         \n",
      "_________________________________________________________________\n",
      "dense (Dense)                (None, 512)               3584512   \n",
      "_________________________________________________________________\n",
      "dropout_1 (Dropout)          (None, 512)               0         \n",
      "_________________________________________________________________\n",
      "dense_1 (Dense)              (None, 512)               262656    \n",
      "_________________________________________________________________\n",
      "dropout_2 (Dropout)          (None, 512)               0         \n",
      "_________________________________________________________________\n",
      "dense_2 (Dense)              (None, 8)                 4104      \n",
      "=================================================================\n",
      "Total params: 3,851,272\n",
      "Trainable params: 3,851,272\n",
      "Non-trainable params: 0\n",
      "_________________________________________________________________\n"
     ]
    }
   ],
   "source": [
    "%reset -f in out\n",
    "batch_size = 32\n",
    "epochs = 10\n",
    "drop_ratio = 0.5\n",
    "\n",
    "# Build the model\n",
    "model = models.Sequential()\n",
    "model.add(layers.Dropout(0.4, input_shape=(max_words,)))\n",
    "model.add(layers.Dense(512, use_bias=True, activation=\"relu\"))\n",
    "model.add(layers.Dropout(drop_ratio))\n",
    "model.add(layers.Dense(512, use_bias=True, activation=\"relu\"))\n",
    "model.add(layers.Dropout(drop_ratio))\n",
    "model.add(layers.Dense(num_classes, activation=\"softmax\"))\n",
    "\n",
    "model.compile(loss='categorical_crossentropy',\n",
    "              optimizer=Adam(lr=0.0001),\n",
    "              metrics=['accuracy'])\n",
    "\n",
    "model.summary()"
   ]
  },
  {
   "cell_type": "code",
   "execution_count": 11,
   "metadata": {},
   "outputs": [
    {
     "name": "stdout",
     "output_type": "stream",
     "text": [
      "Train on 204148 samples\n",
      "Epoch 1/10\n",
      "204148/204148 [==============================] - 28s 137us/sample - loss: 0.9224 - accuracy: 0.7373\n",
      "Epoch 2/10\n",
      "204148/204148 [==============================] - 27s 133us/sample - loss: 0.6652 - accuracy: 0.7973\n",
      "Epoch 3/10\n",
      "204148/204148 [==============================] - 27s 133us/sample - loss: 0.5982 - accuracy: 0.8141\n",
      "Epoch 4/10\n",
      "204148/204148 [==============================] - 27s 134us/sample - loss: 0.5589 - accuracy: 0.8225\n",
      "Epoch 5/10\n",
      "204148/204148 [==============================] - 27s 133us/sample - loss: 0.5322 - accuracy: 0.8286\n",
      "Epoch 6/10\n",
      "204148/204148 [==============================] - 27s 133us/sample - loss: 0.5094 - accuracy: 0.8339\n",
      "Epoch 7/10\n",
      "204148/204148 [==============================] - 27s 134us/sample - loss: 0.4920 - accuracy: 0.8392\n",
      "Epoch 8/10\n",
      "204148/204148 [==============================] - 27s 133us/sample - loss: 0.4756 - accuracy: 0.8441\n",
      "Epoch 9/10\n",
      "204148/204148 [==============================] - 27s 133us/sample - loss: 0.4566 - accuracy: 0.8494\n",
      "Epoch 10/10\n",
      "204148/204148 [==============================] - 27s 133us/sample - loss: 0.4430 - accuracy: 0.8542\n"
     ]
    }
   ],
   "source": [
    "# model.fit trains the model\n",
    "#class_weights = class_weight.compute_class_weight('balanced', list(np.unique(y_train_num)), y_train_num)\n",
    "\n",
    "history = model.fit(x_train, y_train,\n",
    "                    batch_size=batch_size,\n",
    "                    epochs=epochs,\n",
    "                    verbose=verbose,\n",
    "                    validation_split=0.0,\n",
    "                    class_weight=None,\n",
    "                    sample_weight=sample_weights)"
   ]
  },
  {
   "cell_type": "code",
   "execution_count": 12,
   "metadata": {},
   "outputs": [
    {
     "name": "stdout",
     "output_type": "stream",
     "text": [
      "TF predicted categories: Counter({'society': 35950, 'sports': 8648, 'economy': 4733, 'entertainment': 4681, 'other': 4066, 'junk': 3096, 'science': 2665, 'technology': 1564})\n",
      "157 / 1504 (10.438829787234043%) TF errors in GT\n"
     ]
    }
   ],
   "source": [
    "# Here's how to generate a prediction on individual examples\n",
    "text_labels = encoder.classes_\n",
    "\n",
    "predictions = model.predict(x_test)\n",
    "predicted_labels = text_labels[np.argmax(predictions, axis=1)]\n",
    "print_test_stats(predicted_labels, ground_truth3, file_info3, \"TF\")"
   ]
  },
  {
   "cell_type": "code",
   "execution_count": 13,
   "metadata": {},
   "outputs": [
    {
     "name": "stdout",
     "output_type": "stream",
     "text": [
      "loading data/keras_model.h5\n",
      "WARNING:tensorflow:No training configuration found in save file: the model was *not* compiled. Compile it manually.\n",
      "Forward pass took 0.051303 s.\n",
      "Forward pass took 0.002445 s.\n",
      "Forward pass took 0.0022 s.\n",
      "Starting performance measurements.\n",
      "Forward pass took 0.00242 s.\n",
      "Forward pass took 0.002405 s.\n",
      "Forward pass took 0.002167 s.\n",
      "Forward pass took 0.0022 s.\n",
      "Forward pass took 0.002319 s.\n",
      "Forward pass took 0.0023022 s on average.\n",
      "Converting model architecture.\n",
      "Converting model weights.\n",
      "Done converting model weights.\n",
      "Calculating model hash.\n",
      "Model conversion finished.\n",
      "writing data/category_model_ru.json\n"
     ]
    }
   ],
   "source": [
    "model.save('data/keras_model.h5', include_optimizer=False)\n",
    "convert_model.convert(\"data/keras_model.h5\", \"data/category_model_ru.json\", no_tests=False)"
   ]
  },
  {
   "cell_type": "code",
   "execution_count": 14,
   "metadata": {},
   "outputs": [
    {
     "name": "stdout",
     "output_type": "stream",
     "text": [
      "TF-C++ predicted categories: Counter({'society': 35950, 'sports': 8648, 'economy': 4733, 'entertainment': 4681, 'other': 4066, 'junk': 3096, 'science': 2665, 'technology': 1564})\n",
      "157 / 1504 (10.438829787234043%) TF-C++ errors in GT\n"
     ]
    }
   ],
   "source": [
    "cpp_predictions3 = news.classify_ru([fi.file for fi in file_info3])\n",
    "print_test_stats(cpp_predictions3, ground_truth3, file_info3, \"TF-C++\")"
   ]
  },
  {
   "cell_type": "code",
   "execution_count": 15,
   "metadata": {},
   "outputs": [
    {
     "name": "stdout",
     "output_type": "stream",
     "text": [
      "\tFT: junk\n",
      "\tTF: science\n",
      "\tsprosi.d3.ru\n",
      "[детский трансплантолог] пересадки почки детям с весом до 9 кг Добрый день. Меня зовут Михаил Каабак. С 1989 года занимаюсь детской трансплантологией. Вместе с моей командой мы разработали уникальные технологии, позволяющие успешно пересаживать почки от взрослых доноров маленьким детям, с весом менее 9 кг. В России трансплантация детям с таким весом... Врач–трансплантолог Михаил Каабак: «Мы будем оставаться с пациентами до тех пор, пока последний из них жив» В ноябре Национальный медицинский исследовательский центр здоровья детей уволил трансплантологов Михаила Каабака и Надежду Бабенко за то, что они использовали п…rtvi.com Добрый день.  Меня зовут Михаил Каабак. С 1989 года занимаюсь детской трансплантологией. Вместе с моей командой мы разработали уникальные технологии, позволяющие успешно пересаживать почки от взрослых доноров маленьким детям, с весом менее 9 кг. В России трансплантация детям с таким весом проводится только нашей командой, другие специалисты рекомендуют детям подрасти. В октябре 2019 в результате многоходовой интриги отстранен от работы. Вместе с пациентами мы боремся за восстановление нашей трансплантационной программы, петиция в нашу поддержку набрала более полумиллиона голосов.  Автор прошёл проверку на подлинность\n",
      "\n",
      "\tFT: science\n",
      "\tTF: science\n",
      "\t4PDA - Новости мира мобильных устройств\n",
      "Исследователи показали концепт капсул для гибернации космонавтов Одной из главных проблем в путешествии к потенциально пригодным для жизни планетам является их отдалённость от Земли. Такой полёт будет длиться гораздо дольше биологической жизни человека. Выходом станет введение астронавтов в состояние гибернации. Европейское космическое агентство показало капсулы для дальних космических полётов. Под гибернацией учёные подразумевают аналогический физиологический процесс, которым пользуются животные, впадающие в зимнюю спячку. Введя космонавтов в искусственный анабиоз, исследователям удалось бы значительно сэкономить на ресурсах и поддержать физическое и психологическое состояние участников экипажа. Сегодня разработки в этом направлении находятся на ранних стадиях, но инженеры решили описать, как могут выглядеть пилотируемые капсулы при использовании этого способа «погружения в сон». Предполагается, что капсулы с мягкой оболочкой на протяжении всего полёта будут поддерживать необходимую прохладу и темноту в течение 180-дневного полёта на Марс и обратно. После гибернации последует 21-дневная фаза восстановления. Участникам потребуется набрать вес перед тем, как будет активирована искусственная спячка. Учитывая, что в течение всего полёта члены экипажа будут спать, управлять космическим кораблём будет искусственный интеллект. Исследователи отметили, что в связи с тем, что по меркам природы 180-дневный срок считается непродолжительным анабиозом, космонавтам не угрожает потеря костной и мышечной массы. Одной из ключевых проблем, с которыми могут столкнуться участники подобного полёта — радиация. В связи с этим гибернационную капсулу будут оснащать системой экранирования. Дополнительную защиту от излучения сможет обеспечить сам организм участника полёта. Использование гибернации позволило бы уменьшить массу космического корабля на треть, удешевив его производство на такую же величину. Расчёты велись для шести членов экипажа и миссии продолжительностью в пять лет. Правда, это лишь концепт и пока что о реализации такого проекта речи не идёт. Тем не менее в NASA полагают, что отправить человека на Марс удастся к 2035 году.\n",
      "\n",
      "\tFT: science\n",
      "\tTF: science\n",
      "\tНовости Мойка78\n",
      "Ученые рассказали, сколько чашек кофе опасны для здоровья Ученые назвали количество чашек кофе, выпитых за день, которые будут опасны для здоровья. Об этом сообщает издание The American Journal of Clinical Nutrition. По данным исследования ученых, если ежедневно употреблять шесть чашек кофе, то это повысит риск развития сердечно-сосудистых заболеваний на 22%, а также скажется негативно на общем состоянии здоровья. Так, кофеин в больших количествах способен поднять артериальное давление, увеличить нагрузку на сердце, сделать человека более нервным. Отмечается также, что умеренное употребление кофе может даже принести пользу организму человека. Ранее «Мойка78» писала, что диетологи назвали грушу самым полезным фруктом для здоровья кишечника. Также фрукт помогает снизить риск развития ожирения и сахарного диабета.\n",
      "\n",
      "\tFT: science\n",
      "\tTF: science\n",
      "\tМТРК «Краснодар»\n",
      "Эксперименты, квесты и лекции: в Краснодаре стартует фестиваль науки NAUKA 0+ Кубань проводится в рамках Всероссийского фестиваля, идея которого – популярно и интересно рассказывать о науке, достижениях ученых, их работе в лабораториях. Фестиваль проводится ежегодно и каждый раз имеет основную тематику. В этом году он посвящен таблице Менделеева. Стоит сказать, что Генеральная ассамблея ООН объявила 2019-й годом Периодической таблицы химических элементов. В Краснодарском крае с 25 по 30 ноября пройдут около 30 мероприятий на базе ведущих вузов и научных организаций Краснодара, Сочи и Армавира. Это разнообразные экскурсии, научные шоу, лекции известных ученых, научные расследования и эксперименты, квесты, лабораторные практикумы и показы научного кино, сообщает пресс-служба краевой администрации. Фестиваль призван вовлечь талантливую молодежь в научно-исследовательскую деятельность. Ранее мы писали, что в краснодарских вузах пройдут Дни научного кино. Школьники из Краснодара победили на научном конкурсе.\n",
      "\n",
      "\tFT: science\n",
      "\tTF: science\n",
      "\tВерсия\n",
      "Горячая вода - сердцу беда: Врачи рассказали, почему зимой нужно мыть руки холодной водой Смертельную опасность может нести и отпаривание ног после улицы. Желание быстрее принять тёплую ванну и расслабиться после сильного мороза на улице может сыграть злую шутку. Горячая вода расширяет сосуды, которые обжигает поступающая кровь. С детства всем говорили зимой мыть руки после улицы только холодной водой. Это кажется абсурдным, лечить обморожение холодом, но результат не заставляет ждать. Когда человек замерзает, у него включается защитная функция, которая собирает тепло вокруг жизненных важных органов. Так происходит и с конечностями, основной кровоток передаётся на внутренние сосуды, а внешние поддаются воздействию холода. Польза холодной воды в том, что она позволяет постепенно открывать сосуды для восстановления нормального кровотока и прогревания конечностей. Врачи рассказали, почему зимой нужно мыть руки холодной водой, и какие последствия могут быть от горячей. Горячая вода для холодных конечностей несёт серьёзную опасность, которая может отразиться и на работе сердца. Она способствует резкому расширению сосудов, по которым поступает горячая кровь от сердца. Эта кровь не только обжигает сосуды и клетки, но и выталкивает холодную кровь конечностей прямиком к сердцу, что чревато его остановкой. Настоящая беда наступает, когда человек после сильного мороза принимает горячую ванну, и холодная кровь со всего тела стремится к сердцу. Врачи советуют после улицы мыть руки только холодной водой, а бороться с обморожением холодной или умеренно тёплой водой. Остановка сердца может стать причиной смерти в любом возрасте.\n",
      "\n",
      "\tFT: science\n",
      "\tTF: science\n",
      "\tМедикФорум\n",
      "Диетолог из Австралии Сьюзи Баррел рассказала, что завтрак должен быть сбалансированным и питательным Завтрак - самый важный прием пищи в течение всего дня, поэтому он должен быть сбалансированным и питательным. Диетолог из Австралии Сьюзи Баррел назвала лучший вариант завтрака для тех, кому важно, чтобы питание было не только вкусным, но и полезным.  Утреннее блюдо должно заряжать энергией на весь день. По мнению специалиста, после пробуждения важно употреблять легкоусвояемую пищу, содержащую витамины и микроэлементы. Для желающих избавиться от лишнего веса лучше отказаться от турецкого хлеба, так как в нем есть от 60 до 80 граммов углеводов на одну порцию, что можно сравнить с тремя или четырьмя кусочками обычного хлеба. Не рекомендуется часто увлекаться сладкими хлопьями и кормить ими детей за завтраком. Они содержат небольшое количество клетчатки, из-за сильной переработки не могут насытить на длительное время. Еще один минус - такая трапеза может вызвать привычку к употреблению сладкого по утрам.  Если дома позавтракать не удалось, то в кафе можно остановить выбор на яйцах с беконом и овощами, но нужно учитывать жирность блюда. Бекон позволяет организму быстро насытиться и получать заряд энергии. Завтраком для лучшего начала утра оказались яйца на тосте. Результаты проведенных исследований показали, что если человек хорошо наедается за завтраком, то он будет меньше переедать на протяжении дня. Если больше нравятся хлопья - следует отдавать предпочтение более качественным и не содержащим сахара. Готовую кашу можно заправить медом, греческим йогуртом, добавить ягоды или сухофрукты. Те, кто не может заставить себя нормально поесть утром, могут обратить внимание на полезный фруктовый салат с творогом и орешками.\n",
      "\n",
      "\tFT: other\n",
      "\tTF: science\n",
      "\tАктуальные новости\n",
      "Российская Зона 51: Пермский край приманивает охотников за пришельцами В последнее время количество туристов-уфологов в Пермском крае значительно увеличилось. Охотники за пришельцами стали массово съезжаться в регион, чтобы обнаружить инопланетную активность, как будто их кто-то приманил. (adsbygoogle = window.adsbygoogle || ).push(); Молебский треугольник в В последнее время количество туристов-уфологов в Пермском крае значительно увеличилось. Охотники за пришельцами стали массово съезжаться в регион, чтобы обнаружить инопланетную активность, как будто их кто-то приманил. Молебский треугольник в Пермском крае был признан журналом Forbes, как одно из самых загадочных мест России. Уфологи ставят регион в одну линию с Бермудским треугольником и Зоной 51, поскольку количество аномальных происшествий в данном месте просто огромное. Последнее время охотники за пришельцами стали массово съезжаться в регион, как будто их туда затягивает невиданная сила. Однако истинная причина аномальной активности туристов в Пермском крае неизвестна. Возможно, любители теории заговоров ждут контакта с инопланетной расой и надеются стать первыми жителями Земли, которым это удастся сделать.   Стоит отметить, Молебский треугольник открыли в 1983 году. В данной местности люди часто теряются и по несколько недель ходят кругами, а пермский геолог обнаружил здесь огромный след странного существа диаметром более 60 метров. Однажды ученые провели эксперимент, поместив в термос часы, который потом оставили на определенное время в загадочном треугольнике. После вскрытия термоса эксперты обнаружили, что устройство отстаёт на пять часов, но объяснить причину данного явления так никто и не смог.   Читайте также\n",
      "\n",
      "\tFT: science\n",
      "\tTF: science\n",
      "\ti24.com.ua\n",
      "Пять ключевых признаков высокого интеллекта Специалисты рассказали, какие особенности в поведении и внешности свидетельствуют о высоком интеллекте человека. Некоторые из них могут показаться довольно необычными Плохое зрение Неожиданно для всех выяснилось, что люди, носящие очки, в большинстве случаев действительно обладают хорошим умом. Теория подтверждается в том случае, если дефект зрения у человека врожденный. Исследователи изучили данные о здоровье и интеллекте более 300 тыс. человек в возрасте от 16 до 102 лет, жителей разных стран и континентов. Выяснилось, что каждый третий испытуемый с высоким уровнем iQ имел плохое качество зрения. Привычка рисовать По словам экспертов, люди, склонные к механическому рисованию в свободное время, обладают более высоким IQ. Это своеобразный способ занять свой мозг даже в нерабочей обстановке. Сильное рукопожатие Так, ученые из Манчестерского университета нашли интересную закономерность: люди, сильнее пожимающие руки при встрече отличаются более развитыми когнитивными навыками. Это доказывает, что между мозгом и мышечной силой существует определенная связь. Жизнь не по графику Недавнее исследование показало, что интеллектуально одаренные люди часто испытывают приливы творческой энергии по ночам, поэтому и бодрствуют вплоть до раннего утра. Замкнутость Проницательность и интуиция свойственна замкнутым в себе людям, ведь они, вместо активного общения, тратят время на анализ поведения и мышления окружающих. Благодаря этому им легче понимать и анализировать разные ситуации, связанные с общением, что позволяет интровертам-меланхоликам легко решать сложнейшие жизненные задачи.\n",
      "\n",
      "\tFT: junk\n",
      "\tTF: science\n",
      "\tТелеграф\n",
      "Создана экофутболка, которая способна заряжать мобильный телефон (Видео) Такая футболка вырабатывает электроэнергию от разницы температур между человеческим телом и окружающей средой. Команда испанских и итальянских ученых создала недорогую футболку. Об этом сообщает пресс-служба Университета Малага (Испания) \"Данное изобретение представляет собой прототип \"электронного текстиля\", созданного на основе недорогих материалов, таких как шкурки помидоров. Сейчас при производстве электронных устройств обычно используются металлы. Этот проект сделал шаг вперед, и мы смогли генерировать электроэнергию, используя легкие, более доступные и менее токсические материалы\", — объясняют ученые. Формула нового изобретения очень проста: вода и этанол — тип экологического спирта, полученный из кожуры томатов с добавлением углеродных наночастиц. При нагревании такое вещество проникает в ткань и прилипает к хлопку, придавая ей таким образом электрические свойства, такие же как те, что образуются теллуром, германием или свинцом. \"Когда кто-то ходит или бежит, он нагревается. Если человек носит футболку с такими характеристиками, разница между его телом и низкой температурой окружающей среды может генерировать электричество\", — отмечают исследователи. Сейчас ученые продолжают свою работу над разработкой устройств, которые могут быть встроены в \"электронный текстиль\", чтобы можно было, например, генерировать свет, сделав владельца такой футболки более заметным в темное время суток, или даже заряжать мобильный телефон без зарядного устройства.\n",
      "\n",
      "\tFT: science\n",
      "\tTF: science\n",
      "\tstrana.ua\n",
      "Женщины могут ощущать толчки младенцев в утробе спустя годы после родов —исследование Опрос женщин в Австралии показал, что часть из них чувствуют фантомные толчки младенцев спустя годы после родов Опрос австралийских женщин показал, что часть из них чувствуют, словно младенец пинает их в живот спустя годы и десятилетия после того, как их беременность закончилась. Об этом сообщает New Scientist. Так, в онлайн-опросе участвовали 197 родивших женщины. Из них 40% испытывали фантомные удары младенцев. В среднем, это продолжалось на протяжении 7 лет после родов. Более того, некоторые из них заявили, что чувствуют подобное ежедневно. Данный феномен оказывает разный эффект. Некоторые участники опроса рассказали о положительных моментах беременности, а другие, кто пережил аборт – о расстройстве. По мнению ученых, это влияет на женскую психику. На данный момент неизвестно, с чем могут быть связаны подобные фантомные удары. Напомним, в Украине впервые провели кесарево сечение, при котором ребенка приняла сама роженица. Во время операции женщина была одновременно пациенткой и ассистентом для врачей. До этого \"Страна\" писала, что в \"Слуге народа\" произошел беби-бум. Арахамия, Юраш и Грищук стали отцами.\n",
      "\n"
     ]
    }
   ],
   "source": [
    "for j in list([i for i in range(len(file_info3)) if predicted_labels[i] == \"science\"])[20:30]:\n",
    "    if file_info3[j].file in ground_truth3:\n",
    "        continue\n",
    "        \n",
    "    print(\"\\tFT: \" + part3_predicted_labels[j])\n",
    "    print(\"\\tTF: \" + predicted_labels[j])\n",
    "    print(\"\\t\" + file_info3[j].site)\n",
    "    print(file_info3[j].text)\n",
    "    print()"
   ]
  },
  {
   "cell_type": "code",
   "execution_count": 16,
   "metadata": {},
   "outputs": [],
   "source": [
    "def cat_words(text):\n",
    "    text = text.lower()\n",
    "    cat_words = {}\n",
    "    for cat, words in category_words.items():\n",
    "        for word in words:\n",
    "            if word in text:\n",
    "                if cat not in cat_words:\n",
    "                    cat_words[cat] = set()\n",
    "\n",
    "                cat_words[cat].add(word)\n",
    "            \n",
    "    return cat_words\n",
    "\n",
    "\n",
    "chosen_cat = \"\"\n",
    "cat_idx = [i for i in range(len(file_info)) if categories[i] == chosen_cat]\n",
    "\n",
    "def print_by_idx(i, file_info):\n",
    "    print(f\"{file_info[i].site} {file_info[i].file}\")\n",
    "    text = file_info[i].text\n",
    "    print(\"\\t\", text)\n",
    "    #print(\"\\t\", \", \".join(word for word, _ in tfidf(text)[:50]))\n",
    "    #print(\"\\t\", categories[i])\n",
    "    #for cat, words in cat_words(text).items():\n",
    "    #    print(f\"\\t\\t{cat}: {' '.join(words)}\")\n",
    "        \n",
    "    print()\n",
    "\n",
    "#for i in np.random.choice(cat_idx, 10):\n",
    "#    print_by_idx(i)"
   ]
  },
  {
   "cell_type": "raw",
   "metadata": {},
   "source": [
    "site_categories = {site: Counter() for _, site, _ in file_info}\n",
    "for (_, site, _), cat in zip(file_info, categories):\n",
    "    site_categories[site][cat] += 1\n",
    "    \n",
    "with open(\"data/site_categories.json\", \"w\") as f:\n",
    "    json.dump(site_categories, f, indent=2)"
   ]
  },
  {
   "cell_type": "raw",
   "metadata": {},
   "source": [
    "site_counts = Counter(site for _, site, _ in file_info)\n",
    "chosen_cat = \"\"\n",
    "for site, count in site_counts.most_common(10):\n",
    "    print(site, count, site_categories[site])\n",
    "    frac = site_categories[site][chosen_cat] / count\n",
    "    if frac < 0.01:\n",
    "        for i in range(len(file_info)):\n",
    "            if file_info[i][1] == site and categories[i] == chosen_cat:\n",
    "                print_by_idx(i)"
   ]
  },
  {
   "cell_type": "raw",
   "metadata": {},
   "source": [
    "with open(\"data/manual_markup_ru\", \"w\") as f:\n",
    "    for j in diff_idx:\n",
    "        i = test_idx[j]\n",
    "        file = file_info[i][2]\n",
    "        if file in ground_truth:\n",
    "            continue\n",
    "        \n",
    "        f.write(f\"FT category: {test_categories[j]}\\n\")\n",
    "        f.write(f\"TF category: {test_categories_tf[j]}\\n\")\n",
    "        f.write(f\"{file_info[i][1]} {file}\\n\")\n",
    "        text = file_info[i][0]\n",
    "        f.write(\"\\t\" + text + \"\\n\")\n",
    "        f.write(\"\\t\" + \", \".join(word for word, _ in tfidf(text)[:50]) + \"\\n\")\n",
    "        f.write(\"\\t\" + categories[i] + \"\\n\")\n",
    "        for cat, words in cat_words(text).items():\n",
    "            f.write(f\"\\t\\t{cat}: {' '.join(words)}\\n\")\n",
    "        \n",
    "        f.write(f\"True label for {file}:\\n\\n\\n\")"
   ]
  },
  {
   "cell_type": "code",
   "execution_count": null,
   "metadata": {},
   "outputs": [],
   "source": []
  },
  {
   "cell_type": "code",
   "execution_count": 17,
   "metadata": {},
   "outputs": [
    {
     "data": {
      "text/plain": [
       "[('Невские Новости', 2451),\n",
       " ('Регион Online', 1552),\n",
       " ('НВ', 1496),\n",
       " ('ФедералПресс', 1348),\n",
       " ('Корреспондент.net', 1291),\n",
       " ('Interfax.ru', 1020),\n",
       " ('charter97.org', 958),\n",
       " ('EADaily', 914),\n",
       " ('РИА Мелитополь', 911),\n",
       " ('Коммерсантъ', 898),\n",
       " ('Фонтанка.ру', 873),\n",
       " ('RT на русском', 871),\n",
       " ('Allhockey.ru', 866),\n",
       " ('РИА Новости', 844),\n",
       " ('Українські Новини', 823)]"
      ]
     },
     "execution_count": 17,
     "metadata": {},
     "output_type": "execute_result"
    }
   ],
   "source": [
    "site_counter = Counter(fi.site for fi in file_info)\n",
    "site_counter.most_common(15)"
   ]
  },
  {
   "cell_type": "raw",
   "metadata": {},
   "source": [
    "for i, (text, site, file) in enumerate(file_info):\n",
    "    if site == \"CAR.RU\" or True:\n",
    "        data = language.read_file(os.path.join(folder_bootstrap, \"all\", file))\n",
    "        url = data[\"url\"]\n",
    "        if re.search(r\"(/|\\d-)kak-|gramota|blogs?\\W|-ili-|-chto-delat-|-stoit-li-|(/|\\d-)pochemu|\\Wobzor|analytics\", url):\n",
    "            print(url, reassigned_labels[i])"
   ]
  },
  {
   "cell_type": "code",
   "execution_count": 18,
   "metadata": {},
   "outputs": [
    {
     "name": "stdout",
     "output_type": "stream",
     "text": [
      "[('CAR.RU', 119), ('Актуальные новости', 60), ('4PDA - Новости мира мобильных устройств', 49), ('ТВОЕ АВТО', 47), ('ВладТайм', 46), ('Русаргумент', 42), ('@ASTERA: Новости IT и финансов', 41), ('3DNews - Daily Digital Digest', 35), ('Автоцентр', 34), ('Телеграф', 32), ('Автоновости дня', 31), ('AKKet', 30), ('Drom.ru', 27), ('iLenta', 24), ('Нью Информ', 20), ('Анонсенс', 20), ('Известия', 20), ('www.zr.ru', 17), ('tvoygorodpskov.ru', 17), ('drive2.ru', 17), ('unionnews.ru', 16), ('110KM', 15), ('Popmech.ru', 15), ('Overclockers.ru', 15), ('Интересные новости OAnews', 14), ('Planet Today', 14), ('Журнал Движок', 14), ('Новости Мойка78', 13), ('Onliner', 13), ('Народные Новости России', 13), ('ITC.ua', 13), ('autoconsulting.com.ua', 13), ('ФБА «Экономика сегодня»', 12), ('Инфореактор', 11), ('RuNews24', 11), ('Лайфхакер', 10), ('Корреспондент.net', 10), ('Andro-News', 10), ('FaceNews', 10), ('VistaNews.ru', 10), ('Код Дурова', 9), ('iXBT.com', 9), ('НВ', 9), ('iPhones.ru', 8), ('Life.ru', 7), ('Информационное агентство RNS', 7), ('golos.ua', 7), ('Фонтанка.ру', 7), ('TEHNOT', 7), ('Новости Украины - From-UA', 7), ('ФАКТИ', 7), ('РИА Новости', 7), ('Авторейтинг', 7), ('РБК', 7), ('Игромания', 6), ('Волгоградская Правда', 6), ('Слово и Дело', 6), ('ubr.ua', 6), ('Wylsacom', 6), ('Украина За рулем', 6), (\"Новости в 'Час Пик'\", 6), ('DGL.RU', 6), ('Телеканал 360°', 6), ('Приморье 24', 5), ('Телеканал «Звезда»', 5), ('www.dp.ru', 5), ('Главное™', 5), ('VladNews', 5), ('Телеканал Дождь', 5), ('Агентство городских новостей «Москва»', 5), ('Keddr', 5), ('lj-top.ru', 5), ('Meduza', 5), ('Вечерний курьер', 5), ('Клопс', 5), ('РИА Мелитополь', 4), ('БНК', 4), ('Российская газета', 4), ('charter97.org', 4), ('discover24', 4), ('appleinsider.ru', 4), ('Privet-Rostov.ru - Главные новости Ростова и Ростовской области', 4), ('Реальное время', 4), ('dev.by', 4), ('Shazoo', 4), ('Vogue UA', 4), ('Авто', 4), ('ПолитЭксперт', 4), ('STATUS QUO', 4), ('Вінницький бізнес портал \"Vinbazar.com\"', 4), ('Соцпортал', 4), ('Android-Robot', 4), ('Мотор', 3), ('HotGeo', 3), ('Правда.Ру', 3), ('Форпост Северо-Запад', 3), ('Fainaidea', 3), ('Инвест-Форсайт', 3), ('rzn.info', 3), ('Областная газета', 3), ('Tengrinews.kz', 3), ('Петербургский дневник', 3), ('Татцентр', 3), ('Yvision', 3), ('www.oreanda.ru', 3), ('INNOV', 3), ('Инфо24', 3), ('Росбалт', 3), ('ПРАЙМ', 3), ('UA.NEWS', 3), ('DonPress', 3), ('Sputnik Беларусь', 3), ('MOS NEWS', 3), ('Суть Событий', 3), ('Трешбокс.ру', 3), ('RusNext', 3), ('nplus1.ru', 3), ('strana.ua', 3), ('Деловая Газета.ЮГ', 3), ('Кубанские Новости', 3), ('66.ru', 3), ('ИА Бел.Ру', 2), ('Капитал', 2), ('Версия', 2), ('Overclockers.ua', 2), ('Обозреватель.Врн', 2), ('URA.RU', 2), ('SmolDaily.ru', 2), ('Город+', 2), ('zakon.kz', 2), ('Interfax.ru', 2), ('NUR.KZ - Свежие новости Казахстана.', 2), ('КУРЬЕР.СРЕДА.Бердск', 2), ('Inc. Russia', 2), ('ИА «Диалог»', 2), ('AIN.UA', 2), ('TJ', 2), ('МОЁ! Белгород', 2), ('www.trust.ua', 2), ('racurs.ua', 2), ('GAMETECH', 2), ('NEWSONE', 2), ('Оди', 2), ('Harper’s Bazaar', 2), ('RIA56', 2), ('РИАМО', 2), ('LB.ua', 2), ('АРБУЗ', 2), ('Твериград', 2), ('Юга.ру', 2), ('Anti-Malware', 2), ('www.trud.ru', 2), ('Накануне.ru', 2), ('Про Город', 2), ('Агентство нефтегазовой информации', 2), ('Невские Новости', 2), ('auto.tut.by', 2), ('3dtoday.ru', 2), ('ГлобалМСК.ру', 2), ('Апостроф', 2), ('www.livekuban.ru', 2), ('Коммерсантъ', 2), ('Пятый канал', 2), ('PRIMPRESS', 2), ('altapress.ru', 2), ('могилевонлайн', 2), ('Green', 2), ('Компьютерное Обозрение', 2), ('nag.ru', 2), ('Регион Online', 2), ('NewGrodno.By', 2), ('UfacityNews.ru', 2), ('ysia.ru', 2), ('InfoResist', 2), ('Ридус', 2), ('lenta.ru', 2), ('НикВести', 1), ('kiev.vgorode.ua', 1), ('LetKnow News', 1), ('Профиль', 1), ('Русский Еврей', 1), ('СеверПост', 1), ('Новости Владивостока и Приморского края - Вести: Приморье', 1), ('Delo.ua', 1), ('ProGamer.Ru', 1), ('vesti.ru', 1), ('Гродненская правда', 1), ('МТРК «Краснодар»', 1), ('Хайтек', 1), ('Slavgorod.com.ua', 1), ('ДорИнфо', 1), ('Панорама', 1), ('polit.ru', 1), ('euronews', 1), ('В городе R - новости городской жизни', 1), ('БИЗНЕС Online', 1), ('Мир фантастики', 1), ('Фраза.юа', 1), ('hi-Tech.ua', 1), ('Родной город', 1), ('ЕНВ', 1), ('Украинская правда', 1), ('The Insider', 1), ('metro', 1), ('Хакасия', 1), ('www.cosmo.ru', 1), ('Вечерний Санкт-Петербург', 1), ('Енисей', 1), ('Петрозаводск ГОВОРИТ', 1), ('Mediasat', 1), ('Городские вести', 1), ('Tproger', 1), ('MySlo', 1), ('future.d3.ru', 1), ('Новости Харькова', 1), ('droider.ru', 1), ('Москва 24', 1), ('Интерфакс-Украина', 1), ('Югополис', 1), ('Reuters', 1), ('GMBOX', 1), ('МИР24', 1), ('ЧГТРК \"Грозный\"', 1), ('РИА «Стрела»', 1), ('Время Н', 1), ('Новый День', 1), ('Мурманский Вестник', 1), ('Восток Медиа', 1), ('SARATOVNEWS.ru', 1), ('inkazan.ru', 1), ('vc.ru', 1), ('News.Ykt.Ru', 1), ('ИноСМИ.Ru', 1), ('ПУНКТ-А', 1), ('Телеканал NTD', 1), ('Деловая столица', 1), ('Elle', 1), ('www.cybersport.ru', 1), ('rspectr.com', 1), ('Область 45', 1), ('Memepedia', 1), ('Computerworld Россия', 1), ('МИГ', 1), ('www.newsvl.ru', 1), ('«Бумага»', 1), ('Южноуральская панорама', 1), ('PRO ГОРОД', 1), ('Vologda-poisk.ru', 1), ('Урал56.Ру', 1), ('Парламентская Газета', 1), ('МедикФорум', 1), ('Волжская коммуна', 1), ('42.tut.by', 1), ('BFM.ru', 1), ('Odessa1.com', 1), ('tv.ua', 1), ('img.d3.ru', 1), ('RT на русском', 1), ('НоябрьскИнформ', 1), ('Четвертая Власть', 1), ('Брянск Today', 1), ('EURO.com.ua', 1), ('Повестка дня', 1), ('DTF', 1), ('Телеканал Царьград', 1), ('КРЫМ.NEWS', 1), ('Интернет-газета Karpovka.com', 1), ('www.f1news.ru', 1), ('Тульская Служба Новостей', 1), ('Wonderzine', 1), ('НИА «Нижний Новгород»', 1), ('Главный региональный', 1), ('Susanin', 1), ('368.media', 1), ('Пенза-пресс', 1), ('Клерк', 1)]\n"
     ]
    }
   ],
   "source": [
    "selected_sites = Counter()\n",
    "for i, fi in enumerate(file_info3):\n",
    "    if predicted_labels[i] == \"technology\":\n",
    "        selected_sites[fi.site] += 1\n",
    "        \n",
    "print(selected_sites.most_common())"
   ]
  },
  {
   "cell_type": "code",
   "execution_count": null,
   "metadata": {},
   "outputs": [],
   "source": []
  }
 ],
 "metadata": {
  "kernelspec": {
   "display_name": "Python 3",
   "language": "python",
   "name": "python3"
  },
  "language_info": {
   "codemirror_mode": {
    "name": "ipython",
    "version": 3
   },
   "file_extension": ".py",
   "mimetype": "text/x-python",
   "name": "python",
   "nbconvert_exporter": "python",
   "pygments_lexer": "ipython3",
   "version": "3.7.0"
  }
 },
 "nbformat": 4,
 "nbformat_minor": 4
}
